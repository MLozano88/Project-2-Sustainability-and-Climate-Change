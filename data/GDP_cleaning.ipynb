{
 "cells": [
  {
   "cell_type": "code",
   "execution_count": 2,
   "metadata": {},
   "outputs": [
    {
     "output_type": "execute_result",
     "data": {
      "text/plain": [
       "  Country Name Country Code                    Indicator Name  \\\n",
       "0        Aruba          ABW  GDP per capita growth (annual %)   \n",
       "1  Afghanistan          AFG  GDP per capita growth (annual %)   \n",
       "2       Angola          AGO  GDP per capita growth (annual %)   \n",
       "3      Albania          ALB  GDP per capita growth (annual %)   \n",
       "4      Andorra          AND  GDP per capita growth (annual %)   \n",
       "\n",
       "      Indicator Code  1960  1961  1962  1963  1964  1965  ...      2011  \\\n",
       "0  NY.GDP.PCAP.KD.ZG   NaN   NaN   NaN   NaN   NaN   NaN  ...  3.063882   \n",
       "1  NY.GDP.PCAP.KD.ZG   NaN   NaN   NaN   NaN   NaN   NaN  ... -2.681081   \n",
       "2  NY.GDP.PCAP.KD.ZG   NaN   NaN   NaN   NaN   NaN   NaN  ... -0.220851   \n",
       "3  NY.GDP.PCAP.KD.ZG   NaN   NaN   NaN   NaN   NaN   NaN  ...  2.821558   \n",
       "4  NY.GDP.PCAP.KD.ZG   NaN   NaN   NaN   NaN   NaN   NaN  ...  0.830102   \n",
       "\n",
       "       2012      2013      2014      2015      2016      2017      2018  \\\n",
       "0 -1.864168  3.593198 -0.294412  5.125616  1.583035  1.521780       NaN   \n",
       "1  8.974880  1.974169 -0.665271 -1.622887 -0.541697  0.064250 -1.195347   \n",
       "2  4.706498  1.292041  1.219835 -2.468719 -5.816191 -3.409909 -5.162102   \n",
       "3  1.585156  1.187204  1.985426  2.516853  3.480117  3.897711  4.328396   \n",
       "4 -3.452688 -1.573746  4.524456  2.997046  4.667655  0.731813  1.582169   \n",
       "\n",
       "       2019  2020  \n",
       "0       NaN   NaN  \n",
       "1  1.536912   NaN  \n",
       "2 -3.795674   NaN  \n",
       "3  2.676550   NaN  \n",
       "4  1.669680   NaN  \n",
       "\n",
       "[5 rows x 65 columns]"
      ],
      "text/html": "<div>\n<style scoped>\n    .dataframe tbody tr th:only-of-type {\n        vertical-align: middle;\n    }\n\n    .dataframe tbody tr th {\n        vertical-align: top;\n    }\n\n    .dataframe thead th {\n        text-align: right;\n    }\n</style>\n<table border=\"1\" class=\"dataframe\">\n  <thead>\n    <tr style=\"text-align: right;\">\n      <th></th>\n      <th>Country Name</th>\n      <th>Country Code</th>\n      <th>Indicator Name</th>\n      <th>Indicator Code</th>\n      <th>1960</th>\n      <th>1961</th>\n      <th>1962</th>\n      <th>1963</th>\n      <th>1964</th>\n      <th>1965</th>\n      <th>...</th>\n      <th>2011</th>\n      <th>2012</th>\n      <th>2013</th>\n      <th>2014</th>\n      <th>2015</th>\n      <th>2016</th>\n      <th>2017</th>\n      <th>2018</th>\n      <th>2019</th>\n      <th>2020</th>\n    </tr>\n  </thead>\n  <tbody>\n    <tr>\n      <th>0</th>\n      <td>Aruba</td>\n      <td>ABW</td>\n      <td>GDP per capita growth (annual %)</td>\n      <td>NY.GDP.PCAP.KD.ZG</td>\n      <td>NaN</td>\n      <td>NaN</td>\n      <td>NaN</td>\n      <td>NaN</td>\n      <td>NaN</td>\n      <td>NaN</td>\n      <td>...</td>\n      <td>3.063882</td>\n      <td>-1.864168</td>\n      <td>3.593198</td>\n      <td>-0.294412</td>\n      <td>5.125616</td>\n      <td>1.583035</td>\n      <td>1.521780</td>\n      <td>NaN</td>\n      <td>NaN</td>\n      <td>NaN</td>\n    </tr>\n    <tr>\n      <th>1</th>\n      <td>Afghanistan</td>\n      <td>AFG</td>\n      <td>GDP per capita growth (annual %)</td>\n      <td>NY.GDP.PCAP.KD.ZG</td>\n      <td>NaN</td>\n      <td>NaN</td>\n      <td>NaN</td>\n      <td>NaN</td>\n      <td>NaN</td>\n      <td>NaN</td>\n      <td>...</td>\n      <td>-2.681081</td>\n      <td>8.974880</td>\n      <td>1.974169</td>\n      <td>-0.665271</td>\n      <td>-1.622887</td>\n      <td>-0.541697</td>\n      <td>0.064250</td>\n      <td>-1.195347</td>\n      <td>1.536912</td>\n      <td>NaN</td>\n    </tr>\n    <tr>\n      <th>2</th>\n      <td>Angola</td>\n      <td>AGO</td>\n      <td>GDP per capita growth (annual %)</td>\n      <td>NY.GDP.PCAP.KD.ZG</td>\n      <td>NaN</td>\n      <td>NaN</td>\n      <td>NaN</td>\n      <td>NaN</td>\n      <td>NaN</td>\n      <td>NaN</td>\n      <td>...</td>\n      <td>-0.220851</td>\n      <td>4.706498</td>\n      <td>1.292041</td>\n      <td>1.219835</td>\n      <td>-2.468719</td>\n      <td>-5.816191</td>\n      <td>-3.409909</td>\n      <td>-5.162102</td>\n      <td>-3.795674</td>\n      <td>NaN</td>\n    </tr>\n    <tr>\n      <th>3</th>\n      <td>Albania</td>\n      <td>ALB</td>\n      <td>GDP per capita growth (annual %)</td>\n      <td>NY.GDP.PCAP.KD.ZG</td>\n      <td>NaN</td>\n      <td>NaN</td>\n      <td>NaN</td>\n      <td>NaN</td>\n      <td>NaN</td>\n      <td>NaN</td>\n      <td>...</td>\n      <td>2.821558</td>\n      <td>1.585156</td>\n      <td>1.187204</td>\n      <td>1.985426</td>\n      <td>2.516853</td>\n      <td>3.480117</td>\n      <td>3.897711</td>\n      <td>4.328396</td>\n      <td>2.676550</td>\n      <td>NaN</td>\n    </tr>\n    <tr>\n      <th>4</th>\n      <td>Andorra</td>\n      <td>AND</td>\n      <td>GDP per capita growth (annual %)</td>\n      <td>NY.GDP.PCAP.KD.ZG</td>\n      <td>NaN</td>\n      <td>NaN</td>\n      <td>NaN</td>\n      <td>NaN</td>\n      <td>NaN</td>\n      <td>NaN</td>\n      <td>...</td>\n      <td>0.830102</td>\n      <td>-3.452688</td>\n      <td>-1.573746</td>\n      <td>4.524456</td>\n      <td>2.997046</td>\n      <td>4.667655</td>\n      <td>0.731813</td>\n      <td>1.582169</td>\n      <td>1.669680</td>\n      <td>NaN</td>\n    </tr>\n  </tbody>\n</table>\n<p>5 rows × 65 columns</p>\n</div>"
     },
     "metadata": {},
     "execution_count": 2
    }
   ],
   "source": [
    "# Dependencies and Setup\n",
    "import pandas as pd\n",
    "import numpy as np\n",
    "\n",
    "# Loading raw data\n",
    "data = pd.read_csv('GDPpercapita-data.csv', error_bad_lines=False)\n",
    "data.head()"
   ]
  },
  {
   "cell_type": "code",
   "execution_count": 3,
   "metadata": {},
   "outputs": [
    {
     "output_type": "execute_result",
     "data": {
      "text/plain": [
       "  Country Name Country Code                    Indicator Name      2000  \\\n",
       "0        Aruba          ABW  GDP per capita growth (annual %)  5.427608   \n",
       "1  Afghanistan          AFG  GDP per capita growth (annual %)       NaN   \n",
       "2       Angola          AGO  GDP per capita growth (annual %) -0.267945   \n",
       "3      Albania          ALB  GDP per capita growth (annual %)  7.633866   \n",
       "4      Andorra          AND  GDP per capita growth (annual %)  1.913452   \n",
       "\n",
       "       2001      2002      2003      2004       2005      2006       2007  \\\n",
       "0 -5.107188 -5.405878 -0.152951  6.031742  -0.094958  0.245883   1.410010   \n",
       "1       NaN       NaN  3.868362 -2.875184   7.207933  2.253357  11.022774   \n",
       "2  0.822114  9.943764 -0.431851  7.187036  11.030836  7.582329   9.890012   \n",
       "3  9.311124  4.853922  5.925630  5.951881   6.071391  6.570332   6.783927   \n",
       "4  4.986929  0.504741  4.040888  3.792889   1.892421  2.057546  -0.523712   \n",
       "\n",
       "       2008       2009       2010      2011      2012      2013      2014  \\\n",
       "0 -0.224764 -10.605300  -3.887760  3.063882 -1.864168  3.593198 -0.294412   \n",
       "1  1.594211  18.515369  11.264133 -2.681081  8.974880  1.974169 -0.665271   \n",
       "2  7.116873  -2.808634   0.640294 -0.220851  4.706498  1.292041  1.219835   \n",
       "3  8.328036   4.048888   4.223038  2.821558  1.585156  1.187204  1.985426   \n",
       "4 -6.885786  -5.976668  -1.958707  0.830102 -3.452688 -1.573746  4.524456   \n",
       "\n",
       "       2015  \n",
       "0  5.125616  \n",
       "1 -1.622887  \n",
       "2 -2.468719  \n",
       "3  2.516853  \n",
       "4  2.997046  "
      ],
      "text/html": "<div>\n<style scoped>\n    .dataframe tbody tr th:only-of-type {\n        vertical-align: middle;\n    }\n\n    .dataframe tbody tr th {\n        vertical-align: top;\n    }\n\n    .dataframe thead th {\n        text-align: right;\n    }\n</style>\n<table border=\"1\" class=\"dataframe\">\n  <thead>\n    <tr style=\"text-align: right;\">\n      <th></th>\n      <th>Country Name</th>\n      <th>Country Code</th>\n      <th>Indicator Name</th>\n      <th>2000</th>\n      <th>2001</th>\n      <th>2002</th>\n      <th>2003</th>\n      <th>2004</th>\n      <th>2005</th>\n      <th>2006</th>\n      <th>2007</th>\n      <th>2008</th>\n      <th>2009</th>\n      <th>2010</th>\n      <th>2011</th>\n      <th>2012</th>\n      <th>2013</th>\n      <th>2014</th>\n      <th>2015</th>\n    </tr>\n  </thead>\n  <tbody>\n    <tr>\n      <th>0</th>\n      <td>Aruba</td>\n      <td>ABW</td>\n      <td>GDP per capita growth (annual %)</td>\n      <td>5.427608</td>\n      <td>-5.107188</td>\n      <td>-5.405878</td>\n      <td>-0.152951</td>\n      <td>6.031742</td>\n      <td>-0.094958</td>\n      <td>0.245883</td>\n      <td>1.410010</td>\n      <td>-0.224764</td>\n      <td>-10.605300</td>\n      <td>-3.887760</td>\n      <td>3.063882</td>\n      <td>-1.864168</td>\n      <td>3.593198</td>\n      <td>-0.294412</td>\n      <td>5.125616</td>\n    </tr>\n    <tr>\n      <th>1</th>\n      <td>Afghanistan</td>\n      <td>AFG</td>\n      <td>GDP per capita growth (annual %)</td>\n      <td>NaN</td>\n      <td>NaN</td>\n      <td>NaN</td>\n      <td>3.868362</td>\n      <td>-2.875184</td>\n      <td>7.207933</td>\n      <td>2.253357</td>\n      <td>11.022774</td>\n      <td>1.594211</td>\n      <td>18.515369</td>\n      <td>11.264133</td>\n      <td>-2.681081</td>\n      <td>8.974880</td>\n      <td>1.974169</td>\n      <td>-0.665271</td>\n      <td>-1.622887</td>\n    </tr>\n    <tr>\n      <th>2</th>\n      <td>Angola</td>\n      <td>AGO</td>\n      <td>GDP per capita growth (annual %)</td>\n      <td>-0.267945</td>\n      <td>0.822114</td>\n      <td>9.943764</td>\n      <td>-0.431851</td>\n      <td>7.187036</td>\n      <td>11.030836</td>\n      <td>7.582329</td>\n      <td>9.890012</td>\n      <td>7.116873</td>\n      <td>-2.808634</td>\n      <td>0.640294</td>\n      <td>-0.220851</td>\n      <td>4.706498</td>\n      <td>1.292041</td>\n      <td>1.219835</td>\n      <td>-2.468719</td>\n    </tr>\n    <tr>\n      <th>3</th>\n      <td>Albania</td>\n      <td>ALB</td>\n      <td>GDP per capita growth (annual %)</td>\n      <td>7.633866</td>\n      <td>9.311124</td>\n      <td>4.853922</td>\n      <td>5.925630</td>\n      <td>5.951881</td>\n      <td>6.071391</td>\n      <td>6.570332</td>\n      <td>6.783927</td>\n      <td>8.328036</td>\n      <td>4.048888</td>\n      <td>4.223038</td>\n      <td>2.821558</td>\n      <td>1.585156</td>\n      <td>1.187204</td>\n      <td>1.985426</td>\n      <td>2.516853</td>\n    </tr>\n    <tr>\n      <th>4</th>\n      <td>Andorra</td>\n      <td>AND</td>\n      <td>GDP per capita growth (annual %)</td>\n      <td>1.913452</td>\n      <td>4.986929</td>\n      <td>0.504741</td>\n      <td>4.040888</td>\n      <td>3.792889</td>\n      <td>1.892421</td>\n      <td>2.057546</td>\n      <td>-0.523712</td>\n      <td>-6.885786</td>\n      <td>-5.976668</td>\n      <td>-1.958707</td>\n      <td>0.830102</td>\n      <td>-3.452688</td>\n      <td>-1.573746</td>\n      <td>4.524456</td>\n      <td>2.997046</td>\n    </tr>\n  </tbody>\n</table>\n</div>"
     },
     "metadata": {},
     "execution_count": 3
    }
   ],
   "source": [
    "columns_to_keep = [\"Country Name\", \"Country Code\", \"Indicator Name\", \"2000\", \"2001\", \"2002\", \"2003\", \"2004\", \"2005\", \"2006\", \"2007\", \"2008\", \"2009\", \"2010\", \"2011\", \"2012\", \"2013\", \"2014\", \"2015\"]\n",
    "\n",
    "Organized_df = data[columns_to_keep]\n",
    "Organized_df.head()"
   ]
  },
  {
   "cell_type": "code",
   "execution_count": 4,
   "metadata": {},
   "outputs": [
    {
     "output_type": "execute_result",
     "data": {
      "text/plain": [
       "  Country Name Country Code                    Indicator Name      2000  \\\n",
       "0        Aruba          ABW  GDP per capita growth (annual %)  5.427608   \n",
       "2       Angola          AGO  GDP per capita growth (annual %) -0.267945   \n",
       "3      Albania          ALB  GDP per capita growth (annual %)  7.633866   \n",
       "4      Andorra          AND  GDP per capita growth (annual %)  1.913452   \n",
       "5   Arab World          ARB  GDP per capita growth (annual %)  3.272927   \n",
       "\n",
       "       2001      2002      2003      2004       2005      2006      2007  \\\n",
       "0 -5.107188 -5.405878 -0.152951  6.031742  -0.094958  0.245883  1.410010   \n",
       "2  0.822114  9.943764 -0.431851  7.187036  11.030836  7.582329  9.890012   \n",
       "3  9.311124  4.853922  5.925630  5.951881   6.071391  6.570332  6.783927   \n",
       "4  4.986929  0.504741  4.040888  3.792889   1.892421  2.057546 -0.523712   \n",
       "5 -0.579991 -1.557380  3.063164  6.976221   3.362640  4.028851  2.043404   \n",
       "\n",
       "       2008       2009      2010      2011      2012      2013      2014  \\\n",
       "0 -0.224764 -10.605300 -3.887760  3.063882 -1.864168  3.593198 -0.294412   \n",
       "2  7.116873  -2.808634  0.640294 -0.220851  4.706498  1.292041  1.219835   \n",
       "3  8.328036   4.048888  4.223038  2.821558  1.585156  1.187204  1.985426   \n",
       "4 -6.885786  -5.976668 -1.958707  0.830102 -3.452688 -1.573746  4.524456   \n",
       "5  3.276814  -1.965237  2.231819  1.386670  4.283180  1.039802  0.337680   \n",
       "\n",
       "       2015  \n",
       "0  5.125616  \n",
       "2 -2.468719  \n",
       "3  2.516853  \n",
       "4  2.997046  \n",
       "5  1.126316  "
      ],
      "text/html": "<div>\n<style scoped>\n    .dataframe tbody tr th:only-of-type {\n        vertical-align: middle;\n    }\n\n    .dataframe tbody tr th {\n        vertical-align: top;\n    }\n\n    .dataframe thead th {\n        text-align: right;\n    }\n</style>\n<table border=\"1\" class=\"dataframe\">\n  <thead>\n    <tr style=\"text-align: right;\">\n      <th></th>\n      <th>Country Name</th>\n      <th>Country Code</th>\n      <th>Indicator Name</th>\n      <th>2000</th>\n      <th>2001</th>\n      <th>2002</th>\n      <th>2003</th>\n      <th>2004</th>\n      <th>2005</th>\n      <th>2006</th>\n      <th>2007</th>\n      <th>2008</th>\n      <th>2009</th>\n      <th>2010</th>\n      <th>2011</th>\n      <th>2012</th>\n      <th>2013</th>\n      <th>2014</th>\n      <th>2015</th>\n    </tr>\n  </thead>\n  <tbody>\n    <tr>\n      <th>0</th>\n      <td>Aruba</td>\n      <td>ABW</td>\n      <td>GDP per capita growth (annual %)</td>\n      <td>5.427608</td>\n      <td>-5.107188</td>\n      <td>-5.405878</td>\n      <td>-0.152951</td>\n      <td>6.031742</td>\n      <td>-0.094958</td>\n      <td>0.245883</td>\n      <td>1.410010</td>\n      <td>-0.224764</td>\n      <td>-10.605300</td>\n      <td>-3.887760</td>\n      <td>3.063882</td>\n      <td>-1.864168</td>\n      <td>3.593198</td>\n      <td>-0.294412</td>\n      <td>5.125616</td>\n    </tr>\n    <tr>\n      <th>2</th>\n      <td>Angola</td>\n      <td>AGO</td>\n      <td>GDP per capita growth (annual %)</td>\n      <td>-0.267945</td>\n      <td>0.822114</td>\n      <td>9.943764</td>\n      <td>-0.431851</td>\n      <td>7.187036</td>\n      <td>11.030836</td>\n      <td>7.582329</td>\n      <td>9.890012</td>\n      <td>7.116873</td>\n      <td>-2.808634</td>\n      <td>0.640294</td>\n      <td>-0.220851</td>\n      <td>4.706498</td>\n      <td>1.292041</td>\n      <td>1.219835</td>\n      <td>-2.468719</td>\n    </tr>\n    <tr>\n      <th>3</th>\n      <td>Albania</td>\n      <td>ALB</td>\n      <td>GDP per capita growth (annual %)</td>\n      <td>7.633866</td>\n      <td>9.311124</td>\n      <td>4.853922</td>\n      <td>5.925630</td>\n      <td>5.951881</td>\n      <td>6.071391</td>\n      <td>6.570332</td>\n      <td>6.783927</td>\n      <td>8.328036</td>\n      <td>4.048888</td>\n      <td>4.223038</td>\n      <td>2.821558</td>\n      <td>1.585156</td>\n      <td>1.187204</td>\n      <td>1.985426</td>\n      <td>2.516853</td>\n    </tr>\n    <tr>\n      <th>4</th>\n      <td>Andorra</td>\n      <td>AND</td>\n      <td>GDP per capita growth (annual %)</td>\n      <td>1.913452</td>\n      <td>4.986929</td>\n      <td>0.504741</td>\n      <td>4.040888</td>\n      <td>3.792889</td>\n      <td>1.892421</td>\n      <td>2.057546</td>\n      <td>-0.523712</td>\n      <td>-6.885786</td>\n      <td>-5.976668</td>\n      <td>-1.958707</td>\n      <td>0.830102</td>\n      <td>-3.452688</td>\n      <td>-1.573746</td>\n      <td>4.524456</td>\n      <td>2.997046</td>\n    </tr>\n    <tr>\n      <th>5</th>\n      <td>Arab World</td>\n      <td>ARB</td>\n      <td>GDP per capita growth (annual %)</td>\n      <td>3.272927</td>\n      <td>-0.579991</td>\n      <td>-1.557380</td>\n      <td>3.063164</td>\n      <td>6.976221</td>\n      <td>3.362640</td>\n      <td>4.028851</td>\n      <td>2.043404</td>\n      <td>3.276814</td>\n      <td>-1.965237</td>\n      <td>2.231819</td>\n      <td>1.386670</td>\n      <td>4.283180</td>\n      <td>1.039802</td>\n      <td>0.337680</td>\n      <td>1.126316</td>\n    </tr>\n  </tbody>\n</table>\n</div>"
     },
     "metadata": {},
     "execution_count": 4
    }
   ],
   "source": [
    "GDP_data = Organized_df.dropna()\n",
    "GDP_data.head()"
   ]
  },
  {
   "cell_type": "code",
   "execution_count": null,
   "metadata": {},
   "outputs": [],
   "source": []
  }
 ],
 "metadata": {
  "kernelspec": {
   "display_name": "Python 3",
   "language": "python",
   "name": "python3"
  },
  "language_info": {
   "codemirror_mode": {
    "name": "ipython",
    "version": 3
   },
   "file_extension": ".py",
   "mimetype": "text/x-python",
   "name": "python",
   "nbconvert_exporter": "python",
   "pygments_lexer": "ipython3",
   "version": "3.8.3-final"
  }
 },
 "nbformat": 4,
 "nbformat_minor": 4
}