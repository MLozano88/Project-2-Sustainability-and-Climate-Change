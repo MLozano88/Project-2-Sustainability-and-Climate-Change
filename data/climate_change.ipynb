{
 "cells": [
  {
   "cell_type": "code",
   "execution_count": 1,
   "metadata": {},
   "outputs": [],
   "source": [
    "# Dependencies and Setup\n",
    "import pandas as pd\n",
    "import numpy as np\n"
   ]
  },
  {
   "source": [
    "## Get Top 20 Countries that produced the most CO2 emissions (2015)"
   ],
   "cell_type": "markdown",
   "metadata": {}
  },
  {
   "cell_type": "code",
   "execution_count": 2,
   "metadata": {},
   "outputs": [],
   "source": [
    "# Loading cleaned CO2 emissions data \n",
    "data = pd.read_csv('Cleaned_CO2.csv')\n"
   ]
  },
  {
   "cell_type": "code",
   "execution_count": 3,
   "metadata": {},
   "outputs": [
    {
     "output_type": "execute_result",
     "data": {
      "text/plain": [
       "  Country Code        Country Name      Indicator Name         2000  \\\n",
       "0          CHN               China  CO2 emissions (kt)  3405179.867   \n",
       "1          USA       United States  CO2 emissions (kt)  5693684.894   \n",
       "2          IND               India  CO2 emissions (kt)  1031853.463   \n",
       "3          RUS  Russian Federation  CO2 emissions (kt)  1557899.281   \n",
       "4          JPN               Japan  CO2 emissions (kt)  1219281.167   \n",
       "\n",
       "          2001         2002         2003         2004         2005  \\\n",
       "0  3487566.356  3850269.326  4540417.061  5233538.733  5896957.705   \n",
       "1  5595794.329  5641309.133  5675701.926  5756075.232  5789727.291   \n",
       "2  1041152.975  1054258.833  1099597.621  1154320.262  1222563.132   \n",
       "3  1557506.912  1557085.207  1604242.827  1602115.967  1615089.813   \n",
       "4  1201331.202  1218980.473  1240953.137  1262394.086  1240945.803   \n",
       "\n",
       "          2006         2007         2008         2009         2010  \\\n",
       "0  6529291.518  6697654.489  7553070.247  7557789.676  8776040.416   \n",
       "1  5697285.888  5789030.561  5614110.994  5263505.457  5395532.125   \n",
       "2  1303717.509  1407607.286  1568379.567  1738645.711  1719690.988   \n",
       "3  1669262.404  1666886.188  1714978.893  1574045.082  1670531.186   \n",
       "4  1234755.907  1251554.434  1211756.483  1105314.474  1172611.258   \n",
       "\n",
       "          2011          2012          2013          2014          2015  \n",
       "0  9733538.120  1.002857e+07  1.025801e+07  1.029193e+07  1.014500e+07  \n",
       "1  5270047.385  5.082000e+06  5.170360e+06  5.225413e+06  5.126913e+06  \n",
       "2  1836561.945  2.013788e+06  2.030972e+06  2.232730e+06  2.337749e+06  \n",
       "3  1763405.295  1.807244e+06  1.739427e+06  1.736985e+06  1.698213e+06  \n",
       "4  1190469.548  1.229622e+06  1.244616e+06  1.206674e+06  1.163803e+06  "
      ],
      "text/html": "<div>\n<style scoped>\n    .dataframe tbody tr th:only-of-type {\n        vertical-align: middle;\n    }\n\n    .dataframe tbody tr th {\n        vertical-align: top;\n    }\n\n    .dataframe thead th {\n        text-align: right;\n    }\n</style>\n<table border=\"1\" class=\"dataframe\">\n  <thead>\n    <tr style=\"text-align: right;\">\n      <th></th>\n      <th>Country Code</th>\n      <th>Country Name</th>\n      <th>Indicator Name</th>\n      <th>2000</th>\n      <th>2001</th>\n      <th>2002</th>\n      <th>2003</th>\n      <th>2004</th>\n      <th>2005</th>\n      <th>2006</th>\n      <th>2007</th>\n      <th>2008</th>\n      <th>2009</th>\n      <th>2010</th>\n      <th>2011</th>\n      <th>2012</th>\n      <th>2013</th>\n      <th>2014</th>\n      <th>2015</th>\n    </tr>\n  </thead>\n  <tbody>\n    <tr>\n      <th>0</th>\n      <td>CHN</td>\n      <td>China</td>\n      <td>CO2 emissions (kt)</td>\n      <td>3405179.867</td>\n      <td>3487566.356</td>\n      <td>3850269.326</td>\n      <td>4540417.061</td>\n      <td>5233538.733</td>\n      <td>5896957.705</td>\n      <td>6529291.518</td>\n      <td>6697654.489</td>\n      <td>7553070.247</td>\n      <td>7557789.676</td>\n      <td>8776040.416</td>\n      <td>9733538.120</td>\n      <td>1.002857e+07</td>\n      <td>1.025801e+07</td>\n      <td>1.029193e+07</td>\n      <td>1.014500e+07</td>\n    </tr>\n    <tr>\n      <th>1</th>\n      <td>USA</td>\n      <td>United States</td>\n      <td>CO2 emissions (kt)</td>\n      <td>5693684.894</td>\n      <td>5595794.329</td>\n      <td>5641309.133</td>\n      <td>5675701.926</td>\n      <td>5756075.232</td>\n      <td>5789727.291</td>\n      <td>5697285.888</td>\n      <td>5789030.561</td>\n      <td>5614110.994</td>\n      <td>5263505.457</td>\n      <td>5395532.125</td>\n      <td>5270047.385</td>\n      <td>5.082000e+06</td>\n      <td>5.170360e+06</td>\n      <td>5.225413e+06</td>\n      <td>5.126913e+06</td>\n    </tr>\n    <tr>\n      <th>2</th>\n      <td>IND</td>\n      <td>India</td>\n      <td>CO2 emissions (kt)</td>\n      <td>1031853.463</td>\n      <td>1041152.975</td>\n      <td>1054258.833</td>\n      <td>1099597.621</td>\n      <td>1154320.262</td>\n      <td>1222563.132</td>\n      <td>1303717.509</td>\n      <td>1407607.286</td>\n      <td>1568379.567</td>\n      <td>1738645.711</td>\n      <td>1719690.988</td>\n      <td>1836561.945</td>\n      <td>2.013788e+06</td>\n      <td>2.030972e+06</td>\n      <td>2.232730e+06</td>\n      <td>2.337749e+06</td>\n    </tr>\n    <tr>\n      <th>3</th>\n      <td>RUS</td>\n      <td>Russian Federation</td>\n      <td>CO2 emissions (kt)</td>\n      <td>1557899.281</td>\n      <td>1557506.912</td>\n      <td>1557085.207</td>\n      <td>1604242.827</td>\n      <td>1602115.967</td>\n      <td>1615089.813</td>\n      <td>1669262.404</td>\n      <td>1666886.188</td>\n      <td>1714978.893</td>\n      <td>1574045.082</td>\n      <td>1670531.186</td>\n      <td>1763405.295</td>\n      <td>1.807244e+06</td>\n      <td>1.739427e+06</td>\n      <td>1.736985e+06</td>\n      <td>1.698213e+06</td>\n    </tr>\n    <tr>\n      <th>4</th>\n      <td>JPN</td>\n      <td>Japan</td>\n      <td>CO2 emissions (kt)</td>\n      <td>1219281.167</td>\n      <td>1201331.202</td>\n      <td>1218980.473</td>\n      <td>1240953.137</td>\n      <td>1262394.086</td>\n      <td>1240945.803</td>\n      <td>1234755.907</td>\n      <td>1251554.434</td>\n      <td>1211756.483</td>\n      <td>1105314.474</td>\n      <td>1172611.258</td>\n      <td>1190469.548</td>\n      <td>1.229622e+06</td>\n      <td>1.244616e+06</td>\n      <td>1.206674e+06</td>\n      <td>1.163803e+06</td>\n    </tr>\n  </tbody>\n</table>\n</div>"
     },
     "metadata": {},
     "execution_count": 3
    }
   ],
   "source": [
    "# Slice top 20 countries with highest CO2 emissions -- USE THIS CHART TO FIND TOP 20 CO2 EMISSION DATA \n",
    "top20_CO2df = data.nlargest(20, '2015')\n",
    "\n",
    "top20_CO2df.reset_index(drop = True, inplace= True)\n",
    "top20_CO2df.head(5)"
   ]
  },
  {
   "cell_type": "code",
   "execution_count": 4,
   "metadata": {},
   "outputs": [
    {
     "output_type": "execute_result",
     "data": {
      "text/plain": [
       "0                  China\n",
       "1          United States\n",
       "2                  India\n",
       "3     Russian Federation\n",
       "4                  Japan\n",
       "5                Germany\n",
       "6     Iran, Islamic Rep.\n",
       "7           Saudi Arabia\n",
       "8            Korea, Rep.\n",
       "9                 Canada\n",
       "10             Indonesia\n",
       "11                Brazil\n",
       "12                Mexico\n",
       "13          South Africa\n",
       "14        United Kingdom\n",
       "15             Australia\n",
       "16                Turkey\n",
       "17                Poland\n",
       "18              Thailand\n",
       "19                 Spain\n",
       "Name: Country Name, dtype: object"
      ]
     },
     "metadata": {},
     "execution_count": 4
    }
   ],
   "source": [
    "# Store Top 20 country Names in a list -- USE THESE FOR DROP DOWN MENU AND PIE CHART TITLES\n",
    "top20_countrynames_list = top20_CO2df[\"Country Name\"]\n",
    "top20_countrynames_list"
   ]
  },
  {
   "cell_type": "code",
   "execution_count": 5,
   "metadata": {},
   "outputs": [
    {
     "output_type": "execute_result",
     "data": {
      "text/plain": [
       "0     CHN\n",
       "1     USA\n",
       "2     IND\n",
       "3     RUS\n",
       "4     JPN\n",
       "5     DEU\n",
       "6     IRN\n",
       "7     SAU\n",
       "8     KOR\n",
       "9     CAN\n",
       "10    IDN\n",
       "11    BRA\n",
       "12    MEX\n",
       "13    ZAF\n",
       "14    GBR\n",
       "15    AUS\n",
       "16    TUR\n",
       "17    POL\n",
       "18    THA\n",
       "19    ESP\n",
       "Name: Country Code, dtype: object"
      ]
     },
     "metadata": {},
     "execution_count": 5
    }
   ],
   "source": [
    "# Store Top 20 country codes in a list -- USE THESE TO MERGE DATA \n",
    "top20_countrycodes_list = top20_CO2df[\"Country Code\"]\n",
    "top20_countrycodes_list"
   ]
  },
  {
   "cell_type": "code",
   "execution_count": null,
   "metadata": {},
   "outputs": [],
   "source": []
  },
  {
   "source": [
    "## Filter out other CSVs according to TOP 20 countries list "
   ],
   "cell_type": "markdown",
   "metadata": {}
  },
  {
   "cell_type": "code",
   "execution_count": 6,
   "metadata": {},
   "outputs": [
    {
     "output_type": "execute_result",
     "data": {
      "text/plain": [
       "               Country Name                    Indicator Name      2000  \\\n",
       "Country Code                                                              \n",
       "CHN                   China  GDP per capita growth (annual %)  7.638598   \n",
       "USA           United States  GDP per capita growth (annual %)  2.975209   \n",
       "\n",
       "                  2001      2002      2003      2004       2005       2006  \\\n",
       "Country Code                                                                 \n",
       "CHN           7.551655  8.404880  9.354777  9.461559  10.741375  12.093305   \n",
       "USA           0.003649  0.802104  1.980926  2.842681   2.563502   1.867956   \n",
       "\n",
       "                   2007     2008      2009       2010      2011      2012  \\\n",
       "Country Code                                                                \n",
       "CHN           13.635820  9.09028  8.855948  10.102833  9.027174  7.339469   \n",
       "USA            0.911866 -1.07670 -3.387436   1.718201  0.822278  1.508614   \n",
       "\n",
       "                  2013      2014      2015  \n",
       "Country Code                                \n",
       "CHN           7.235409  6.883229  6.498792  \n",
       "USA           1.145053  1.782786  2.158874  "
      ],
      "text/html": "<div>\n<style scoped>\n    .dataframe tbody tr th:only-of-type {\n        vertical-align: middle;\n    }\n\n    .dataframe tbody tr th {\n        vertical-align: top;\n    }\n\n    .dataframe thead th {\n        text-align: right;\n    }\n</style>\n<table border=\"1\" class=\"dataframe\">\n  <thead>\n    <tr style=\"text-align: right;\">\n      <th></th>\n      <th>Country Name</th>\n      <th>Indicator Name</th>\n      <th>2000</th>\n      <th>2001</th>\n      <th>2002</th>\n      <th>2003</th>\n      <th>2004</th>\n      <th>2005</th>\n      <th>2006</th>\n      <th>2007</th>\n      <th>2008</th>\n      <th>2009</th>\n      <th>2010</th>\n      <th>2011</th>\n      <th>2012</th>\n      <th>2013</th>\n      <th>2014</th>\n      <th>2015</th>\n    </tr>\n    <tr>\n      <th>Country Code</th>\n      <th></th>\n      <th></th>\n      <th></th>\n      <th></th>\n      <th></th>\n      <th></th>\n      <th></th>\n      <th></th>\n      <th></th>\n      <th></th>\n      <th></th>\n      <th></th>\n      <th></th>\n      <th></th>\n      <th></th>\n      <th></th>\n      <th></th>\n      <th></th>\n    </tr>\n  </thead>\n  <tbody>\n    <tr>\n      <th>CHN</th>\n      <td>China</td>\n      <td>GDP per capita growth (annual %)</td>\n      <td>7.638598</td>\n      <td>7.551655</td>\n      <td>8.404880</td>\n      <td>9.354777</td>\n      <td>9.461559</td>\n      <td>10.741375</td>\n      <td>12.093305</td>\n      <td>13.635820</td>\n      <td>9.09028</td>\n      <td>8.855948</td>\n      <td>10.102833</td>\n      <td>9.027174</td>\n      <td>7.339469</td>\n      <td>7.235409</td>\n      <td>6.883229</td>\n      <td>6.498792</td>\n    </tr>\n    <tr>\n      <th>USA</th>\n      <td>United States</td>\n      <td>GDP per capita growth (annual %)</td>\n      <td>2.975209</td>\n      <td>0.003649</td>\n      <td>0.802104</td>\n      <td>1.980926</td>\n      <td>2.842681</td>\n      <td>2.563502</td>\n      <td>1.867956</td>\n      <td>0.911866</td>\n      <td>-1.07670</td>\n      <td>-3.387436</td>\n      <td>1.718201</td>\n      <td>0.822278</td>\n      <td>1.508614</td>\n      <td>1.145053</td>\n      <td>1.782786</td>\n      <td>2.158874</td>\n    </tr>\n  </tbody>\n</table>\n</div>"
     },
     "metadata": {},
     "execution_count": 6
    }
   ],
   "source": [
    "# Loading cleaned GDP data \n",
    "GDPdata = pd.read_csv('Cleaned_GDP.csv', index_col= \"Country Code\")\n",
    "\n",
    "# Store Top 20 Countries-GDP chart -- USE THIS CHART FOR GDP DATA\n",
    "top20_GDP= GDPdata.loc[top20_countrycodes_list]\n",
    "\n",
    "top20_GDP.head(2)"
   ]
  },
  {
   "cell_type": "code",
   "execution_count": 7,
   "metadata": {},
   "outputs": [
    {
     "output_type": "execute_result",
     "data": {
      "text/plain": [
       "               Country Name    Indicator Name         2000         2001  \\\n",
       "Country Code                                                              \n",
       "CHN                   China  Urban population  452999147.0  471767321.0   \n",
       "USA           United States  Urban population  223069137.0  225792302.0   \n",
       "\n",
       "                     2002         2003         2004         2005         2006  \\\n",
       "Country Code                                                                    \n",
       "CHN           491993700.0  512473984.0  533257098.0  554367818.0  575118254.0   \n",
       "USA           228400290.0  230876596.0  233532722.0  236200507.0  238999326.0   \n",
       "\n",
       "                     2007         2008         2009         2010         2011  \\\n",
       "Country Code                                                                    \n",
       "CHN           595670841.0  616481190.0  637407288.0  658498663.0  678933504.0   \n",
       "USA           241795278.0  244607104.0  247276259.0  249845296.0  252186596.0   \n",
       "\n",
       "                     2012         2013         2014         2015  \n",
       "Country Code                                                      \n",
       "CHN           699187267.0  719587859.0  740239259.0  761027100.0  \n",
       "USA           254576561.0  256899730.0  259361210.0  261865944.0  "
      ],
      "text/html": "<div>\n<style scoped>\n    .dataframe tbody tr th:only-of-type {\n        vertical-align: middle;\n    }\n\n    .dataframe tbody tr th {\n        vertical-align: top;\n    }\n\n    .dataframe thead th {\n        text-align: right;\n    }\n</style>\n<table border=\"1\" class=\"dataframe\">\n  <thead>\n    <tr style=\"text-align: right;\">\n      <th></th>\n      <th>Country Name</th>\n      <th>Indicator Name</th>\n      <th>2000</th>\n      <th>2001</th>\n      <th>2002</th>\n      <th>2003</th>\n      <th>2004</th>\n      <th>2005</th>\n      <th>2006</th>\n      <th>2007</th>\n      <th>2008</th>\n      <th>2009</th>\n      <th>2010</th>\n      <th>2011</th>\n      <th>2012</th>\n      <th>2013</th>\n      <th>2014</th>\n      <th>2015</th>\n    </tr>\n    <tr>\n      <th>Country Code</th>\n      <th></th>\n      <th></th>\n      <th></th>\n      <th></th>\n      <th></th>\n      <th></th>\n      <th></th>\n      <th></th>\n      <th></th>\n      <th></th>\n      <th></th>\n      <th></th>\n      <th></th>\n      <th></th>\n      <th></th>\n      <th></th>\n      <th></th>\n      <th></th>\n    </tr>\n  </thead>\n  <tbody>\n    <tr>\n      <th>CHN</th>\n      <td>China</td>\n      <td>Urban population</td>\n      <td>452999147.0</td>\n      <td>471767321.0</td>\n      <td>491993700.0</td>\n      <td>512473984.0</td>\n      <td>533257098.0</td>\n      <td>554367818.0</td>\n      <td>575118254.0</td>\n      <td>595670841.0</td>\n      <td>616481190.0</td>\n      <td>637407288.0</td>\n      <td>658498663.0</td>\n      <td>678933504.0</td>\n      <td>699187267.0</td>\n      <td>719587859.0</td>\n      <td>740239259.0</td>\n      <td>761027100.0</td>\n    </tr>\n    <tr>\n      <th>USA</th>\n      <td>United States</td>\n      <td>Urban population</td>\n      <td>223069137.0</td>\n      <td>225792302.0</td>\n      <td>228400290.0</td>\n      <td>230876596.0</td>\n      <td>233532722.0</td>\n      <td>236200507.0</td>\n      <td>238999326.0</td>\n      <td>241795278.0</td>\n      <td>244607104.0</td>\n      <td>247276259.0</td>\n      <td>249845296.0</td>\n      <td>252186596.0</td>\n      <td>254576561.0</td>\n      <td>256899730.0</td>\n      <td>259361210.0</td>\n      <td>261865944.0</td>\n    </tr>\n  </tbody>\n</table>\n</div>"
     },
     "metadata": {},
     "execution_count": 7
    }
   ],
   "source": [
    "# Loading cleaned Urban Pop data \n",
    "Urbandata = pd.read_csv('Cleaned_urban.csv', index_col= \"Country Code\")\n",
    "\n",
    "# Store Top 20 Countries-GDP chart -- USE THIS CHART FOR URBAN POP DATA\n",
    "top20_Urban= Urbandata.loc[top20_countrycodes_list]\n",
    "\n",
    "top20_Urban.head(2)"
   ]
  },
  {
   "cell_type": "code",
   "execution_count": 8,
   "metadata": {},
   "outputs": [
    {
     "output_type": "execute_result",
     "data": {
      "text/plain": [
       "               Country Name  \\\n",
       "Country Code                  \n",
       "CHN                   China   \n",
       "USA           United States   \n",
       "\n",
       "                                                 Indicator Name       2000  \\\n",
       "Country Code                                                                 \n",
       "CHN           Renewable energy consumption (% of total final...  29.730715   \n",
       "USA           Renewable energy consumption (% of total final...   5.429624   \n",
       "\n",
       "                   2001       2002       2003       2004       2005  \\\n",
       "Country Code                                                          \n",
       "CHN           28.455815  27.098202  23.946580  20.249479  18.203819   \n",
       "USA            4.678571   4.840779   5.326282   5.477657   5.841091   \n",
       "\n",
       "                   2006       2007       2008       2009       2010  \\\n",
       "Country Code                                                          \n",
       "CHN           17.094610  15.349371  14.601997  13.911962  12.884310   \n",
       "USA            6.396514   6.304128   6.845541   7.354405   7.505172   \n",
       "\n",
       "                   2011       2012       2013       2014       2015  \n",
       "Country Code                                                         \n",
       "CHN           11.695797  11.968567  11.838167  12.223823  12.413353  \n",
       "USA            8.164452   8.481450   8.713262   8.754309   8.716936  "
      ],
      "text/html": "<div>\n<style scoped>\n    .dataframe tbody tr th:only-of-type {\n        vertical-align: middle;\n    }\n\n    .dataframe tbody tr th {\n        vertical-align: top;\n    }\n\n    .dataframe thead th {\n        text-align: right;\n    }\n</style>\n<table border=\"1\" class=\"dataframe\">\n  <thead>\n    <tr style=\"text-align: right;\">\n      <th></th>\n      <th>Country Name</th>\n      <th>Indicator Name</th>\n      <th>2000</th>\n      <th>2001</th>\n      <th>2002</th>\n      <th>2003</th>\n      <th>2004</th>\n      <th>2005</th>\n      <th>2006</th>\n      <th>2007</th>\n      <th>2008</th>\n      <th>2009</th>\n      <th>2010</th>\n      <th>2011</th>\n      <th>2012</th>\n      <th>2013</th>\n      <th>2014</th>\n      <th>2015</th>\n    </tr>\n    <tr>\n      <th>Country Code</th>\n      <th></th>\n      <th></th>\n      <th></th>\n      <th></th>\n      <th></th>\n      <th></th>\n      <th></th>\n      <th></th>\n      <th></th>\n      <th></th>\n      <th></th>\n      <th></th>\n      <th></th>\n      <th></th>\n      <th></th>\n      <th></th>\n      <th></th>\n      <th></th>\n    </tr>\n  </thead>\n  <tbody>\n    <tr>\n      <th>CHN</th>\n      <td>China</td>\n      <td>Renewable energy consumption (% of total final...</td>\n      <td>29.730715</td>\n      <td>28.455815</td>\n      <td>27.098202</td>\n      <td>23.946580</td>\n      <td>20.249479</td>\n      <td>18.203819</td>\n      <td>17.094610</td>\n      <td>15.349371</td>\n      <td>14.601997</td>\n      <td>13.911962</td>\n      <td>12.884310</td>\n      <td>11.695797</td>\n      <td>11.968567</td>\n      <td>11.838167</td>\n      <td>12.223823</td>\n      <td>12.413353</td>\n    </tr>\n    <tr>\n      <th>USA</th>\n      <td>United States</td>\n      <td>Renewable energy consumption (% of total final...</td>\n      <td>5.429624</td>\n      <td>4.678571</td>\n      <td>4.840779</td>\n      <td>5.326282</td>\n      <td>5.477657</td>\n      <td>5.841091</td>\n      <td>6.396514</td>\n      <td>6.304128</td>\n      <td>6.845541</td>\n      <td>7.354405</td>\n      <td>7.505172</td>\n      <td>8.164452</td>\n      <td>8.481450</td>\n      <td>8.713262</td>\n      <td>8.754309</td>\n      <td>8.716936</td>\n    </tr>\n  </tbody>\n</table>\n</div>"
     },
     "metadata": {},
     "execution_count": 8
    }
   ],
   "source": [
    "# Loading cleaned Renewable energy data \n",
    "Renewabledata = pd.read_csv('Cleaned_renewable.csv', index_col= \"Country Code\")\n",
    "\n",
    "# Store Top 20 Countries-Renewable Energy chart -- USE THIS CHART FOR RENEWABLE ENERGY DATA\n",
    "top20_Renewable= Renewabledata.loc[top20_countrycodes_list]\n",
    "\n",
    "top20_Renewable.head(2)"
   ]
  },
  {
   "cell_type": "code",
   "execution_count": 9,
   "metadata": {},
   "outputs": [],
   "source": [
    "top20_CO2df[\"color\"] = [\n",
    "'#93b987',\n",
    "'#f85916',\n",
    "'#fbd505',\n",
    "'#6d9c2f',\n",
    "'#ff3f3f',\n",
    "'#38ddd9',\n",
    "'#ffbc3e',\n",
    "'#92c12b',\n",
    "'#ff61a1',\n",
    "'#fdbf60',\n",
    "'#78347c',\n",
    "'#3a1560',\n",
    "'#58d454',\n",
    "'#30bac5',\n",
    "'#ffd214',\n",
    "'#ff8029',\n",
    "'#df0000',\n",
    "'#fbcb5a',\n",
    "'#ced4d7',\n",
    "'#d8b129',\n",
    "]"
   ]
  },
  {
   "cell_type": "code",
   "execution_count": 10,
   "metadata": {},
   "outputs": [],
   "source": [
    "top20_CO2df.to_csv(\"top20_CO2df.csv\", index=True)\n",
    "\n",
    "top20_countrynames_list.to_csv(\"top20_countrynames_list.csv\", index=True)\n",
    "\n",
    "top20_countrycodes_list.to_csv(\"top20_countrycodes_list.csv\", index=True)\n",
    "\n",
    "top20_GDP.to_csv(\"top20_GDP.csv\", index=True)\n",
    "\n",
    "top20_Urban.to_csv(\"top20_Urban.csv\", index=True)\n",
    "\n",
    "top20_Renewable.to_csv(\"top20_Renewable.csv\", index=True)"
   ]
  }
 ],
 "metadata": {
  "kernelspec": {
   "display_name": "Python 3",
   "language": "python",
   "name": "python3"
  },
  "language_info": {
   "codemirror_mode": {
    "name": "ipython",
    "version": 3
   },
   "file_extension": ".py",
   "mimetype": "text/x-python",
   "name": "python",
   "nbconvert_exporter": "python",
   "pygments_lexer": "ipython3",
   "version": "3.8.5-final"
  }
 },
 "nbformat": 4,
 "nbformat_minor": 4
}