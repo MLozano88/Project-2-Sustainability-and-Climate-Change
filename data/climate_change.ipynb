{
 "cells": [
  {
   "cell_type": "code",
   "execution_count": 16,
   "metadata": {},
   "outputs": [],
   "source": [
    "# Dependencies and Setup\n",
    "import pandas as pd\n",
    "import numpy as np\n"
   ]
  },
  {
   "source": [
    "## Get Top 20 Countries that produced the most CO2 emissions (2015)"
   ],
   "cell_type": "markdown",
   "metadata": {}
  },
  {
   "cell_type": "code",
   "execution_count": 17,
   "metadata": {},
   "outputs": [
    {
     "output_type": "execute_result",
     "data": {
      "text/plain": [
       "              Country Name      Indicator Name        2000        2001  \\\n",
       "Country Code                                                             \n",
       "ABW                  Aruba  CO2 emissions (kt)    2379.883    2409.219   \n",
       "AFG            Afghanistan  CO2 emissions (kt)     773.737     817.741   \n",
       "AGO                 Angola  CO2 emissions (kt)    9541.534    9732.218   \n",
       "ALB                Albania  CO2 emissions (kt)    3021.608    3223.293   \n",
       "AND                Andorra  CO2 emissions (kt)     524.381     524.381   \n",
       "...                    ...                 ...         ...         ...   \n",
       "WSM                  Samoa  CO2 emissions (kt)     143.013     146.680   \n",
       "YEM            Yemen, Rep.  CO2 emissions (kt)   14642.331   16208.140   \n",
       "ZAF           South Africa  CO2 emissions (kt)  378665.421  372042.819   \n",
       "ZMB                 Zambia  CO2 emissions (kt)    1822.499    1906.840   \n",
       "ZWE               Zimbabwe  CO2 emissions (kt)   13923.599   12596.145   \n",
       "\n",
       "                    2002        2003        2004        2005        2006  \\\n",
       "Country Code                                                               \n",
       "ABW             2438.555    2563.233    2618.238    2720.914    2717.247   \n",
       "AFG             1070.764    1213.777     916.750    1327.454    1650.150   \n",
       "AGO            12665.818    9064.824   18793.375   19156.408   22266.024   \n",
       "ALB             3751.341    4294.057    4165.712    4253.720    3898.021   \n",
       "AND              531.715     535.382     561.051     575.719     546.383   \n",
       "...                  ...         ...         ...         ...         ...   \n",
       "WSM              146.680     154.014     150.347     161.348     165.015   \n",
       "YEM            15764.433   17304.573   18881.383   20043.822   21316.271   \n",
       "ZAF           356637.752  404459.099  450186.589  416915.898  447894.714   \n",
       "ZMB             1983.847    2112.192    2145.195    2288.208    2291.875   \n",
       "ZWE            11965.421   10656.302    9486.529   10769.979   10447.283   \n",
       "\n",
       "                    2007        2008        2009        2010        2011  \\\n",
       "Country Code                                                               \n",
       "ABW             2823.590    2658.575    2629.239    2508.228    2500.894   \n",
       "AFG             2273.540    4206.049    6769.282    8463.436   12240.446   \n",
       "AGO            25151.953   25709.337   27792.193   29057.308   30586.447   \n",
       "ALB             3927.357    4374.731    4378.398    4598.418    5240.143   \n",
       "AND              539.049     539.049     517.047     517.047     491.378   \n",
       "...                  ...         ...         ...         ...         ...   \n",
       "WSM              172.349     179.683     187.017     187.017     201.685   \n",
       "YEM            20971.573   22339.364   24565.233   23432.130   20612.207   \n",
       "ZAF           466578.079  496772.157  503112.400  469816.040  477370.060   \n",
       "ZMB             1928.842    2170.864    2508.228    2691.578    2922.599   \n",
       "ZWE             9886.232    7770.373    5603.176    7803.376    9622.208   \n",
       "\n",
       "                    2012        2013        2014        2015  \n",
       "Country Code                                                  \n",
       "ABW             1349.456     861.745     872.746     898.415  \n",
       "AFG            10755.311    9050.156    8467.103    9035.488  \n",
       "AGO            34176.440   33692.396   44851.077   34583.477  \n",
       "ALB             4924.781    4913.780    5489.499    4616.753  \n",
       "AND              487.711     476.710     462.042     465.709  \n",
       "...                  ...         ...         ...         ...  \n",
       "WSM              198.018     198.018     209.019     234.688  \n",
       "YEM            18698.033   25492.984   24667.909   13171.864  \n",
       "ZAF           464674.906  459222.077  484495.041  463952.507  \n",
       "ZMB             3678.001    3956.693    4503.076    4532.412  \n",
       "ZWE             7873.049   11771.070   12115.768   12317.453  \n",
       "\n",
       "[199 rows x 18 columns]"
      ],
      "text/html": "<div>\n<style scoped>\n    .dataframe tbody tr th:only-of-type {\n        vertical-align: middle;\n    }\n\n    .dataframe tbody tr th {\n        vertical-align: top;\n    }\n\n    .dataframe thead th {\n        text-align: right;\n    }\n</style>\n<table border=\"1\" class=\"dataframe\">\n  <thead>\n    <tr style=\"text-align: right;\">\n      <th></th>\n      <th>Country Name</th>\n      <th>Indicator Name</th>\n      <th>2000</th>\n      <th>2001</th>\n      <th>2002</th>\n      <th>2003</th>\n      <th>2004</th>\n      <th>2005</th>\n      <th>2006</th>\n      <th>2007</th>\n      <th>2008</th>\n      <th>2009</th>\n      <th>2010</th>\n      <th>2011</th>\n      <th>2012</th>\n      <th>2013</th>\n      <th>2014</th>\n      <th>2015</th>\n    </tr>\n    <tr>\n      <th>Country Code</th>\n      <th></th>\n      <th></th>\n      <th></th>\n      <th></th>\n      <th></th>\n      <th></th>\n      <th></th>\n      <th></th>\n      <th></th>\n      <th></th>\n      <th></th>\n      <th></th>\n      <th></th>\n      <th></th>\n      <th></th>\n      <th></th>\n      <th></th>\n      <th></th>\n    </tr>\n  </thead>\n  <tbody>\n    <tr>\n      <th>ABW</th>\n      <td>Aruba</td>\n      <td>CO2 emissions (kt)</td>\n      <td>2379.883</td>\n      <td>2409.219</td>\n      <td>2438.555</td>\n      <td>2563.233</td>\n      <td>2618.238</td>\n      <td>2720.914</td>\n      <td>2717.247</td>\n      <td>2823.590</td>\n      <td>2658.575</td>\n      <td>2629.239</td>\n      <td>2508.228</td>\n      <td>2500.894</td>\n      <td>1349.456</td>\n      <td>861.745</td>\n      <td>872.746</td>\n      <td>898.415</td>\n    </tr>\n    <tr>\n      <th>AFG</th>\n      <td>Afghanistan</td>\n      <td>CO2 emissions (kt)</td>\n      <td>773.737</td>\n      <td>817.741</td>\n      <td>1070.764</td>\n      <td>1213.777</td>\n      <td>916.750</td>\n      <td>1327.454</td>\n      <td>1650.150</td>\n      <td>2273.540</td>\n      <td>4206.049</td>\n      <td>6769.282</td>\n      <td>8463.436</td>\n      <td>12240.446</td>\n      <td>10755.311</td>\n      <td>9050.156</td>\n      <td>8467.103</td>\n      <td>9035.488</td>\n    </tr>\n    <tr>\n      <th>AGO</th>\n      <td>Angola</td>\n      <td>CO2 emissions (kt)</td>\n      <td>9541.534</td>\n      <td>9732.218</td>\n      <td>12665.818</td>\n      <td>9064.824</td>\n      <td>18793.375</td>\n      <td>19156.408</td>\n      <td>22266.024</td>\n      <td>25151.953</td>\n      <td>25709.337</td>\n      <td>27792.193</td>\n      <td>29057.308</td>\n      <td>30586.447</td>\n      <td>34176.440</td>\n      <td>33692.396</td>\n      <td>44851.077</td>\n      <td>34583.477</td>\n    </tr>\n    <tr>\n      <th>ALB</th>\n      <td>Albania</td>\n      <td>CO2 emissions (kt)</td>\n      <td>3021.608</td>\n      <td>3223.293</td>\n      <td>3751.341</td>\n      <td>4294.057</td>\n      <td>4165.712</td>\n      <td>4253.720</td>\n      <td>3898.021</td>\n      <td>3927.357</td>\n      <td>4374.731</td>\n      <td>4378.398</td>\n      <td>4598.418</td>\n      <td>5240.143</td>\n      <td>4924.781</td>\n      <td>4913.780</td>\n      <td>5489.499</td>\n      <td>4616.753</td>\n    </tr>\n    <tr>\n      <th>AND</th>\n      <td>Andorra</td>\n      <td>CO2 emissions (kt)</td>\n      <td>524.381</td>\n      <td>524.381</td>\n      <td>531.715</td>\n      <td>535.382</td>\n      <td>561.051</td>\n      <td>575.719</td>\n      <td>546.383</td>\n      <td>539.049</td>\n      <td>539.049</td>\n      <td>517.047</td>\n      <td>517.047</td>\n      <td>491.378</td>\n      <td>487.711</td>\n      <td>476.710</td>\n      <td>462.042</td>\n      <td>465.709</td>\n    </tr>\n    <tr>\n      <th>...</th>\n      <td>...</td>\n      <td>...</td>\n      <td>...</td>\n      <td>...</td>\n      <td>...</td>\n      <td>...</td>\n      <td>...</td>\n      <td>...</td>\n      <td>...</td>\n      <td>...</td>\n      <td>...</td>\n      <td>...</td>\n      <td>...</td>\n      <td>...</td>\n      <td>...</td>\n      <td>...</td>\n      <td>...</td>\n      <td>...</td>\n    </tr>\n    <tr>\n      <th>WSM</th>\n      <td>Samoa</td>\n      <td>CO2 emissions (kt)</td>\n      <td>143.013</td>\n      <td>146.680</td>\n      <td>146.680</td>\n      <td>154.014</td>\n      <td>150.347</td>\n      <td>161.348</td>\n      <td>165.015</td>\n      <td>172.349</td>\n      <td>179.683</td>\n      <td>187.017</td>\n      <td>187.017</td>\n      <td>201.685</td>\n      <td>198.018</td>\n      <td>198.018</td>\n      <td>209.019</td>\n      <td>234.688</td>\n    </tr>\n    <tr>\n      <th>YEM</th>\n      <td>Yemen, Rep.</td>\n      <td>CO2 emissions (kt)</td>\n      <td>14642.331</td>\n      <td>16208.140</td>\n      <td>15764.433</td>\n      <td>17304.573</td>\n      <td>18881.383</td>\n      <td>20043.822</td>\n      <td>21316.271</td>\n      <td>20971.573</td>\n      <td>22339.364</td>\n      <td>24565.233</td>\n      <td>23432.130</td>\n      <td>20612.207</td>\n      <td>18698.033</td>\n      <td>25492.984</td>\n      <td>24667.909</td>\n      <td>13171.864</td>\n    </tr>\n    <tr>\n      <th>ZAF</th>\n      <td>South Africa</td>\n      <td>CO2 emissions (kt)</td>\n      <td>378665.421</td>\n      <td>372042.819</td>\n      <td>356637.752</td>\n      <td>404459.099</td>\n      <td>450186.589</td>\n      <td>416915.898</td>\n      <td>447894.714</td>\n      <td>466578.079</td>\n      <td>496772.157</td>\n      <td>503112.400</td>\n      <td>469816.040</td>\n      <td>477370.060</td>\n      <td>464674.906</td>\n      <td>459222.077</td>\n      <td>484495.041</td>\n      <td>463952.507</td>\n    </tr>\n    <tr>\n      <th>ZMB</th>\n      <td>Zambia</td>\n      <td>CO2 emissions (kt)</td>\n      <td>1822.499</td>\n      <td>1906.840</td>\n      <td>1983.847</td>\n      <td>2112.192</td>\n      <td>2145.195</td>\n      <td>2288.208</td>\n      <td>2291.875</td>\n      <td>1928.842</td>\n      <td>2170.864</td>\n      <td>2508.228</td>\n      <td>2691.578</td>\n      <td>2922.599</td>\n      <td>3678.001</td>\n      <td>3956.693</td>\n      <td>4503.076</td>\n      <td>4532.412</td>\n    </tr>\n    <tr>\n      <th>ZWE</th>\n      <td>Zimbabwe</td>\n      <td>CO2 emissions (kt)</td>\n      <td>13923.599</td>\n      <td>12596.145</td>\n      <td>11965.421</td>\n      <td>10656.302</td>\n      <td>9486.529</td>\n      <td>10769.979</td>\n      <td>10447.283</td>\n      <td>9886.232</td>\n      <td>7770.373</td>\n      <td>5603.176</td>\n      <td>7803.376</td>\n      <td>9622.208</td>\n      <td>7873.049</td>\n      <td>11771.070</td>\n      <td>12115.768</td>\n      <td>12317.453</td>\n    </tr>\n  </tbody>\n</table>\n<p>199 rows × 18 columns</p>\n</div>"
     },
     "metadata": {},
     "execution_count": 17
    }
   ],
   "source": [
    "# Loading cleaned CO2 emissions data \n",
    "data = pd.read_csv('Cleaned_CO2.csv', index_col= \"Country Code\")\n",
    "data"
   ]
  },
  {
   "cell_type": "code",
   "execution_count": 18,
   "metadata": {},
   "outputs": [],
   "source": [
    "# Slice top 20 countries with highest CO2 emissions -- USE THIS CHART TO FIND TOP 20 CO2 EMISSION DATA \n",
    "# top20_CO2df = data.nlargest(20, '2015')\n",
    "\n",
    "# top20_CO2df.sort_values(\"Country Name\", inplace= True)\n",
    "# # top20_CO2df.reset_index(drop = True)\n",
    "# top20_CO2df.drop(labels= index, inplace= True)\n",
    "# top20_CO2df.head(5)"
   ]
  },
  {
   "cell_type": "code",
   "execution_count": 19,
   "metadata": {},
   "outputs": [
    {
     "output_type": "execute_result",
     "data": {
      "text/plain": [
       "9               Australia\n",
       "25                 Brazil\n",
       "31                 Canada\n",
       "34                  China\n",
       "48                Germany\n",
       "84                  India\n",
       "83              Indonesia\n",
       "86     Iran, Islamic Rep.\n",
       "92                  Japan\n",
       "99            Korea, Rep.\n",
       "116                Mexico\n",
       "145                Poland\n",
       "154    Russian Federation\n",
       "156          Saudi Arabia\n",
       "196          South Africa\n",
       "57                  Spain\n",
       "175              Thailand\n",
       "181                Turkey\n",
       "65         United Kingdom\n",
       "187         United States\n",
       "Name: Country Name, dtype: object"
      ]
     },
     "metadata": {},
     "execution_count": 19
    }
   ],
   "source": [
    "# Store Top 20 country Names in a list -- USE THESE FOR DROP DOWN MENU AND PIE CHART TITLES\n",
    "top20_countrynames_list = top20_CO2df[\"Country Name\"]\n",
    "top20_countrynames_list"
   ]
  },
  {
   "cell_type": "code",
   "execution_count": 20,
   "metadata": {},
   "outputs": [
    {
     "output_type": "execute_result",
     "data": {
      "text/plain": [
       "9      AUS\n",
       "25     BRA\n",
       "31     CAN\n",
       "34     CHN\n",
       "48     DEU\n",
       "84     IND\n",
       "83     IDN\n",
       "86     IRN\n",
       "92     JPN\n",
       "99     KOR\n",
       "116    MEX\n",
       "145    POL\n",
       "154    RUS\n",
       "156    SAU\n",
       "196    ZAF\n",
       "57     ESP\n",
       "175    THA\n",
       "181    TUR\n",
       "65     GBR\n",
       "187    USA\n",
       "Name: Country Code, dtype: object"
      ]
     },
     "metadata": {},
     "execution_count": 20
    }
   ],
   "source": [
    "# Store Top 20 country codes in a list -- USE THESE TO MERGE DATA \n",
    "top20_countrycodes_list = top20_CO2df[\"Country Code\"]\n",
    "top20_countrycodes_list"
   ]
  },
  {
   "cell_type": "code",
   "execution_count": 23,
   "metadata": {},
   "outputs": [
    {
     "output_type": "execute_result",
     "data": {
      "text/plain": [
       "             Country Name      Indicator Name         2000         2001  \\\n",
       "Country Code                                                              \n",
       "AUS             Australia  CO2 emissions (kt)   329443.280   324844.862   \n",
       "BRA                Brazil  CO2 emissions (kt)   327983.814   337433.673   \n",
       "CAN                Canada  CO2 emissions (kt)   534380.909   527926.989   \n",
       "CHN                 China  CO2 emissions (kt)  3405179.867  3487566.356   \n",
       "DEU               Germany  CO2 emissions (kt)   829977.779   853662.932   \n",
       "\n",
       "                     2002         2003         2004         2005         2006  \\\n",
       "Country Code                                                                    \n",
       "AUS            341353.696   336271.234   342699.485   350172.831   365346.877   \n",
       "BRA            332266.870   321621.569   337826.042   347308.904   347668.270   \n",
       "CAN            519335.208   553100.944   553357.634   561425.034   571993.328   \n",
       "CHN           3850269.326  4540417.061  5233538.733  5896957.705  6529291.518   \n",
       "DEU            829724.756   823003.145   815969.839   797759.517   816721.574   \n",
       "\n",
       "                     2007         2008         2009         2010         2011  \\\n",
       "Country Code                                                                    \n",
       "AUS            372090.490   385904.079   394792.887   390861.863   391818.950   \n",
       "BRA            363212.683   387631.236   367147.374   419754.156   439412.943   \n",
       "CAN            571846.648   561791.734   532191.710   527263.262   522774.854   \n",
       "CHN           6697654.489  7553070.247  7557789.676  8776040.416  9733538.120   \n",
       "DEU            781247.016   779296.172   720547.165   757880.892   729810.007   \n",
       "\n",
       "                      2012          2013          2014          2015  \n",
       "Country Code                                                          \n",
       "AUS           3.881263e+05  3.723178e+05  3.613168e+05  3.653322e+05  \n",
       "BRA           4.700287e+05  5.036771e+05  5.335302e+05  5.043885e+05  \n",
       "CAN           5.177217e+05  5.191885e+05  5.406148e+05  5.494303e+05  \n",
       "CHN           1.002857e+07  1.025801e+07  1.029193e+07  1.014500e+07  \n",
       "DEU           7.381414e+05  7.579616e+05  7.203638e+05  7.270451e+05  "
      ],
      "text/html": "<div>\n<style scoped>\n    .dataframe tbody tr th:only-of-type {\n        vertical-align: middle;\n    }\n\n    .dataframe tbody tr th {\n        vertical-align: top;\n    }\n\n    .dataframe thead th {\n        text-align: right;\n    }\n</style>\n<table border=\"1\" class=\"dataframe\">\n  <thead>\n    <tr style=\"text-align: right;\">\n      <th></th>\n      <th>Country Name</th>\n      <th>Indicator Name</th>\n      <th>2000</th>\n      <th>2001</th>\n      <th>2002</th>\n      <th>2003</th>\n      <th>2004</th>\n      <th>2005</th>\n      <th>2006</th>\n      <th>2007</th>\n      <th>2008</th>\n      <th>2009</th>\n      <th>2010</th>\n      <th>2011</th>\n      <th>2012</th>\n      <th>2013</th>\n      <th>2014</th>\n      <th>2015</th>\n    </tr>\n    <tr>\n      <th>Country Code</th>\n      <th></th>\n      <th></th>\n      <th></th>\n      <th></th>\n      <th></th>\n      <th></th>\n      <th></th>\n      <th></th>\n      <th></th>\n      <th></th>\n      <th></th>\n      <th></th>\n      <th></th>\n      <th></th>\n      <th></th>\n      <th></th>\n      <th></th>\n      <th></th>\n    </tr>\n  </thead>\n  <tbody>\n    <tr>\n      <th>AUS</th>\n      <td>Australia</td>\n      <td>CO2 emissions (kt)</td>\n      <td>329443.280</td>\n      <td>324844.862</td>\n      <td>341353.696</td>\n      <td>336271.234</td>\n      <td>342699.485</td>\n      <td>350172.831</td>\n      <td>365346.877</td>\n      <td>372090.490</td>\n      <td>385904.079</td>\n      <td>394792.887</td>\n      <td>390861.863</td>\n      <td>391818.950</td>\n      <td>3.881263e+05</td>\n      <td>3.723178e+05</td>\n      <td>3.613168e+05</td>\n      <td>3.653322e+05</td>\n    </tr>\n    <tr>\n      <th>BRA</th>\n      <td>Brazil</td>\n      <td>CO2 emissions (kt)</td>\n      <td>327983.814</td>\n      <td>337433.673</td>\n      <td>332266.870</td>\n      <td>321621.569</td>\n      <td>337826.042</td>\n      <td>347308.904</td>\n      <td>347668.270</td>\n      <td>363212.683</td>\n      <td>387631.236</td>\n      <td>367147.374</td>\n      <td>419754.156</td>\n      <td>439412.943</td>\n      <td>4.700287e+05</td>\n      <td>5.036771e+05</td>\n      <td>5.335302e+05</td>\n      <td>5.043885e+05</td>\n    </tr>\n    <tr>\n      <th>CAN</th>\n      <td>Canada</td>\n      <td>CO2 emissions (kt)</td>\n      <td>534380.909</td>\n      <td>527926.989</td>\n      <td>519335.208</td>\n      <td>553100.944</td>\n      <td>553357.634</td>\n      <td>561425.034</td>\n      <td>571993.328</td>\n      <td>571846.648</td>\n      <td>561791.734</td>\n      <td>532191.710</td>\n      <td>527263.262</td>\n      <td>522774.854</td>\n      <td>5.177217e+05</td>\n      <td>5.191885e+05</td>\n      <td>5.406148e+05</td>\n      <td>5.494303e+05</td>\n    </tr>\n    <tr>\n      <th>CHN</th>\n      <td>China</td>\n      <td>CO2 emissions (kt)</td>\n      <td>3405179.867</td>\n      <td>3487566.356</td>\n      <td>3850269.326</td>\n      <td>4540417.061</td>\n      <td>5233538.733</td>\n      <td>5896957.705</td>\n      <td>6529291.518</td>\n      <td>6697654.489</td>\n      <td>7553070.247</td>\n      <td>7557789.676</td>\n      <td>8776040.416</td>\n      <td>9733538.120</td>\n      <td>1.002857e+07</td>\n      <td>1.025801e+07</td>\n      <td>1.029193e+07</td>\n      <td>1.014500e+07</td>\n    </tr>\n    <tr>\n      <th>DEU</th>\n      <td>Germany</td>\n      <td>CO2 emissions (kt)</td>\n      <td>829977.779</td>\n      <td>853662.932</td>\n      <td>829724.756</td>\n      <td>823003.145</td>\n      <td>815969.839</td>\n      <td>797759.517</td>\n      <td>816721.574</td>\n      <td>781247.016</td>\n      <td>779296.172</td>\n      <td>720547.165</td>\n      <td>757880.892</td>\n      <td>729810.007</td>\n      <td>7.381414e+05</td>\n      <td>7.579616e+05</td>\n      <td>7.203638e+05</td>\n      <td>7.270451e+05</td>\n    </tr>\n  </tbody>\n</table>\n</div>"
     },
     "metadata": {},
     "execution_count": 23
    }
   ],
   "source": [
    "CO2data = pd.read_csv('Cleaned_CO2.csv', index_col= \"Country Code\")\n",
    "\n",
    "top20_CO2df= CO2data.loc[top20_countrycodes_list]\n",
    "top20_CO2df.sort_values(\"Country Name\", inplace= True)\n",
    "\n",
    "top20_CO2df.head(5)"
   ]
  },
  {
   "source": [
    "## Filter out other CSVs according to TOP 20 countries list "
   ],
   "cell_type": "markdown",
   "metadata": {}
  },
  {
   "cell_type": "code",
   "execution_count": null,
   "metadata": {},
   "outputs": [],
   "source": [
    "# Loading cleaned GDP data \n",
    "GDPdata = pd.read_csv('Cleaned_GDP.csv', index_col= \"Country Code\")\n",
    "\n",
    "# Store Top 20 Countries-GDP chart -- USE THIS CHART FOR GDP DATA\n",
    "top20_GDP= GDPdata.loc[top20_countrycodes_list]\n",
    "top20_GDP.sort_values(\"Country Name\", inplace= True)\n",
    "len(top20_GDP)"
   ]
  },
  {
   "cell_type": "code",
   "execution_count": null,
   "metadata": {},
   "outputs": [],
   "source": [
    "# Loading cleaned Renewable energy data \n",
    "Renewabledata = pd.read_csv('Cleaned_renewable.csv', index_col= \"Country Code\")\n",
    "\n",
    "# Store Top 20 Countries-Renewable Energy chart -- USE THIS CHART FOR RENEWABLE ENERGY DATA\n",
    "top20_Renewable= Renewabledata.loc[top20_countrycodes_list]\n",
    "top20_Renewable.sort_values(\"Country Name\", inplace= True)\n",
    "len(top20_Renewable)"
   ]
  },
  {
   "cell_type": "code",
   "execution_count": null,
   "metadata": {},
   "outputs": [],
   "source": [
    "colors = [\n",
    "'#93b987',\n",
    "'#f85916',\n",
    "'#fbd505',\n",
    "'#6d9c2f',\n",
    "'#ff3f3f',\n",
    "'#38ddd9',\n",
    "'#ffbc3e',\n",
    "'#92c12b',\n",
    "'#ff61a1',\n",
    "'#fdbf60',\n",
    "'#78347c',\n",
    "'#3a1560',\n",
    "'#58d454',\n",
    "'#30bac5',\n",
    "'#ffd214',\n",
    "'#ff8029',\n",
    "'#df0000',\n",
    "'#fbcb5a',\n",
    "'#ced4d7',\n",
    "'#d8b129',\n",
    "]\n",
    "\n",
    "top20_CO2df[\"color\"] = colors\n",
    "top20_GDP[\"color\"] = colors\n",
    "top20_Renewable[\"color\"] = colors\n",
    "\n",
    "top20_Renewable.head(5)"
   ]
  },
  {
   "cell_type": "code",
   "execution_count": null,
   "metadata": {},
   "outputs": [],
   "source": [
    "top20_CO2df.to_csv(\"top20_CO2df.csv\", index=True)\n",
    "\n",
    "top20_countrynames_list.to_csv(\"top20_countrynames_list.csv\", index=True)\n",
    "\n",
    "top20_countrycodes_list.to_csv(\"top20_countrycodes_list.csv\", index=True)\n",
    "\n",
    "top20_GDP.to_csv(\"top20_GDP.csv\", index=True)\n",
    "\n",
    "top20_Renewable.to_csv(\"top20_Renewable.csv\", index=True)"
   ]
  },
  {
   "cell_type": "code",
   "execution_count": null,
   "metadata": {},
   "outputs": [],
   "source": []
  }
 ],
 "metadata": {
  "kernelspec": {
   "display_name": "Python 3",
   "language": "python",
   "name": "python3"
  },
  "language_info": {
   "codemirror_mode": {
    "name": "ipython",
    "version": 3
   },
   "file_extension": ".py",
   "mimetype": "text/x-python",
   "name": "python",
   "nbconvert_exporter": "python",
   "pygments_lexer": "ipython3",
   "version": "3.8.3-final"
  }
 },
 "nbformat": 4,
 "nbformat_minor": 4
}