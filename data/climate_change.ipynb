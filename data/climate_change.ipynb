{
 "cells": [
  {
   "cell_type": "code",
   "execution_count": 1,
   "metadata": {},
   "outputs": [],
   "source": [
    "# Dependencies and Setup\n",
    "import pandas as pd\n",
    "import numpy as np\n"
   ]
  },
  {
   "source": [
    "## Get Top 20 Countries that produced the most CO2 emissions (2015)"
   ],
   "cell_type": "markdown",
   "metadata": {}
  },
  {
   "cell_type": "code",
   "execution_count": 4,
   "metadata": {},
   "outputs": [],
   "source": [
    "# Loading cleaned CO2 emissions data \n",
    "data = pd.read_csv('Cleaned_CO2.csv', index_col= \"Country Code\")\n"
   ]
  },
  {
   "cell_type": "code",
   "execution_count": 14,
   "metadata": {},
   "outputs": [
    {
     "output_type": "error",
     "ename": "NameError",
     "evalue": "name 'index' is not defined",
     "traceback": [
      "\u001b[1;31m---------------------------------------------------------------------------\u001b[0m",
      "\u001b[1;31mNameError\u001b[0m                                 Traceback (most recent call last)",
      "\u001b[1;32m<ipython-input-14-f256ff8bf2c5>\u001b[0m in \u001b[0;36m<module>\u001b[1;34m\u001b[0m\n\u001b[0;32m      4\u001b[0m \u001b[0mtop20_CO2df\u001b[0m\u001b[1;33m.\u001b[0m\u001b[0msort_values\u001b[0m\u001b[1;33m(\u001b[0m\u001b[1;34m\"Country Name\"\u001b[0m\u001b[1;33m,\u001b[0m \u001b[0minplace\u001b[0m\u001b[1;33m=\u001b[0m \u001b[1;32mTrue\u001b[0m\u001b[1;33m)\u001b[0m\u001b[1;33m\u001b[0m\u001b[1;33m\u001b[0m\u001b[0m\n\u001b[0;32m      5\u001b[0m \u001b[1;31m# top20_CO2df.reset_index(drop = True)\u001b[0m\u001b[1;33m\u001b[0m\u001b[1;33m\u001b[0m\u001b[1;33m\u001b[0m\u001b[0m\n\u001b[1;32m----> 6\u001b[1;33m \u001b[0mtop20_CO2df\u001b[0m\u001b[1;33m.\u001b[0m\u001b[0mdrop\u001b[0m\u001b[1;33m(\u001b[0m\u001b[0mlabels\u001b[0m\u001b[1;33m=\u001b[0m \u001b[0mindex\u001b[0m\u001b[1;33m,\u001b[0m \u001b[0minplace\u001b[0m\u001b[1;33m=\u001b[0m \u001b[1;32mTrue\u001b[0m\u001b[1;33m)\u001b[0m\u001b[1;33m\u001b[0m\u001b[1;33m\u001b[0m\u001b[0m\n\u001b[0m\u001b[0;32m      7\u001b[0m \u001b[0mtop20_CO2df\u001b[0m\u001b[1;33m.\u001b[0m\u001b[0mhead\u001b[0m\u001b[1;33m(\u001b[0m\u001b[1;36m5\u001b[0m\u001b[1;33m)\u001b[0m\u001b[1;33m\u001b[0m\u001b[1;33m\u001b[0m\u001b[0m\n",
      "\u001b[1;31mNameError\u001b[0m: name 'index' is not defined"
     ]
    }
   ],
   "source": [
    "# Slice top 20 countries with highest CO2 emissions -- USE THIS CHART TO FIND TOP 20 CO2 EMISSION DATA \n",
    "top20_CO2df = data.nlargest(20, '2015')\n",
    "\n",
    "top20_CO2df.sort_values(\"Country Name\", inplace= True)\n",
    "# top20_CO2df.reset_index(drop = True)\n",
    "top20_CO2df.drop(labels= index, inplace= True)\n",
    "top20_CO2df.head(5)"
   ]
  },
  {
   "cell_type": "code",
   "execution_count": null,
   "metadata": {},
   "outputs": [],
   "source": [
    "# Store Top 20 country Names in a list -- USE THESE FOR DROP DOWN MENU AND PIE CHART TITLES\n",
    "top20_countrynames_list = top20_CO2df[\"Country Name\"]\n",
    "top20_countrynames_list"
   ]
  },
  {
   "cell_type": "code",
   "execution_count": null,
   "metadata": {},
   "outputs": [],
   "source": [
    "# Store Top 20 country codes in a list -- USE THESE TO MERGE DATA \n",
    "top20_countrycodes_list = top20_CO2df[\"Country Code\"]\n",
    "top20_countrycodes_list"
   ]
  },
  {
   "cell_type": "code",
   "execution_count": null,
   "metadata": {},
   "outputs": [],
   "source": []
  },
  {
   "source": [
    "## Filter out other CSVs according to TOP 20 countries list "
   ],
   "cell_type": "markdown",
   "metadata": {}
  },
  {
   "cell_type": "code",
   "execution_count": null,
   "metadata": {},
   "outputs": [],
   "source": [
    "# Loading cleaned GDP data \n",
    "GDPdata = pd.read_csv('Cleaned_GDP.csv', index_col= \"Country Code\")\n",
    "\n",
    "# Store Top 20 Countries-GDP chart -- USE THIS CHART FOR GDP DATA\n",
    "top20_GDP= GDPdata.loc[top20_countrycodes_list]\n",
    "top20_GDP.sort_values(\"Country Name\", inplace= True)\n",
    "len(top20_GDP)"
   ]
  },
  {
   "cell_type": "code",
   "execution_count": null,
   "metadata": {},
   "outputs": [],
   "source": [
    "# Loading cleaned Renewable energy data \n",
    "Renewabledata = pd.read_csv('Cleaned_renewable.csv', index_col= \"Country Code\")\n",
    "\n",
    "# Store Top 20 Countries-Renewable Energy chart -- USE THIS CHART FOR RENEWABLE ENERGY DATA\n",
    "top20_Renewable= Renewabledata.loc[top20_countrycodes_list]\n",
    "top20_Renewable.sort_values(\"Country Name\", inplace= True)\n",
    "len(top20_Renewable)"
   ]
  },
  {
   "cell_type": "code",
   "execution_count": null,
   "metadata": {},
   "outputs": [],
   "source": [
    "colors = [\n",
    "'#93b987',\n",
    "'#f85916',\n",
    "'#fbd505',\n",
    "'#6d9c2f',\n",
    "'#ff3f3f',\n",
    "'#38ddd9',\n",
    "'#ffbc3e',\n",
    "'#92c12b',\n",
    "'#ff61a1',\n",
    "'#fdbf60',\n",
    "'#78347c',\n",
    "'#3a1560',\n",
    "'#58d454',\n",
    "'#30bac5',\n",
    "'#ffd214',\n",
    "'#ff8029',\n",
    "'#df0000',\n",
    "'#fbcb5a',\n",
    "'#ced4d7',\n",
    "'#d8b129',\n",
    "]\n",
    "\n",
    "top20_CO2df[\"color\"] = colors\n",
    "top20_GDP[\"color\"] = colors\n",
    "top20_Renewable[\"color\"] = colors\n",
    "\n",
    "top20_Renewable.head(5)"
   ]
  },
  {
   "cell_type": "code",
   "execution_count": null,
   "metadata": {},
   "outputs": [],
   "source": [
    "top20_CO2df.to_csv(\"top20_CO2df.csv\", index=True)\n",
    "\n",
    "top20_countrynames_list.to_csv(\"top20_countrynames_list.csv\", index=True)\n",
    "\n",
    "top20_countrycodes_list.to_csv(\"top20_countrycodes_list.csv\", index=True)\n",
    "\n",
    "top20_GDP.to_csv(\"top20_GDP.csv\", index=True)\n",
    "\n",
    "top20_Renewable.to_csv(\"top20_Renewable.csv\", index=True)"
   ]
  },
  {
   "cell_type": "code",
   "execution_count": null,
   "metadata": {},
   "outputs": [],
   "source": []
  }
 ],
 "metadata": {
  "kernelspec": {
   "display_name": "Python 3",
   "language": "python",
   "name": "python3"
  },
  "language_info": {
   "codemirror_mode": {
    "name": "ipython",
    "version": 3
   },
   "file_extension": ".py",
   "mimetype": "text/x-python",
   "name": "python",
   "nbconvert_exporter": "python",
   "pygments_lexer": "ipython3",
   "version": "3.8.3-final"
  }
 },
 "nbformat": 4,
 "nbformat_minor": 4
}