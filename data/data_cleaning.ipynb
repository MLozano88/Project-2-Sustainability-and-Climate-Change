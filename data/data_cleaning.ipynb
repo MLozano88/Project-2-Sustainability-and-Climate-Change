{
 "cells": [
  {
   "cell_type": "code",
   "execution_count": 4,
   "metadata": {},
   "outputs": [
    {
     "output_type": "execute_result",
     "data": {
      "text/plain": [
       "     Country Name Country Code      Indicator Name  Indicator Code       1960  \\\n",
       "0           Aruba          ABW  CO2 emissions (kt)  EN.ATM.CO2E.KT  11092.675   \n",
       "1     Afghanistan          AFG  CO2 emissions (kt)  EN.ATM.CO2E.KT    414.371   \n",
       "2          Angola          AGO  CO2 emissions (kt)  EN.ATM.CO2E.KT    550.050   \n",
       "3         Albania          ALB  CO2 emissions (kt)  EN.ATM.CO2E.KT   2024.184   \n",
       "4         Andorra          AND  CO2 emissions (kt)  EN.ATM.CO2E.KT        NaN   \n",
       "..            ...          ...                 ...             ...        ...   \n",
       "259        Kosovo          XKX  CO2 emissions (kt)  EN.ATM.CO2E.KT        NaN   \n",
       "260   Yemen, Rep.          YEM  CO2 emissions (kt)  EN.ATM.CO2E.KT     58.672   \n",
       "261  South Africa          ZAF  CO2 emissions (kt)  EN.ATM.CO2E.KT  97934.569   \n",
       "262        Zambia          ZMB  CO2 emissions (kt)  EN.ATM.CO2E.KT        NaN   \n",
       "263      Zimbabwe          ZWE  CO2 emissions (kt)  EN.ATM.CO2E.KT        NaN   \n",
       "\n",
       "           1961        1962        1963        1964        1965  ...  \\\n",
       "0     11576.719   12713.489   12178.107   11840.743   10623.299  ...   \n",
       "1       491.378     689.396     707.731     839.743    1008.425  ...   \n",
       "2       454.708    1180.774    1151.438    1224.778    1188.108  ...   \n",
       "3      2280.874    2464.224    2082.856    2016.850    2174.531  ...   \n",
       "4           NaN         NaN         NaN         NaN         NaN  ...   \n",
       "..          ...         ...         ...         ...         ...  ...   \n",
       "259         NaN         NaN         NaN         NaN         NaN  ...   \n",
       "260      73.340      69.673      80.674      99.009     102.676  ...   \n",
       "261  102213.958  105767.281  109826.650  119657.877  128260.659  ...   \n",
       "262         NaN         NaN         NaN    3278.298    3916.356  ...   \n",
       "263         NaN         NaN         NaN    4473.740    5214.474  ...   \n",
       "\n",
       "           2012        2013        2014        2015        2016  2017  2018  \\\n",
       "0      1349.456     861.745     872.746     898.415     883.747   NaN   NaN   \n",
       "1     10755.311    9050.156    8467.103    9035.488    8672.455   NaN   NaN   \n",
       "2     34176.440   33692.396   44851.077   34583.477   34693.487   NaN   NaN   \n",
       "3      4924.781    4913.780    5489.499    4616.753    4536.079   NaN   NaN   \n",
       "4       487.711     476.710     462.042     465.709     469.376   NaN   NaN   \n",
       "..          ...         ...         ...         ...         ...   ...   ...   \n",
       "259    7942.722    8074.734    7260.660    8408.431    8943.813   NaN   NaN   \n",
       "260   18698.033   25492.984   24667.909   13171.864   10608.631   NaN   NaN   \n",
       "261  464674.906  459222.077  484495.041  463952.507  476643.994   NaN   NaN   \n",
       "262    3678.001    3956.693    4503.076    4532.412    5141.134   NaN   NaN   \n",
       "263    7873.049   11771.070   12115.768   12317.453   10982.665   NaN   NaN   \n",
       "\n",
       "     2019  2020  Unnamed: 65  \n",
       "0     NaN   NaN          NaN  \n",
       "1     NaN   NaN          NaN  \n",
       "2     NaN   NaN          NaN  \n",
       "3     NaN   NaN          NaN  \n",
       "4     NaN   NaN          NaN  \n",
       "..    ...   ...          ...  \n",
       "259   NaN   NaN          NaN  \n",
       "260   NaN   NaN          NaN  \n",
       "261   NaN   NaN          NaN  \n",
       "262   NaN   NaN          NaN  \n",
       "263   NaN   NaN          NaN  \n",
       "\n",
       "[264 rows x 66 columns]"
      ],
      "text/html": "<div>\n<style scoped>\n    .dataframe tbody tr th:only-of-type {\n        vertical-align: middle;\n    }\n\n    .dataframe tbody tr th {\n        vertical-align: top;\n    }\n\n    .dataframe thead th {\n        text-align: right;\n    }\n</style>\n<table border=\"1\" class=\"dataframe\">\n  <thead>\n    <tr style=\"text-align: right;\">\n      <th></th>\n      <th>Country Name</th>\n      <th>Country Code</th>\n      <th>Indicator Name</th>\n      <th>Indicator Code</th>\n      <th>1960</th>\n      <th>1961</th>\n      <th>1962</th>\n      <th>1963</th>\n      <th>1964</th>\n      <th>1965</th>\n      <th>...</th>\n      <th>2012</th>\n      <th>2013</th>\n      <th>2014</th>\n      <th>2015</th>\n      <th>2016</th>\n      <th>2017</th>\n      <th>2018</th>\n      <th>2019</th>\n      <th>2020</th>\n      <th>Unnamed: 65</th>\n    </tr>\n  </thead>\n  <tbody>\n    <tr>\n      <th>0</th>\n      <td>Aruba</td>\n      <td>ABW</td>\n      <td>CO2 emissions (kt)</td>\n      <td>EN.ATM.CO2E.KT</td>\n      <td>11092.675</td>\n      <td>11576.719</td>\n      <td>12713.489</td>\n      <td>12178.107</td>\n      <td>11840.743</td>\n      <td>10623.299</td>\n      <td>...</td>\n      <td>1349.456</td>\n      <td>861.745</td>\n      <td>872.746</td>\n      <td>898.415</td>\n      <td>883.747</td>\n      <td>NaN</td>\n      <td>NaN</td>\n      <td>NaN</td>\n      <td>NaN</td>\n      <td>NaN</td>\n    </tr>\n    <tr>\n      <th>1</th>\n      <td>Afghanistan</td>\n      <td>AFG</td>\n      <td>CO2 emissions (kt)</td>\n      <td>EN.ATM.CO2E.KT</td>\n      <td>414.371</td>\n      <td>491.378</td>\n      <td>689.396</td>\n      <td>707.731</td>\n      <td>839.743</td>\n      <td>1008.425</td>\n      <td>...</td>\n      <td>10755.311</td>\n      <td>9050.156</td>\n      <td>8467.103</td>\n      <td>9035.488</td>\n      <td>8672.455</td>\n      <td>NaN</td>\n      <td>NaN</td>\n      <td>NaN</td>\n      <td>NaN</td>\n      <td>NaN</td>\n    </tr>\n    <tr>\n      <th>2</th>\n      <td>Angola</td>\n      <td>AGO</td>\n      <td>CO2 emissions (kt)</td>\n      <td>EN.ATM.CO2E.KT</td>\n      <td>550.050</td>\n      <td>454.708</td>\n      <td>1180.774</td>\n      <td>1151.438</td>\n      <td>1224.778</td>\n      <td>1188.108</td>\n      <td>...</td>\n      <td>34176.440</td>\n      <td>33692.396</td>\n      <td>44851.077</td>\n      <td>34583.477</td>\n      <td>34693.487</td>\n      <td>NaN</td>\n      <td>NaN</td>\n      <td>NaN</td>\n      <td>NaN</td>\n      <td>NaN</td>\n    </tr>\n    <tr>\n      <th>3</th>\n      <td>Albania</td>\n      <td>ALB</td>\n      <td>CO2 emissions (kt)</td>\n      <td>EN.ATM.CO2E.KT</td>\n      <td>2024.184</td>\n      <td>2280.874</td>\n      <td>2464.224</td>\n      <td>2082.856</td>\n      <td>2016.850</td>\n      <td>2174.531</td>\n      <td>...</td>\n      <td>4924.781</td>\n      <td>4913.780</td>\n      <td>5489.499</td>\n      <td>4616.753</td>\n      <td>4536.079</td>\n      <td>NaN</td>\n      <td>NaN</td>\n      <td>NaN</td>\n      <td>NaN</td>\n      <td>NaN</td>\n    </tr>\n    <tr>\n      <th>4</th>\n      <td>Andorra</td>\n      <td>AND</td>\n      <td>CO2 emissions (kt)</td>\n      <td>EN.ATM.CO2E.KT</td>\n      <td>NaN</td>\n      <td>NaN</td>\n      <td>NaN</td>\n      <td>NaN</td>\n      <td>NaN</td>\n      <td>NaN</td>\n      <td>...</td>\n      <td>487.711</td>\n      <td>476.710</td>\n      <td>462.042</td>\n      <td>465.709</td>\n      <td>469.376</td>\n      <td>NaN</td>\n      <td>NaN</td>\n      <td>NaN</td>\n      <td>NaN</td>\n      <td>NaN</td>\n    </tr>\n    <tr>\n      <th>...</th>\n      <td>...</td>\n      <td>...</td>\n      <td>...</td>\n      <td>...</td>\n      <td>...</td>\n      <td>...</td>\n      <td>...</td>\n      <td>...</td>\n      <td>...</td>\n      <td>...</td>\n      <td>...</td>\n      <td>...</td>\n      <td>...</td>\n      <td>...</td>\n      <td>...</td>\n      <td>...</td>\n      <td>...</td>\n      <td>...</td>\n      <td>...</td>\n      <td>...</td>\n      <td>...</td>\n    </tr>\n    <tr>\n      <th>259</th>\n      <td>Kosovo</td>\n      <td>XKX</td>\n      <td>CO2 emissions (kt)</td>\n      <td>EN.ATM.CO2E.KT</td>\n      <td>NaN</td>\n      <td>NaN</td>\n      <td>NaN</td>\n      <td>NaN</td>\n      <td>NaN</td>\n      <td>NaN</td>\n      <td>...</td>\n      <td>7942.722</td>\n      <td>8074.734</td>\n      <td>7260.660</td>\n      <td>8408.431</td>\n      <td>8943.813</td>\n      <td>NaN</td>\n      <td>NaN</td>\n      <td>NaN</td>\n      <td>NaN</td>\n      <td>NaN</td>\n    </tr>\n    <tr>\n      <th>260</th>\n      <td>Yemen, Rep.</td>\n      <td>YEM</td>\n      <td>CO2 emissions (kt)</td>\n      <td>EN.ATM.CO2E.KT</td>\n      <td>58.672</td>\n      <td>73.340</td>\n      <td>69.673</td>\n      <td>80.674</td>\n      <td>99.009</td>\n      <td>102.676</td>\n      <td>...</td>\n      <td>18698.033</td>\n      <td>25492.984</td>\n      <td>24667.909</td>\n      <td>13171.864</td>\n      <td>10608.631</td>\n      <td>NaN</td>\n      <td>NaN</td>\n      <td>NaN</td>\n      <td>NaN</td>\n      <td>NaN</td>\n    </tr>\n    <tr>\n      <th>261</th>\n      <td>South Africa</td>\n      <td>ZAF</td>\n      <td>CO2 emissions (kt)</td>\n      <td>EN.ATM.CO2E.KT</td>\n      <td>97934.569</td>\n      <td>102213.958</td>\n      <td>105767.281</td>\n      <td>109826.650</td>\n      <td>119657.877</td>\n      <td>128260.659</td>\n      <td>...</td>\n      <td>464674.906</td>\n      <td>459222.077</td>\n      <td>484495.041</td>\n      <td>463952.507</td>\n      <td>476643.994</td>\n      <td>NaN</td>\n      <td>NaN</td>\n      <td>NaN</td>\n      <td>NaN</td>\n      <td>NaN</td>\n    </tr>\n    <tr>\n      <th>262</th>\n      <td>Zambia</td>\n      <td>ZMB</td>\n      <td>CO2 emissions (kt)</td>\n      <td>EN.ATM.CO2E.KT</td>\n      <td>NaN</td>\n      <td>NaN</td>\n      <td>NaN</td>\n      <td>NaN</td>\n      <td>3278.298</td>\n      <td>3916.356</td>\n      <td>...</td>\n      <td>3678.001</td>\n      <td>3956.693</td>\n      <td>4503.076</td>\n      <td>4532.412</td>\n      <td>5141.134</td>\n      <td>NaN</td>\n      <td>NaN</td>\n      <td>NaN</td>\n      <td>NaN</td>\n      <td>NaN</td>\n    </tr>\n    <tr>\n      <th>263</th>\n      <td>Zimbabwe</td>\n      <td>ZWE</td>\n      <td>CO2 emissions (kt)</td>\n      <td>EN.ATM.CO2E.KT</td>\n      <td>NaN</td>\n      <td>NaN</td>\n      <td>NaN</td>\n      <td>NaN</td>\n      <td>4473.740</td>\n      <td>5214.474</td>\n      <td>...</td>\n      <td>7873.049</td>\n      <td>11771.070</td>\n      <td>12115.768</td>\n      <td>12317.453</td>\n      <td>10982.665</td>\n      <td>NaN</td>\n      <td>NaN</td>\n      <td>NaN</td>\n      <td>NaN</td>\n      <td>NaN</td>\n    </tr>\n  </tbody>\n</table>\n<p>264 rows × 66 columns</p>\n</div>"
     },
     "metadata": {},
     "execution_count": 4
    }
   ],
   "source": [
    "# Dependencies and Setup\n",
    "import pandas as pd\n",
    "import numpy as np\n",
    "\n",
    "# Loading raw data\n",
    "data = pd.read_csv('CO2emissions_data.csv', error_bad_lines=False)\n",
    "data"
   ]
  },
  {
   "cell_type": "code",
   "execution_count": null,
   "metadata": {},
   "outputs": [],
   "source": []
  }
 ],
 "metadata": {
  "kernelspec": {
   "display_name": "Python 3",
   "language": "python",
   "name": "python3"
  },
  "language_info": {
   "codemirror_mode": {
    "name": "ipython",
    "version": 3
   },
   "file_extension": ".py",
   "mimetype": "text/x-python",
   "name": "python",
   "nbconvert_exporter": "python",
   "pygments_lexer": "ipython3",
   "version": "3.8.3-final"
  }
 },
 "nbformat": 4,
 "nbformat_minor": 4
}