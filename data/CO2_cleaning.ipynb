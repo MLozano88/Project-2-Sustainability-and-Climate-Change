{
 "cells": [
  {
   "cell_type": "code",
   "execution_count": 3,
   "metadata": {},
   "outputs": [
    {
     "output_type": "execute_result",
     "data": {
      "text/plain": [
       "  Country Name Country Code      Indicator Name  Indicator Code       1960  \\\n",
       "0        Aruba          ABW  CO2 emissions (kt)  EN.ATM.CO2E.KT  11092.675   \n",
       "1  Afghanistan          AFG  CO2 emissions (kt)  EN.ATM.CO2E.KT    414.371   \n",
       "2       Angola          AGO  CO2 emissions (kt)  EN.ATM.CO2E.KT    550.050   \n",
       "3      Albania          ALB  CO2 emissions (kt)  EN.ATM.CO2E.KT   2024.184   \n",
       "4      Andorra          AND  CO2 emissions (kt)  EN.ATM.CO2E.KT        NaN   \n",
       "\n",
       "        1961       1962       1963       1964       1965  ...       2012  \\\n",
       "0  11576.719  12713.489  12178.107  11840.743  10623.299  ...   1349.456   \n",
       "1    491.378    689.396    707.731    839.743   1008.425  ...  10755.311   \n",
       "2    454.708   1180.774   1151.438   1224.778   1188.108  ...  34176.440   \n",
       "3   2280.874   2464.224   2082.856   2016.850   2174.531  ...   4924.781   \n",
       "4        NaN        NaN        NaN        NaN        NaN  ...    487.711   \n",
       "\n",
       "        2013       2014       2015       2016  2017  2018  2019  2020  \\\n",
       "0    861.745    872.746    898.415    883.747   NaN   NaN   NaN   NaN   \n",
       "1   9050.156   8467.103   9035.488   8672.455   NaN   NaN   NaN   NaN   \n",
       "2  33692.396  44851.077  34583.477  34693.487   NaN   NaN   NaN   NaN   \n",
       "3   4913.780   5489.499   4616.753   4536.079   NaN   NaN   NaN   NaN   \n",
       "4    476.710    462.042    465.709    469.376   NaN   NaN   NaN   NaN   \n",
       "\n",
       "   Unnamed: 65  \n",
       "0          NaN  \n",
       "1          NaN  \n",
       "2          NaN  \n",
       "3          NaN  \n",
       "4          NaN  \n",
       "\n",
       "[5 rows x 66 columns]"
      ],
      "text/html": "<div>\n<style scoped>\n    .dataframe tbody tr th:only-of-type {\n        vertical-align: middle;\n    }\n\n    .dataframe tbody tr th {\n        vertical-align: top;\n    }\n\n    .dataframe thead th {\n        text-align: right;\n    }\n</style>\n<table border=\"1\" class=\"dataframe\">\n  <thead>\n    <tr style=\"text-align: right;\">\n      <th></th>\n      <th>Country Name</th>\n      <th>Country Code</th>\n      <th>Indicator Name</th>\n      <th>Indicator Code</th>\n      <th>1960</th>\n      <th>1961</th>\n      <th>1962</th>\n      <th>1963</th>\n      <th>1964</th>\n      <th>1965</th>\n      <th>...</th>\n      <th>2012</th>\n      <th>2013</th>\n      <th>2014</th>\n      <th>2015</th>\n      <th>2016</th>\n      <th>2017</th>\n      <th>2018</th>\n      <th>2019</th>\n      <th>2020</th>\n      <th>Unnamed: 65</th>\n    </tr>\n  </thead>\n  <tbody>\n    <tr>\n      <th>0</th>\n      <td>Aruba</td>\n      <td>ABW</td>\n      <td>CO2 emissions (kt)</td>\n      <td>EN.ATM.CO2E.KT</td>\n      <td>11092.675</td>\n      <td>11576.719</td>\n      <td>12713.489</td>\n      <td>12178.107</td>\n      <td>11840.743</td>\n      <td>10623.299</td>\n      <td>...</td>\n      <td>1349.456</td>\n      <td>861.745</td>\n      <td>872.746</td>\n      <td>898.415</td>\n      <td>883.747</td>\n      <td>NaN</td>\n      <td>NaN</td>\n      <td>NaN</td>\n      <td>NaN</td>\n      <td>NaN</td>\n    </tr>\n    <tr>\n      <th>1</th>\n      <td>Afghanistan</td>\n      <td>AFG</td>\n      <td>CO2 emissions (kt)</td>\n      <td>EN.ATM.CO2E.KT</td>\n      <td>414.371</td>\n      <td>491.378</td>\n      <td>689.396</td>\n      <td>707.731</td>\n      <td>839.743</td>\n      <td>1008.425</td>\n      <td>...</td>\n      <td>10755.311</td>\n      <td>9050.156</td>\n      <td>8467.103</td>\n      <td>9035.488</td>\n      <td>8672.455</td>\n      <td>NaN</td>\n      <td>NaN</td>\n      <td>NaN</td>\n      <td>NaN</td>\n      <td>NaN</td>\n    </tr>\n    <tr>\n      <th>2</th>\n      <td>Angola</td>\n      <td>AGO</td>\n      <td>CO2 emissions (kt)</td>\n      <td>EN.ATM.CO2E.KT</td>\n      <td>550.050</td>\n      <td>454.708</td>\n      <td>1180.774</td>\n      <td>1151.438</td>\n      <td>1224.778</td>\n      <td>1188.108</td>\n      <td>...</td>\n      <td>34176.440</td>\n      <td>33692.396</td>\n      <td>44851.077</td>\n      <td>34583.477</td>\n      <td>34693.487</td>\n      <td>NaN</td>\n      <td>NaN</td>\n      <td>NaN</td>\n      <td>NaN</td>\n      <td>NaN</td>\n    </tr>\n    <tr>\n      <th>3</th>\n      <td>Albania</td>\n      <td>ALB</td>\n      <td>CO2 emissions (kt)</td>\n      <td>EN.ATM.CO2E.KT</td>\n      <td>2024.184</td>\n      <td>2280.874</td>\n      <td>2464.224</td>\n      <td>2082.856</td>\n      <td>2016.850</td>\n      <td>2174.531</td>\n      <td>...</td>\n      <td>4924.781</td>\n      <td>4913.780</td>\n      <td>5489.499</td>\n      <td>4616.753</td>\n      <td>4536.079</td>\n      <td>NaN</td>\n      <td>NaN</td>\n      <td>NaN</td>\n      <td>NaN</td>\n      <td>NaN</td>\n    </tr>\n    <tr>\n      <th>4</th>\n      <td>Andorra</td>\n      <td>AND</td>\n      <td>CO2 emissions (kt)</td>\n      <td>EN.ATM.CO2E.KT</td>\n      <td>NaN</td>\n      <td>NaN</td>\n      <td>NaN</td>\n      <td>NaN</td>\n      <td>NaN</td>\n      <td>NaN</td>\n      <td>...</td>\n      <td>487.711</td>\n      <td>476.710</td>\n      <td>462.042</td>\n      <td>465.709</td>\n      <td>469.376</td>\n      <td>NaN</td>\n      <td>NaN</td>\n      <td>NaN</td>\n      <td>NaN</td>\n      <td>NaN</td>\n    </tr>\n  </tbody>\n</table>\n<p>5 rows × 66 columns</p>\n</div>"
     },
     "metadata": {},
     "execution_count": 3
    }
   ],
   "source": [
    "# Dependencies and Setup\n",
    "import pandas as pd\n",
    "import numpy as np\n",
    "\n",
    "# Loading raw data and cleaning\n",
    "data = pd.read_csv('CO2emissions_data.csv', error_bad_lines=False)\n",
    "\n",
    "data.head()"
   ]
  },
  {
   "cell_type": "code",
   "execution_count": 4,
   "metadata": {},
   "outputs": [
    {
     "output_type": "execute_result",
     "data": {
      "text/plain": [
       "  Country Name Country Code      Indicator Name      2000      2001  \\\n",
       "0        Aruba          ABW  CO2 emissions (kt)  2379.883  2409.219   \n",
       "1  Afghanistan          AFG  CO2 emissions (kt)   773.737   817.741   \n",
       "2       Angola          AGO  CO2 emissions (kt)  9541.534  9732.218   \n",
       "3      Albania          ALB  CO2 emissions (kt)  3021.608  3223.293   \n",
       "4      Andorra          AND  CO2 emissions (kt)   524.381   524.381   \n",
       "\n",
       "        2002      2003       2004       2005       2006       2007       2008  \\\n",
       "0   2438.555  2563.233   2618.238   2720.914   2717.247   2823.590   2658.575   \n",
       "1   1070.764  1213.777    916.750   1327.454   1650.150   2273.540   4206.049   \n",
       "2  12665.818  9064.824  18793.375  19156.408  22266.024  25151.953  25709.337   \n",
       "3   3751.341  4294.057   4165.712   4253.720   3898.021   3927.357   4374.731   \n",
       "4    531.715   535.382    561.051    575.719    546.383    539.049    539.049   \n",
       "\n",
       "        2009       2010       2011       2012       2013       2014       2015  \n",
       "0   2629.239   2508.228   2500.894   1349.456    861.745    872.746    898.415  \n",
       "1   6769.282   8463.436  12240.446  10755.311   9050.156   8467.103   9035.488  \n",
       "2  27792.193  29057.308  30586.447  34176.440  33692.396  44851.077  34583.477  \n",
       "3   4378.398   4598.418   5240.143   4924.781   4913.780   5489.499   4616.753  \n",
       "4    517.047    517.047    491.378    487.711    476.710    462.042    465.709  "
      ],
      "text/html": "<div>\n<style scoped>\n    .dataframe tbody tr th:only-of-type {\n        vertical-align: middle;\n    }\n\n    .dataframe tbody tr th {\n        vertical-align: top;\n    }\n\n    .dataframe thead th {\n        text-align: right;\n    }\n</style>\n<table border=\"1\" class=\"dataframe\">\n  <thead>\n    <tr style=\"text-align: right;\">\n      <th></th>\n      <th>Country Name</th>\n      <th>Country Code</th>\n      <th>Indicator Name</th>\n      <th>2000</th>\n      <th>2001</th>\n      <th>2002</th>\n      <th>2003</th>\n      <th>2004</th>\n      <th>2005</th>\n      <th>2006</th>\n      <th>2007</th>\n      <th>2008</th>\n      <th>2009</th>\n      <th>2010</th>\n      <th>2011</th>\n      <th>2012</th>\n      <th>2013</th>\n      <th>2014</th>\n      <th>2015</th>\n    </tr>\n  </thead>\n  <tbody>\n    <tr>\n      <th>0</th>\n      <td>Aruba</td>\n      <td>ABW</td>\n      <td>CO2 emissions (kt)</td>\n      <td>2379.883</td>\n      <td>2409.219</td>\n      <td>2438.555</td>\n      <td>2563.233</td>\n      <td>2618.238</td>\n      <td>2720.914</td>\n      <td>2717.247</td>\n      <td>2823.590</td>\n      <td>2658.575</td>\n      <td>2629.239</td>\n      <td>2508.228</td>\n      <td>2500.894</td>\n      <td>1349.456</td>\n      <td>861.745</td>\n      <td>872.746</td>\n      <td>898.415</td>\n    </tr>\n    <tr>\n      <th>1</th>\n      <td>Afghanistan</td>\n      <td>AFG</td>\n      <td>CO2 emissions (kt)</td>\n      <td>773.737</td>\n      <td>817.741</td>\n      <td>1070.764</td>\n      <td>1213.777</td>\n      <td>916.750</td>\n      <td>1327.454</td>\n      <td>1650.150</td>\n      <td>2273.540</td>\n      <td>4206.049</td>\n      <td>6769.282</td>\n      <td>8463.436</td>\n      <td>12240.446</td>\n      <td>10755.311</td>\n      <td>9050.156</td>\n      <td>8467.103</td>\n      <td>9035.488</td>\n    </tr>\n    <tr>\n      <th>2</th>\n      <td>Angola</td>\n      <td>AGO</td>\n      <td>CO2 emissions (kt)</td>\n      <td>9541.534</td>\n      <td>9732.218</td>\n      <td>12665.818</td>\n      <td>9064.824</td>\n      <td>18793.375</td>\n      <td>19156.408</td>\n      <td>22266.024</td>\n      <td>25151.953</td>\n      <td>25709.337</td>\n      <td>27792.193</td>\n      <td>29057.308</td>\n      <td>30586.447</td>\n      <td>34176.440</td>\n      <td>33692.396</td>\n      <td>44851.077</td>\n      <td>34583.477</td>\n    </tr>\n    <tr>\n      <th>3</th>\n      <td>Albania</td>\n      <td>ALB</td>\n      <td>CO2 emissions (kt)</td>\n      <td>3021.608</td>\n      <td>3223.293</td>\n      <td>3751.341</td>\n      <td>4294.057</td>\n      <td>4165.712</td>\n      <td>4253.720</td>\n      <td>3898.021</td>\n      <td>3927.357</td>\n      <td>4374.731</td>\n      <td>4378.398</td>\n      <td>4598.418</td>\n      <td>5240.143</td>\n      <td>4924.781</td>\n      <td>4913.780</td>\n      <td>5489.499</td>\n      <td>4616.753</td>\n    </tr>\n    <tr>\n      <th>4</th>\n      <td>Andorra</td>\n      <td>AND</td>\n      <td>CO2 emissions (kt)</td>\n      <td>524.381</td>\n      <td>524.381</td>\n      <td>531.715</td>\n      <td>535.382</td>\n      <td>561.051</td>\n      <td>575.719</td>\n      <td>546.383</td>\n      <td>539.049</td>\n      <td>539.049</td>\n      <td>517.047</td>\n      <td>517.047</td>\n      <td>491.378</td>\n      <td>487.711</td>\n      <td>476.710</td>\n      <td>462.042</td>\n      <td>465.709</td>\n    </tr>\n  </tbody>\n</table>\n</div>"
     },
     "metadata": {},
     "execution_count": 4
    }
   ],
   "source": [
    "columns_to_keep = [\"Country Name\", \"Country Code\", \"Indicator Name\", \"2000\", \"2001\", \"2002\", \"2003\", \"2004\", \"2005\", \"2006\", \"2007\", \"2008\", \"2009\", \"2010\", \"2011\", \"2012\", \"2013\", \"2014\", \"2015\"]\n",
    "\n",
    "Organized_df = data[columns_to_keep]\n",
    "Organized_df.head()"
   ]
  },
  {
   "cell_type": "code",
   "execution_count": 5,
   "metadata": {},
   "outputs": [
    {
     "output_type": "execute_result",
     "data": {
      "text/plain": [
       "  Country Name Country Code      Indicator Name      2000      2001  \\\n",
       "0        Aruba          ABW  CO2 emissions (kt)  2379.883  2409.219   \n",
       "1  Afghanistan          AFG  CO2 emissions (kt)   773.737   817.741   \n",
       "2       Angola          AGO  CO2 emissions (kt)  9541.534  9732.218   \n",
       "3      Albania          ALB  CO2 emissions (kt)  3021.608  3223.293   \n",
       "4      Andorra          AND  CO2 emissions (kt)   524.381   524.381   \n",
       "\n",
       "        2002      2003       2004       2005       2006       2007       2008  \\\n",
       "0   2438.555  2563.233   2618.238   2720.914   2717.247   2823.590   2658.575   \n",
       "1   1070.764  1213.777    916.750   1327.454   1650.150   2273.540   4206.049   \n",
       "2  12665.818  9064.824  18793.375  19156.408  22266.024  25151.953  25709.337   \n",
       "3   3751.341  4294.057   4165.712   4253.720   3898.021   3927.357   4374.731   \n",
       "4    531.715   535.382    561.051    575.719    546.383    539.049    539.049   \n",
       "\n",
       "        2009       2010       2011       2012       2013       2014       2015  \n",
       "0   2629.239   2508.228   2500.894   1349.456    861.745    872.746    898.415  \n",
       "1   6769.282   8463.436  12240.446  10755.311   9050.156   8467.103   9035.488  \n",
       "2  27792.193  29057.308  30586.447  34176.440  33692.396  44851.077  34583.477  \n",
       "3   4378.398   4598.418   5240.143   4924.781   4913.780   5489.499   4616.753  \n",
       "4    517.047    517.047    491.378    487.711    476.710    462.042    465.709  "
      ],
      "text/html": "<div>\n<style scoped>\n    .dataframe tbody tr th:only-of-type {\n        vertical-align: middle;\n    }\n\n    .dataframe tbody tr th {\n        vertical-align: top;\n    }\n\n    .dataframe thead th {\n        text-align: right;\n    }\n</style>\n<table border=\"1\" class=\"dataframe\">\n  <thead>\n    <tr style=\"text-align: right;\">\n      <th></th>\n      <th>Country Name</th>\n      <th>Country Code</th>\n      <th>Indicator Name</th>\n      <th>2000</th>\n      <th>2001</th>\n      <th>2002</th>\n      <th>2003</th>\n      <th>2004</th>\n      <th>2005</th>\n      <th>2006</th>\n      <th>2007</th>\n      <th>2008</th>\n      <th>2009</th>\n      <th>2010</th>\n      <th>2011</th>\n      <th>2012</th>\n      <th>2013</th>\n      <th>2014</th>\n      <th>2015</th>\n    </tr>\n  </thead>\n  <tbody>\n    <tr>\n      <th>0</th>\n      <td>Aruba</td>\n      <td>ABW</td>\n      <td>CO2 emissions (kt)</td>\n      <td>2379.883</td>\n      <td>2409.219</td>\n      <td>2438.555</td>\n      <td>2563.233</td>\n      <td>2618.238</td>\n      <td>2720.914</td>\n      <td>2717.247</td>\n      <td>2823.590</td>\n      <td>2658.575</td>\n      <td>2629.239</td>\n      <td>2508.228</td>\n      <td>2500.894</td>\n      <td>1349.456</td>\n      <td>861.745</td>\n      <td>872.746</td>\n      <td>898.415</td>\n    </tr>\n    <tr>\n      <th>1</th>\n      <td>Afghanistan</td>\n      <td>AFG</td>\n      <td>CO2 emissions (kt)</td>\n      <td>773.737</td>\n      <td>817.741</td>\n      <td>1070.764</td>\n      <td>1213.777</td>\n      <td>916.750</td>\n      <td>1327.454</td>\n      <td>1650.150</td>\n      <td>2273.540</td>\n      <td>4206.049</td>\n      <td>6769.282</td>\n      <td>8463.436</td>\n      <td>12240.446</td>\n      <td>10755.311</td>\n      <td>9050.156</td>\n      <td>8467.103</td>\n      <td>9035.488</td>\n    </tr>\n    <tr>\n      <th>2</th>\n      <td>Angola</td>\n      <td>AGO</td>\n      <td>CO2 emissions (kt)</td>\n      <td>9541.534</td>\n      <td>9732.218</td>\n      <td>12665.818</td>\n      <td>9064.824</td>\n      <td>18793.375</td>\n      <td>19156.408</td>\n      <td>22266.024</td>\n      <td>25151.953</td>\n      <td>25709.337</td>\n      <td>27792.193</td>\n      <td>29057.308</td>\n      <td>30586.447</td>\n      <td>34176.440</td>\n      <td>33692.396</td>\n      <td>44851.077</td>\n      <td>34583.477</td>\n    </tr>\n    <tr>\n      <th>3</th>\n      <td>Albania</td>\n      <td>ALB</td>\n      <td>CO2 emissions (kt)</td>\n      <td>3021.608</td>\n      <td>3223.293</td>\n      <td>3751.341</td>\n      <td>4294.057</td>\n      <td>4165.712</td>\n      <td>4253.720</td>\n      <td>3898.021</td>\n      <td>3927.357</td>\n      <td>4374.731</td>\n      <td>4378.398</td>\n      <td>4598.418</td>\n      <td>5240.143</td>\n      <td>4924.781</td>\n      <td>4913.780</td>\n      <td>5489.499</td>\n      <td>4616.753</td>\n    </tr>\n    <tr>\n      <th>4</th>\n      <td>Andorra</td>\n      <td>AND</td>\n      <td>CO2 emissions (kt)</td>\n      <td>524.381</td>\n      <td>524.381</td>\n      <td>531.715</td>\n      <td>535.382</td>\n      <td>561.051</td>\n      <td>575.719</td>\n      <td>546.383</td>\n      <td>539.049</td>\n      <td>539.049</td>\n      <td>517.047</td>\n      <td>517.047</td>\n      <td>491.378</td>\n      <td>487.711</td>\n      <td>476.710</td>\n      <td>462.042</td>\n      <td>465.709</td>\n    </tr>\n  </tbody>\n</table>\n</div>"
     },
     "metadata": {},
     "execution_count": 5
    }
   ],
   "source": [
    "CO2_data = Organized_df.dropna()\n",
    "CO2_data.head()"
   ]
  },
  {
   "cell_type": "code",
   "execution_count": 8,
   "metadata": {},
   "outputs": [
    {
     "output_type": "execute_result",
     "data": {
      "text/plain": [
       "  country_name country_code      indicator_name      2000      2001  \\\n",
       "0        Aruba          ABW  CO2 emissions (kt)  2379.883  2409.219   \n",
       "1  Afghanistan          AFG  CO2 emissions (kt)   773.737   817.741   \n",
       "2       Angola          AGO  CO2 emissions (kt)  9541.534  9732.218   \n",
       "3      Albania          ALB  CO2 emissions (kt)  3021.608  3223.293   \n",
       "4      Andorra          AND  CO2 emissions (kt)   524.381   524.381   \n",
       "\n",
       "        2002      2003       2004       2005       2006       2007       2008  \\\n",
       "0   2438.555  2563.233   2618.238   2720.914   2717.247   2823.590   2658.575   \n",
       "1   1070.764  1213.777    916.750   1327.454   1650.150   2273.540   4206.049   \n",
       "2  12665.818  9064.824  18793.375  19156.408  22266.024  25151.953  25709.337   \n",
       "3   3751.341  4294.057   4165.712   4253.720   3898.021   3927.357   4374.731   \n",
       "4    531.715   535.382    561.051    575.719    546.383    539.049    539.049   \n",
       "\n",
       "        2009       2010       2011       2012       2013       2014       2015  \n",
       "0   2629.239   2508.228   2500.894   1349.456    861.745    872.746    898.415  \n",
       "1   6769.282   8463.436  12240.446  10755.311   9050.156   8467.103   9035.488  \n",
       "2  27792.193  29057.308  30586.447  34176.440  33692.396  44851.077  34583.477  \n",
       "3   4378.398   4598.418   5240.143   4924.781   4913.780   5489.499   4616.753  \n",
       "4    517.047    517.047    491.378    487.711    476.710    462.042    465.709  "
      ],
      "text/html": "<div>\n<style scoped>\n    .dataframe tbody tr th:only-of-type {\n        vertical-align: middle;\n    }\n\n    .dataframe tbody tr th {\n        vertical-align: top;\n    }\n\n    .dataframe thead th {\n        text-align: right;\n    }\n</style>\n<table border=\"1\" class=\"dataframe\">\n  <thead>\n    <tr style=\"text-align: right;\">\n      <th></th>\n      <th>country_name</th>\n      <th>country_code</th>\n      <th>indicator_name</th>\n      <th>2000</th>\n      <th>2001</th>\n      <th>2002</th>\n      <th>2003</th>\n      <th>2004</th>\n      <th>2005</th>\n      <th>2006</th>\n      <th>2007</th>\n      <th>2008</th>\n      <th>2009</th>\n      <th>2010</th>\n      <th>2011</th>\n      <th>2012</th>\n      <th>2013</th>\n      <th>2014</th>\n      <th>2015</th>\n    </tr>\n  </thead>\n  <tbody>\n    <tr>\n      <th>0</th>\n      <td>Aruba</td>\n      <td>ABW</td>\n      <td>CO2 emissions (kt)</td>\n      <td>2379.883</td>\n      <td>2409.219</td>\n      <td>2438.555</td>\n      <td>2563.233</td>\n      <td>2618.238</td>\n      <td>2720.914</td>\n      <td>2717.247</td>\n      <td>2823.590</td>\n      <td>2658.575</td>\n      <td>2629.239</td>\n      <td>2508.228</td>\n      <td>2500.894</td>\n      <td>1349.456</td>\n      <td>861.745</td>\n      <td>872.746</td>\n      <td>898.415</td>\n    </tr>\n    <tr>\n      <th>1</th>\n      <td>Afghanistan</td>\n      <td>AFG</td>\n      <td>CO2 emissions (kt)</td>\n      <td>773.737</td>\n      <td>817.741</td>\n      <td>1070.764</td>\n      <td>1213.777</td>\n      <td>916.750</td>\n      <td>1327.454</td>\n      <td>1650.150</td>\n      <td>2273.540</td>\n      <td>4206.049</td>\n      <td>6769.282</td>\n      <td>8463.436</td>\n      <td>12240.446</td>\n      <td>10755.311</td>\n      <td>9050.156</td>\n      <td>8467.103</td>\n      <td>9035.488</td>\n    </tr>\n    <tr>\n      <th>2</th>\n      <td>Angola</td>\n      <td>AGO</td>\n      <td>CO2 emissions (kt)</td>\n      <td>9541.534</td>\n      <td>9732.218</td>\n      <td>12665.818</td>\n      <td>9064.824</td>\n      <td>18793.375</td>\n      <td>19156.408</td>\n      <td>22266.024</td>\n      <td>25151.953</td>\n      <td>25709.337</td>\n      <td>27792.193</td>\n      <td>29057.308</td>\n      <td>30586.447</td>\n      <td>34176.440</td>\n      <td>33692.396</td>\n      <td>44851.077</td>\n      <td>34583.477</td>\n    </tr>\n    <tr>\n      <th>3</th>\n      <td>Albania</td>\n      <td>ALB</td>\n      <td>CO2 emissions (kt)</td>\n      <td>3021.608</td>\n      <td>3223.293</td>\n      <td>3751.341</td>\n      <td>4294.057</td>\n      <td>4165.712</td>\n      <td>4253.720</td>\n      <td>3898.021</td>\n      <td>3927.357</td>\n      <td>4374.731</td>\n      <td>4378.398</td>\n      <td>4598.418</td>\n      <td>5240.143</td>\n      <td>4924.781</td>\n      <td>4913.780</td>\n      <td>5489.499</td>\n      <td>4616.753</td>\n    </tr>\n    <tr>\n      <th>4</th>\n      <td>Andorra</td>\n      <td>AND</td>\n      <td>CO2 emissions (kt)</td>\n      <td>524.381</td>\n      <td>524.381</td>\n      <td>531.715</td>\n      <td>535.382</td>\n      <td>561.051</td>\n      <td>575.719</td>\n      <td>546.383</td>\n      <td>539.049</td>\n      <td>539.049</td>\n      <td>517.047</td>\n      <td>517.047</td>\n      <td>491.378</td>\n      <td>487.711</td>\n      <td>476.710</td>\n      <td>462.042</td>\n      <td>465.709</td>\n    </tr>\n  </tbody>\n</table>\n</div>"
     },
     "metadata": {},
     "execution_count": 8
    }
   ],
   "source": [
    "CO2_data = CO2_data.rename(columns={\"Country Name\":\"country_name\",\"Country Code\":\"country_code\",\"Indicator Name\":\"indicator_name\"})\n",
    "\n",
    "CO2_data.head()"
   ]
  },
  {
   "cell_type": "code",
   "execution_count": null,
   "metadata": {},
   "outputs": [],
   "source": [
    "#Cleaning our GDP csv"
   ]
  },
  {
   "cell_type": "code",
   "execution_count": 9,
   "metadata": {},
   "outputs": [
    {
     "output_type": "execute_result",
     "data": {
      "text/plain": [
       "  Country Name Country Code                    Indicator Name  \\\n",
       "0        Aruba          ABW  GDP per capita growth (annual %)   \n",
       "1  Afghanistan          AFG  GDP per capita growth (annual %)   \n",
       "2       Angola          AGO  GDP per capita growth (annual %)   \n",
       "3      Albania          ALB  GDP per capita growth (annual %)   \n",
       "4      Andorra          AND  GDP per capita growth (annual %)   \n",
       "\n",
       "      Indicator Code  1960  1961  1962  1963  1964  1965  ...      2011  \\\n",
       "0  NY.GDP.PCAP.KD.ZG   NaN   NaN   NaN   NaN   NaN   NaN  ...  3.063882   \n",
       "1  NY.GDP.PCAP.KD.ZG   NaN   NaN   NaN   NaN   NaN   NaN  ... -2.681081   \n",
       "2  NY.GDP.PCAP.KD.ZG   NaN   NaN   NaN   NaN   NaN   NaN  ... -0.220851   \n",
       "3  NY.GDP.PCAP.KD.ZG   NaN   NaN   NaN   NaN   NaN   NaN  ...  2.821558   \n",
       "4  NY.GDP.PCAP.KD.ZG   NaN   NaN   NaN   NaN   NaN   NaN  ...  0.830102   \n",
       "\n",
       "       2012      2013      2014      2015      2016      2017      2018  \\\n",
       "0 -1.864168  3.593198 -0.294412  5.125616  1.583035  1.521780       NaN   \n",
       "1  8.974880  1.974169 -0.665271 -1.622887 -0.541697  0.064250 -1.195347   \n",
       "2  4.706498  1.292041  1.219835 -2.468719 -5.816191 -3.409909 -5.162102   \n",
       "3  1.585156  1.187204  1.985426  2.516853  3.480117  3.897711  4.328396   \n",
       "4 -3.452688 -1.573746  4.524456  2.997046  4.667655  0.731813  1.582169   \n",
       "\n",
       "       2019  2020  \n",
       "0       NaN   NaN  \n",
       "1  1.536912   NaN  \n",
       "2 -3.795674   NaN  \n",
       "3  2.676550   NaN  \n",
       "4  1.669680   NaN  \n",
       "\n",
       "[5 rows x 65 columns]"
      ],
      "text/html": "<div>\n<style scoped>\n    .dataframe tbody tr th:only-of-type {\n        vertical-align: middle;\n    }\n\n    .dataframe tbody tr th {\n        vertical-align: top;\n    }\n\n    .dataframe thead th {\n        text-align: right;\n    }\n</style>\n<table border=\"1\" class=\"dataframe\">\n  <thead>\n    <tr style=\"text-align: right;\">\n      <th></th>\n      <th>Country Name</th>\n      <th>Country Code</th>\n      <th>Indicator Name</th>\n      <th>Indicator Code</th>\n      <th>1960</th>\n      <th>1961</th>\n      <th>1962</th>\n      <th>1963</th>\n      <th>1964</th>\n      <th>1965</th>\n      <th>...</th>\n      <th>2011</th>\n      <th>2012</th>\n      <th>2013</th>\n      <th>2014</th>\n      <th>2015</th>\n      <th>2016</th>\n      <th>2017</th>\n      <th>2018</th>\n      <th>2019</th>\n      <th>2020</th>\n    </tr>\n  </thead>\n  <tbody>\n    <tr>\n      <th>0</th>\n      <td>Aruba</td>\n      <td>ABW</td>\n      <td>GDP per capita growth (annual %)</td>\n      <td>NY.GDP.PCAP.KD.ZG</td>\n      <td>NaN</td>\n      <td>NaN</td>\n      <td>NaN</td>\n      <td>NaN</td>\n      <td>NaN</td>\n      <td>NaN</td>\n      <td>...</td>\n      <td>3.063882</td>\n      <td>-1.864168</td>\n      <td>3.593198</td>\n      <td>-0.294412</td>\n      <td>5.125616</td>\n      <td>1.583035</td>\n      <td>1.521780</td>\n      <td>NaN</td>\n      <td>NaN</td>\n      <td>NaN</td>\n    </tr>\n    <tr>\n      <th>1</th>\n      <td>Afghanistan</td>\n      <td>AFG</td>\n      <td>GDP per capita growth (annual %)</td>\n      <td>NY.GDP.PCAP.KD.ZG</td>\n      <td>NaN</td>\n      <td>NaN</td>\n      <td>NaN</td>\n      <td>NaN</td>\n      <td>NaN</td>\n      <td>NaN</td>\n      <td>...</td>\n      <td>-2.681081</td>\n      <td>8.974880</td>\n      <td>1.974169</td>\n      <td>-0.665271</td>\n      <td>-1.622887</td>\n      <td>-0.541697</td>\n      <td>0.064250</td>\n      <td>-1.195347</td>\n      <td>1.536912</td>\n      <td>NaN</td>\n    </tr>\n    <tr>\n      <th>2</th>\n      <td>Angola</td>\n      <td>AGO</td>\n      <td>GDP per capita growth (annual %)</td>\n      <td>NY.GDP.PCAP.KD.ZG</td>\n      <td>NaN</td>\n      <td>NaN</td>\n      <td>NaN</td>\n      <td>NaN</td>\n      <td>NaN</td>\n      <td>NaN</td>\n      <td>...</td>\n      <td>-0.220851</td>\n      <td>4.706498</td>\n      <td>1.292041</td>\n      <td>1.219835</td>\n      <td>-2.468719</td>\n      <td>-5.816191</td>\n      <td>-3.409909</td>\n      <td>-5.162102</td>\n      <td>-3.795674</td>\n      <td>NaN</td>\n    </tr>\n    <tr>\n      <th>3</th>\n      <td>Albania</td>\n      <td>ALB</td>\n      <td>GDP per capita growth (annual %)</td>\n      <td>NY.GDP.PCAP.KD.ZG</td>\n      <td>NaN</td>\n      <td>NaN</td>\n      <td>NaN</td>\n      <td>NaN</td>\n      <td>NaN</td>\n      <td>NaN</td>\n      <td>...</td>\n      <td>2.821558</td>\n      <td>1.585156</td>\n      <td>1.187204</td>\n      <td>1.985426</td>\n      <td>2.516853</td>\n      <td>3.480117</td>\n      <td>3.897711</td>\n      <td>4.328396</td>\n      <td>2.676550</td>\n      <td>NaN</td>\n    </tr>\n    <tr>\n      <th>4</th>\n      <td>Andorra</td>\n      <td>AND</td>\n      <td>GDP per capita growth (annual %)</td>\n      <td>NY.GDP.PCAP.KD.ZG</td>\n      <td>NaN</td>\n      <td>NaN</td>\n      <td>NaN</td>\n      <td>NaN</td>\n      <td>NaN</td>\n      <td>NaN</td>\n      <td>...</td>\n      <td>0.830102</td>\n      <td>-3.452688</td>\n      <td>-1.573746</td>\n      <td>4.524456</td>\n      <td>2.997046</td>\n      <td>4.667655</td>\n      <td>0.731813</td>\n      <td>1.582169</td>\n      <td>1.669680</td>\n      <td>NaN</td>\n    </tr>\n  </tbody>\n</table>\n<p>5 rows × 65 columns</p>\n</div>"
     },
     "metadata": {},
     "execution_count": 9
    }
   ],
   "source": [
    "data = pd.read_csv('GDPpercapita-data.csv', error_bad_lines=False)\n",
    "\n",
    "data.head()"
   ]
  },
  {
   "cell_type": "code",
   "execution_count": 10,
   "metadata": {},
   "outputs": [
    {
     "output_type": "execute_result",
     "data": {
      "text/plain": [
       "  Country Name Country Code                    Indicator Name      2000  \\\n",
       "0        Aruba          ABW  GDP per capita growth (annual %)  5.427608   \n",
       "1  Afghanistan          AFG  GDP per capita growth (annual %)       NaN   \n",
       "2       Angola          AGO  GDP per capita growth (annual %) -0.267945   \n",
       "3      Albania          ALB  GDP per capita growth (annual %)  7.633866   \n",
       "4      Andorra          AND  GDP per capita growth (annual %)  1.913452   \n",
       "\n",
       "       2001      2002      2003      2004       2005      2006       2007  \\\n",
       "0 -5.107188 -5.405878 -0.152951  6.031742  -0.094958  0.245883   1.410010   \n",
       "1       NaN       NaN  3.868362 -2.875184   7.207933  2.253357  11.022774   \n",
       "2  0.822114  9.943764 -0.431851  7.187036  11.030836  7.582329   9.890012   \n",
       "3  9.311124  4.853922  5.925630  5.951881   6.071391  6.570332   6.783927   \n",
       "4  4.986929  0.504741  4.040888  3.792889   1.892421  2.057546  -0.523712   \n",
       "\n",
       "       2008       2009       2010      2011      2012      2013      2014  \\\n",
       "0 -0.224764 -10.605300  -3.887760  3.063882 -1.864168  3.593198 -0.294412   \n",
       "1  1.594211  18.515369  11.264133 -2.681081  8.974880  1.974169 -0.665271   \n",
       "2  7.116873  -2.808634   0.640294 -0.220851  4.706498  1.292041  1.219835   \n",
       "3  8.328036   4.048888   4.223038  2.821558  1.585156  1.187204  1.985426   \n",
       "4 -6.885786  -5.976668  -1.958707  0.830102 -3.452688 -1.573746  4.524456   \n",
       "\n",
       "       2015  \n",
       "0  5.125616  \n",
       "1 -1.622887  \n",
       "2 -2.468719  \n",
       "3  2.516853  \n",
       "4  2.997046  "
      ],
      "text/html": "<div>\n<style scoped>\n    .dataframe tbody tr th:only-of-type {\n        vertical-align: middle;\n    }\n\n    .dataframe tbody tr th {\n        vertical-align: top;\n    }\n\n    .dataframe thead th {\n        text-align: right;\n    }\n</style>\n<table border=\"1\" class=\"dataframe\">\n  <thead>\n    <tr style=\"text-align: right;\">\n      <th></th>\n      <th>Country Name</th>\n      <th>Country Code</th>\n      <th>Indicator Name</th>\n      <th>2000</th>\n      <th>2001</th>\n      <th>2002</th>\n      <th>2003</th>\n      <th>2004</th>\n      <th>2005</th>\n      <th>2006</th>\n      <th>2007</th>\n      <th>2008</th>\n      <th>2009</th>\n      <th>2010</th>\n      <th>2011</th>\n      <th>2012</th>\n      <th>2013</th>\n      <th>2014</th>\n      <th>2015</th>\n    </tr>\n  </thead>\n  <tbody>\n    <tr>\n      <th>0</th>\n      <td>Aruba</td>\n      <td>ABW</td>\n      <td>GDP per capita growth (annual %)</td>\n      <td>5.427608</td>\n      <td>-5.107188</td>\n      <td>-5.405878</td>\n      <td>-0.152951</td>\n      <td>6.031742</td>\n      <td>-0.094958</td>\n      <td>0.245883</td>\n      <td>1.410010</td>\n      <td>-0.224764</td>\n      <td>-10.605300</td>\n      <td>-3.887760</td>\n      <td>3.063882</td>\n      <td>-1.864168</td>\n      <td>3.593198</td>\n      <td>-0.294412</td>\n      <td>5.125616</td>\n    </tr>\n    <tr>\n      <th>1</th>\n      <td>Afghanistan</td>\n      <td>AFG</td>\n      <td>GDP per capita growth (annual %)</td>\n      <td>NaN</td>\n      <td>NaN</td>\n      <td>NaN</td>\n      <td>3.868362</td>\n      <td>-2.875184</td>\n      <td>7.207933</td>\n      <td>2.253357</td>\n      <td>11.022774</td>\n      <td>1.594211</td>\n      <td>18.515369</td>\n      <td>11.264133</td>\n      <td>-2.681081</td>\n      <td>8.974880</td>\n      <td>1.974169</td>\n      <td>-0.665271</td>\n      <td>-1.622887</td>\n    </tr>\n    <tr>\n      <th>2</th>\n      <td>Angola</td>\n      <td>AGO</td>\n      <td>GDP per capita growth (annual %)</td>\n      <td>-0.267945</td>\n      <td>0.822114</td>\n      <td>9.943764</td>\n      <td>-0.431851</td>\n      <td>7.187036</td>\n      <td>11.030836</td>\n      <td>7.582329</td>\n      <td>9.890012</td>\n      <td>7.116873</td>\n      <td>-2.808634</td>\n      <td>0.640294</td>\n      <td>-0.220851</td>\n      <td>4.706498</td>\n      <td>1.292041</td>\n      <td>1.219835</td>\n      <td>-2.468719</td>\n    </tr>\n    <tr>\n      <th>3</th>\n      <td>Albania</td>\n      <td>ALB</td>\n      <td>GDP per capita growth (annual %)</td>\n      <td>7.633866</td>\n      <td>9.311124</td>\n      <td>4.853922</td>\n      <td>5.925630</td>\n      <td>5.951881</td>\n      <td>6.071391</td>\n      <td>6.570332</td>\n      <td>6.783927</td>\n      <td>8.328036</td>\n      <td>4.048888</td>\n      <td>4.223038</td>\n      <td>2.821558</td>\n      <td>1.585156</td>\n      <td>1.187204</td>\n      <td>1.985426</td>\n      <td>2.516853</td>\n    </tr>\n    <tr>\n      <th>4</th>\n      <td>Andorra</td>\n      <td>AND</td>\n      <td>GDP per capita growth (annual %)</td>\n      <td>1.913452</td>\n      <td>4.986929</td>\n      <td>0.504741</td>\n      <td>4.040888</td>\n      <td>3.792889</td>\n      <td>1.892421</td>\n      <td>2.057546</td>\n      <td>-0.523712</td>\n      <td>-6.885786</td>\n      <td>-5.976668</td>\n      <td>-1.958707</td>\n      <td>0.830102</td>\n      <td>-3.452688</td>\n      <td>-1.573746</td>\n      <td>4.524456</td>\n      <td>2.997046</td>\n    </tr>\n  </tbody>\n</table>\n</div>"
     },
     "metadata": {},
     "execution_count": 10
    }
   ],
   "source": [
    "columns_to_keep = [\"Country Name\", \"Country Code\", \"Indicator Name\", \"2000\", \"2001\", \"2002\", \"2003\", \"2004\", \"2005\", \"2006\", \"2007\", \"2008\", \"2009\", \"2010\", \"2011\", \"2012\", \"2013\", \"2014\", \"2015\"]\n",
    "\n",
    "Organized_df = data[columns_to_keep]\n",
    "Organized_df.head()"
   ]
  },
  {
   "cell_type": "code",
   "execution_count": 11,
   "metadata": {},
   "outputs": [
    {
     "output_type": "execute_result",
     "data": {
      "text/plain": [
       "  Country Name Country Code                    Indicator Name      2000  \\\n",
       "0        Aruba          ABW  GDP per capita growth (annual %)  5.427608   \n",
       "2       Angola          AGO  GDP per capita growth (annual %) -0.267945   \n",
       "3      Albania          ALB  GDP per capita growth (annual %)  7.633866   \n",
       "4      Andorra          AND  GDP per capita growth (annual %)  1.913452   \n",
       "5   Arab World          ARB  GDP per capita growth (annual %)  3.272927   \n",
       "\n",
       "       2001      2002      2003      2004       2005      2006      2007  \\\n",
       "0 -5.107188 -5.405878 -0.152951  6.031742  -0.094958  0.245883  1.410010   \n",
       "2  0.822114  9.943764 -0.431851  7.187036  11.030836  7.582329  9.890012   \n",
       "3  9.311124  4.853922  5.925630  5.951881   6.071391  6.570332  6.783927   \n",
       "4  4.986929  0.504741  4.040888  3.792889   1.892421  2.057546 -0.523712   \n",
       "5 -0.579991 -1.557380  3.063164  6.976221   3.362640  4.028851  2.043404   \n",
       "\n",
       "       2008       2009      2010      2011      2012      2013      2014  \\\n",
       "0 -0.224764 -10.605300 -3.887760  3.063882 -1.864168  3.593198 -0.294412   \n",
       "2  7.116873  -2.808634  0.640294 -0.220851  4.706498  1.292041  1.219835   \n",
       "3  8.328036   4.048888  4.223038  2.821558  1.585156  1.187204  1.985426   \n",
       "4 -6.885786  -5.976668 -1.958707  0.830102 -3.452688 -1.573746  4.524456   \n",
       "5  3.276814  -1.965237  2.231819  1.386670  4.283180  1.039802  0.337680   \n",
       "\n",
       "       2015  \n",
       "0  5.125616  \n",
       "2 -2.468719  \n",
       "3  2.516853  \n",
       "4  2.997046  \n",
       "5  1.126316  "
      ],
      "text/html": "<div>\n<style scoped>\n    .dataframe tbody tr th:only-of-type {\n        vertical-align: middle;\n    }\n\n    .dataframe tbody tr th {\n        vertical-align: top;\n    }\n\n    .dataframe thead th {\n        text-align: right;\n    }\n</style>\n<table border=\"1\" class=\"dataframe\">\n  <thead>\n    <tr style=\"text-align: right;\">\n      <th></th>\n      <th>Country Name</th>\n      <th>Country Code</th>\n      <th>Indicator Name</th>\n      <th>2000</th>\n      <th>2001</th>\n      <th>2002</th>\n      <th>2003</th>\n      <th>2004</th>\n      <th>2005</th>\n      <th>2006</th>\n      <th>2007</th>\n      <th>2008</th>\n      <th>2009</th>\n      <th>2010</th>\n      <th>2011</th>\n      <th>2012</th>\n      <th>2013</th>\n      <th>2014</th>\n      <th>2015</th>\n    </tr>\n  </thead>\n  <tbody>\n    <tr>\n      <th>0</th>\n      <td>Aruba</td>\n      <td>ABW</td>\n      <td>GDP per capita growth (annual %)</td>\n      <td>5.427608</td>\n      <td>-5.107188</td>\n      <td>-5.405878</td>\n      <td>-0.152951</td>\n      <td>6.031742</td>\n      <td>-0.094958</td>\n      <td>0.245883</td>\n      <td>1.410010</td>\n      <td>-0.224764</td>\n      <td>-10.605300</td>\n      <td>-3.887760</td>\n      <td>3.063882</td>\n      <td>-1.864168</td>\n      <td>3.593198</td>\n      <td>-0.294412</td>\n      <td>5.125616</td>\n    </tr>\n    <tr>\n      <th>2</th>\n      <td>Angola</td>\n      <td>AGO</td>\n      <td>GDP per capita growth (annual %)</td>\n      <td>-0.267945</td>\n      <td>0.822114</td>\n      <td>9.943764</td>\n      <td>-0.431851</td>\n      <td>7.187036</td>\n      <td>11.030836</td>\n      <td>7.582329</td>\n      <td>9.890012</td>\n      <td>7.116873</td>\n      <td>-2.808634</td>\n      <td>0.640294</td>\n      <td>-0.220851</td>\n      <td>4.706498</td>\n      <td>1.292041</td>\n      <td>1.219835</td>\n      <td>-2.468719</td>\n    </tr>\n    <tr>\n      <th>3</th>\n      <td>Albania</td>\n      <td>ALB</td>\n      <td>GDP per capita growth (annual %)</td>\n      <td>7.633866</td>\n      <td>9.311124</td>\n      <td>4.853922</td>\n      <td>5.925630</td>\n      <td>5.951881</td>\n      <td>6.071391</td>\n      <td>6.570332</td>\n      <td>6.783927</td>\n      <td>8.328036</td>\n      <td>4.048888</td>\n      <td>4.223038</td>\n      <td>2.821558</td>\n      <td>1.585156</td>\n      <td>1.187204</td>\n      <td>1.985426</td>\n      <td>2.516853</td>\n    </tr>\n    <tr>\n      <th>4</th>\n      <td>Andorra</td>\n      <td>AND</td>\n      <td>GDP per capita growth (annual %)</td>\n      <td>1.913452</td>\n      <td>4.986929</td>\n      <td>0.504741</td>\n      <td>4.040888</td>\n      <td>3.792889</td>\n      <td>1.892421</td>\n      <td>2.057546</td>\n      <td>-0.523712</td>\n      <td>-6.885786</td>\n      <td>-5.976668</td>\n      <td>-1.958707</td>\n      <td>0.830102</td>\n      <td>-3.452688</td>\n      <td>-1.573746</td>\n      <td>4.524456</td>\n      <td>2.997046</td>\n    </tr>\n    <tr>\n      <th>5</th>\n      <td>Arab World</td>\n      <td>ARB</td>\n      <td>GDP per capita growth (annual %)</td>\n      <td>3.272927</td>\n      <td>-0.579991</td>\n      <td>-1.557380</td>\n      <td>3.063164</td>\n      <td>6.976221</td>\n      <td>3.362640</td>\n      <td>4.028851</td>\n      <td>2.043404</td>\n      <td>3.276814</td>\n      <td>-1.965237</td>\n      <td>2.231819</td>\n      <td>1.386670</td>\n      <td>4.283180</td>\n      <td>1.039802</td>\n      <td>0.337680</td>\n      <td>1.126316</td>\n    </tr>\n  </tbody>\n</table>\n</div>"
     },
     "metadata": {},
     "execution_count": 11
    }
   ],
   "source": [
    "GDP_data = Organized_df.dropna()\n",
    "GDP_data.head()"
   ]
  },
  {
   "cell_type": "code",
   "execution_count": 12,
   "metadata": {},
   "outputs": [
    {
     "output_type": "execute_result",
     "data": {
      "text/plain": [
       "  country_name country_code                    indicator_name      2000  \\\n",
       "0        Aruba          ABW  GDP per capita growth (annual %)  5.427608   \n",
       "2       Angola          AGO  GDP per capita growth (annual %) -0.267945   \n",
       "3      Albania          ALB  GDP per capita growth (annual %)  7.633866   \n",
       "4      Andorra          AND  GDP per capita growth (annual %)  1.913452   \n",
       "5   Arab World          ARB  GDP per capita growth (annual %)  3.272927   \n",
       "\n",
       "       2001      2002      2003      2004       2005      2006      2007  \\\n",
       "0 -5.107188 -5.405878 -0.152951  6.031742  -0.094958  0.245883  1.410010   \n",
       "2  0.822114  9.943764 -0.431851  7.187036  11.030836  7.582329  9.890012   \n",
       "3  9.311124  4.853922  5.925630  5.951881   6.071391  6.570332  6.783927   \n",
       "4  4.986929  0.504741  4.040888  3.792889   1.892421  2.057546 -0.523712   \n",
       "5 -0.579991 -1.557380  3.063164  6.976221   3.362640  4.028851  2.043404   \n",
       "\n",
       "       2008       2009      2010      2011      2012      2013      2014  \\\n",
       "0 -0.224764 -10.605300 -3.887760  3.063882 -1.864168  3.593198 -0.294412   \n",
       "2  7.116873  -2.808634  0.640294 -0.220851  4.706498  1.292041  1.219835   \n",
       "3  8.328036   4.048888  4.223038  2.821558  1.585156  1.187204  1.985426   \n",
       "4 -6.885786  -5.976668 -1.958707  0.830102 -3.452688 -1.573746  4.524456   \n",
       "5  3.276814  -1.965237  2.231819  1.386670  4.283180  1.039802  0.337680   \n",
       "\n",
       "       2015  \n",
       "0  5.125616  \n",
       "2 -2.468719  \n",
       "3  2.516853  \n",
       "4  2.997046  \n",
       "5  1.126316  "
      ],
      "text/html": "<div>\n<style scoped>\n    .dataframe tbody tr th:only-of-type {\n        vertical-align: middle;\n    }\n\n    .dataframe tbody tr th {\n        vertical-align: top;\n    }\n\n    .dataframe thead th {\n        text-align: right;\n    }\n</style>\n<table border=\"1\" class=\"dataframe\">\n  <thead>\n    <tr style=\"text-align: right;\">\n      <th></th>\n      <th>country_name</th>\n      <th>country_code</th>\n      <th>indicator_name</th>\n      <th>2000</th>\n      <th>2001</th>\n      <th>2002</th>\n      <th>2003</th>\n      <th>2004</th>\n      <th>2005</th>\n      <th>2006</th>\n      <th>2007</th>\n      <th>2008</th>\n      <th>2009</th>\n      <th>2010</th>\n      <th>2011</th>\n      <th>2012</th>\n      <th>2013</th>\n      <th>2014</th>\n      <th>2015</th>\n    </tr>\n  </thead>\n  <tbody>\n    <tr>\n      <th>0</th>\n      <td>Aruba</td>\n      <td>ABW</td>\n      <td>GDP per capita growth (annual %)</td>\n      <td>5.427608</td>\n      <td>-5.107188</td>\n      <td>-5.405878</td>\n      <td>-0.152951</td>\n      <td>6.031742</td>\n      <td>-0.094958</td>\n      <td>0.245883</td>\n      <td>1.410010</td>\n      <td>-0.224764</td>\n      <td>-10.605300</td>\n      <td>-3.887760</td>\n      <td>3.063882</td>\n      <td>-1.864168</td>\n      <td>3.593198</td>\n      <td>-0.294412</td>\n      <td>5.125616</td>\n    </tr>\n    <tr>\n      <th>2</th>\n      <td>Angola</td>\n      <td>AGO</td>\n      <td>GDP per capita growth (annual %)</td>\n      <td>-0.267945</td>\n      <td>0.822114</td>\n      <td>9.943764</td>\n      <td>-0.431851</td>\n      <td>7.187036</td>\n      <td>11.030836</td>\n      <td>7.582329</td>\n      <td>9.890012</td>\n      <td>7.116873</td>\n      <td>-2.808634</td>\n      <td>0.640294</td>\n      <td>-0.220851</td>\n      <td>4.706498</td>\n      <td>1.292041</td>\n      <td>1.219835</td>\n      <td>-2.468719</td>\n    </tr>\n    <tr>\n      <th>3</th>\n      <td>Albania</td>\n      <td>ALB</td>\n      <td>GDP per capita growth (annual %)</td>\n      <td>7.633866</td>\n      <td>9.311124</td>\n      <td>4.853922</td>\n      <td>5.925630</td>\n      <td>5.951881</td>\n      <td>6.071391</td>\n      <td>6.570332</td>\n      <td>6.783927</td>\n      <td>8.328036</td>\n      <td>4.048888</td>\n      <td>4.223038</td>\n      <td>2.821558</td>\n      <td>1.585156</td>\n      <td>1.187204</td>\n      <td>1.985426</td>\n      <td>2.516853</td>\n    </tr>\n    <tr>\n      <th>4</th>\n      <td>Andorra</td>\n      <td>AND</td>\n      <td>GDP per capita growth (annual %)</td>\n      <td>1.913452</td>\n      <td>4.986929</td>\n      <td>0.504741</td>\n      <td>4.040888</td>\n      <td>3.792889</td>\n      <td>1.892421</td>\n      <td>2.057546</td>\n      <td>-0.523712</td>\n      <td>-6.885786</td>\n      <td>-5.976668</td>\n      <td>-1.958707</td>\n      <td>0.830102</td>\n      <td>-3.452688</td>\n      <td>-1.573746</td>\n      <td>4.524456</td>\n      <td>2.997046</td>\n    </tr>\n    <tr>\n      <th>5</th>\n      <td>Arab World</td>\n      <td>ARB</td>\n      <td>GDP per capita growth (annual %)</td>\n      <td>3.272927</td>\n      <td>-0.579991</td>\n      <td>-1.557380</td>\n      <td>3.063164</td>\n      <td>6.976221</td>\n      <td>3.362640</td>\n      <td>4.028851</td>\n      <td>2.043404</td>\n      <td>3.276814</td>\n      <td>-1.965237</td>\n      <td>2.231819</td>\n      <td>1.386670</td>\n      <td>4.283180</td>\n      <td>1.039802</td>\n      <td>0.337680</td>\n      <td>1.126316</td>\n    </tr>\n  </tbody>\n</table>\n</div>"
     },
     "metadata": {},
     "execution_count": 12
    }
   ],
   "source": [
    "GDP_data = GDP_data.rename(columns={\"Country Name\":\"country_name\",\"Country Code\":\"country_code\",\"Indicator Name\":\"indicator_name\"})\n",
    "\n",
    "GDP_data.head()"
   ]
  },
  {
   "cell_type": "code",
   "execution_count": null,
   "metadata": {},
   "outputs": [],
   "source": [
    "#Clenaing renewable energy CSV"
   ]
  },
  {
   "cell_type": "code",
   "execution_count": 19,
   "metadata": {},
   "outputs": [
    {
     "output_type": "stream",
     "name": "stderr",
     "text": [
      "b'Skipping line 5: expected 3 fields, saw 66\\nSkipping line 6: expected 3 fields, saw 66\\nSkipping line 7: expected 3 fields, saw 66\\nSkipping line 8: expected 3 fields, saw 66\\nSkipping line 9: expected 3 fields, saw 66\\nSkipping line 10: expected 3 fields, saw 66\\nSkipping line 11: expected 3 fields, saw 66\\nSkipping line 12: expected 3 fields, saw 66\\nSkipping line 13: expected 3 fields, saw 66\\nSkipping line 14: expected 3 fields, saw 66\\nSkipping line 15: expected 3 fields, saw 66\\nSkipping line 16: expected 3 fields, saw 66\\nSkipping line 17: expected 3 fields, saw 66\\nSkipping line 18: expected 3 fields, saw 66\\nSkipping line 19: expected 3 fields, saw 66\\nSkipping line 20: expected 3 fields, saw 66\\nSkipping line 21: expected 3 fields, saw 66\\nSkipping line 22: expected 3 fields, saw 66\\nSkipping line 23: expected 3 fields, saw 66\\nSkipping line 24: expected 3 fields, saw 66\\nSkipping line 25: expected 3 fields, saw 66\\nSkipping line 26: expected 3 fields, saw 66\\nSkipping line 27: expected 3 fields, saw 66\\nSkipping line 28: expected 3 fields, saw 66\\nSkipping line 29: expected 3 fields, saw 66\\nSkipping line 30: expected 3 fields, saw 66\\nSkipping line 31: expected 3 fields, saw 66\\nSkipping line 32: expected 3 fields, saw 66\\nSkipping line 33: expected 3 fields, saw 66\\nSkipping line 34: expected 3 fields, saw 66\\nSkipping line 35: expected 3 fields, saw 66\\nSkipping line 36: expected 3 fields, saw 66\\nSkipping line 37: expected 3 fields, saw 66\\nSkipping line 38: expected 3 fields, saw 66\\nSkipping line 39: expected 3 fields, saw 66\\nSkipping line 40: expected 3 fields, saw 66\\nSkipping line 41: expected 3 fields, saw 66\\nSkipping line 42: expected 3 fields, saw 66\\nSkipping line 43: expected 3 fields, saw 66\\nSkipping line 44: expected 3 fields, saw 66\\nSkipping line 45: expected 3 fields, saw 66\\nSkipping line 46: expected 3 fields, saw 66\\nSkipping line 47: expected 3 fields, saw 66\\nSkipping line 48: expected 3 fields, saw 66\\nSkipping line 49: expected 3 fields, saw 66\\nSkipping line 50: expected 3 fields, saw 66\\nSkipping line 51: expected 3 fields, saw 66\\nSkipping line 52: expected 3 fields, saw 66\\nSkipping line 53: expected 3 fields, saw 66\\nSkipping line 54: expected 3 fields, saw 66\\nSkipping line 55: expected 3 fields, saw 66\\nSkipping line 56: expected 3 fields, saw 66\\nSkipping line 57: expected 3 fields, saw 66\\nSkipping line 58: expected 3 fields, saw 66\\nSkipping line 59: expected 3 fields, saw 66\\nSkipping line 60: expected 3 fields, saw 66\\nSkipping line 61: expected 3 fields, saw 66\\nSkipping line 62: expected 3 fields, saw 66\\nSkipping line 63: expected 3 fields, saw 66\\nSkipping line 64: expected 3 fields, saw 66\\nSkipping line 65: expected 3 fields, saw 66\\nSkipping line 66: expected 3 fields, saw 66\\nSkipping line 67: expected 3 fields, saw 66\\nSkipping line 68: expected 3 fields, saw 66\\nSkipping line 69: expected 3 fields, saw 66\\nSkipping line 70: expected 3 fields, saw 66\\nSkipping line 71: expected 3 fields, saw 66\\nSkipping line 72: expected 3 fields, saw 66\\nSkipping line 73: expected 3 fields, saw 66\\nSkipping line 74: expected 3 fields, saw 66\\nSkipping line 75: expected 3 fields, saw 66\\nSkipping line 76: expected 3 fields, saw 66\\nSkipping line 77: expected 3 fields, saw 66\\nSkipping line 78: expected 3 fields, saw 66\\nSkipping line 79: expected 3 fields, saw 66\\nSkipping line 80: expected 3 fields, saw 66\\nSkipping line 81: expected 3 fields, saw 66\\nSkipping line 82: expected 3 fields, saw 66\\nSkipping line 83: expected 3 fields, saw 66\\nSkipping line 84: expected 3 fields, saw 66\\nSkipping line 85: expected 3 fields, saw 66\\nSkipping line 86: expected 3 fields, saw 66\\nSkipping line 87: expected 3 fields, saw 66\\nSkipping line 88: expected 3 fields, saw 66\\nSkipping line 89: expected 3 fields, saw 66\\nSkipping line 90: expected 3 fields, saw 66\\nSkipping line 91: expected 3 fields, saw 66\\nSkipping line 92: expected 3 fields, saw 66\\nSkipping line 93: expected 3 fields, saw 66\\nSkipping line 94: expected 3 fields, saw 66\\nSkipping line 95: expected 3 fields, saw 66\\nSkipping line 96: expected 3 fields, saw 66\\nSkipping line 97: expected 3 fields, saw 66\\nSkipping line 98: expected 3 fields, saw 66\\nSkipping line 99: expected 3 fields, saw 66\\nSkipping line 100: expected 3 fields, saw 66\\nSkipping line 101: expected 3 fields, saw 66\\nSkipping line 102: expected 3 fields, saw 66\\nSkipping line 103: expected 3 fields, saw 66\\nSkipping line 104: expected 3 fields, saw 66\\nSkipping line 105: expected 3 fields, saw 66\\nSkipping line 106: expected 3 fields, saw 66\\nSkipping line 107: expected 3 fields, saw 66\\nSkipping line 108: expected 3 fields, saw 66\\nSkipping line 109: expected 3 fields, saw 66\\nSkipping line 110: expected 3 fields, saw 66\\nSkipping line 111: expected 3 fields, saw 66\\nSkipping line 112: expected 3 fields, saw 66\\nSkipping line 113: expected 3 fields, saw 66\\nSkipping line 114: expected 3 fields, saw 66\\nSkipping line 115: expected 3 fields, saw 66\\nSkipping line 116: expected 3 fields, saw 66\\nSkipping line 117: expected 3 fields, saw 66\\nSkipping line 118: expected 3 fields, saw 66\\nSkipping line 119: expected 3 fields, saw 66\\nSkipping line 120: expected 3 fields, saw 66\\nSkipping line 121: expected 3 fields, saw 66\\nSkipping line 122: expected 3 fields, saw 66\\nSkipping line 123: expected 3 fields, saw 66\\nSkipping line 124: expected 3 fields, saw 66\\nSkipping line 125: expected 3 fields, saw 66\\nSkipping line 126: expected 3 fields, saw 66\\nSkipping line 127: expected 3 fields, saw 66\\nSkipping line 128: expected 3 fields, saw 66\\nSkipping line 129: expected 3 fields, saw 66\\nSkipping line 130: expected 3 fields, saw 66\\nSkipping line 131: expected 3 fields, saw 66\\nSkipping line 132: expected 3 fields, saw 66\\nSkipping line 133: expected 3 fields, saw 66\\nSkipping line 134: expected 3 fields, saw 66\\nSkipping line 135: expected 3 fields, saw 66\\nSkipping line 136: expected 3 fields, saw 66\\nSkipping line 137: expected 3 fields, saw 66\\nSkipping line 138: expected 3 fields, saw 66\\nSkipping line 139: expected 3 fields, saw 66\\nSkipping line 140: expected 3 fields, saw 66\\nSkipping line 141: expected 3 fields, saw 66\\nSkipping line 142: expected 3 fields, saw 66\\nSkipping line 143: expected 3 fields, saw 66\\nSkipping line 144: expected 3 fields, saw 66\\nSkipping line 145: expected 3 fields, saw 66\\nSkipping line 146: expected 3 fields, saw 66\\nSkipping line 147: expected 3 fields, saw 66\\nSkipping line 148: expected 3 fields, saw 66\\nSkipping line 149: expected 3 fields, saw 66\\nSkipping line 150: expected 3 fields, saw 66\\nSkipping line 151: expected 3 fields, saw 66\\nSkipping line 152: expected 3 fields, saw 66\\nSkipping line 153: expected 3 fields, saw 66\\nSkipping line 154: expected 3 fields, saw 66\\nSkipping line 155: expected 3 fields, saw 66\\nSkipping line 156: expected 3 fields, saw 66\\nSkipping line 157: expected 3 fields, saw 66\\nSkipping line 158: expected 3 fields, saw 66\\nSkipping line 159: expected 3 fields, saw 66\\nSkipping line 160: expected 3 fields, saw 66\\nSkipping line 161: expected 3 fields, saw 66\\nSkipping line 162: expected 3 fields, saw 66\\nSkipping line 163: expected 3 fields, saw 66\\nSkipping line 164: expected 3 fields, saw 66\\nSkipping line 165: expected 3 fields, saw 66\\nSkipping line 166: expected 3 fields, saw 66\\nSkipping line 167: expected 3 fields, saw 66\\nSkipping line 168: expected 3 fields, saw 66\\nSkipping line 169: expected 3 fields, saw 66\\nSkipping line 170: expected 3 fields, saw 66\\nSkipping line 171: expected 3 fields, saw 66\\nSkipping line 172: expected 3 fields, saw 66\\nSkipping line 173: expected 3 fields, saw 66\\nSkipping line 174: expected 3 fields, saw 66\\nSkipping line 175: expected 3 fields, saw 66\\nSkipping line 176: expected 3 fields, saw 66\\nSkipping line 177: expected 3 fields, saw 66\\nSkipping line 178: expected 3 fields, saw 66\\nSkipping line 179: expected 3 fields, saw 66\\nSkipping line 180: expected 3 fields, saw 66\\nSkipping line 181: expected 3 fields, saw 66\\nSkipping line 182: expected 3 fields, saw 66\\nSkipping line 183: expected 3 fields, saw 66\\nSkipping line 184: expected 3 fields, saw 66\\nSkipping line 185: expected 3 fields, saw 66\\nSkipping line 186: expected 3 fields, saw 66\\nSkipping line 187: expected 3 fields, saw 66\\nSkipping line 188: expected 3 fields, saw 66\\nSkipping line 189: expected 3 fields, saw 66\\nSkipping line 190: expected 3 fields, saw 66\\nSkipping line 191: expected 3 fields, saw 66\\nSkipping line 192: expected 3 fields, saw 66\\nSkipping line 193: expected 3 fields, saw 66\\nSkipping line 194: expected 3 fields, saw 66\\nSkipping line 195: expected 3 fields, saw 66\\nSkipping line 196: expected 3 fields, saw 66\\nSkipping line 197: expected 3 fields, saw 66\\nSkipping line 198: expected 3 fields, saw 66\\nSkipping line 199: expected 3 fields, saw 66\\nSkipping line 200: expected 3 fields, saw 66\\nSkipping line 201: expected 3 fields, saw 66\\nSkipping line 202: expected 3 fields, saw 66\\nSkipping line 203: expected 3 fields, saw 66\\nSkipping line 204: expected 3 fields, saw 66\\nSkipping line 205: expected 3 fields, saw 66\\nSkipping line 206: expected 3 fields, saw 66\\nSkipping line 207: expected 3 fields, saw 66\\nSkipping line 208: expected 3 fields, saw 66\\nSkipping line 209: expected 3 fields, saw 66\\nSkipping line 210: expected 3 fields, saw 66\\nSkipping line 211: expected 3 fields, saw 66\\nSkipping line 212: expected 3 fields, saw 66\\nSkipping line 213: expected 3 fields, saw 66\\nSkipping line 214: expected 3 fields, saw 66\\nSkipping line 215: expected 3 fields, saw 66\\nSkipping line 216: expected 3 fields, saw 66\\nSkipping line 217: expected 3 fields, saw 66\\nSkipping line 218: expected 3 fields, saw 66\\nSkipping line 219: expected 3 fields, saw 66\\nSkipping line 220: expected 3 fields, saw 66\\nSkipping line 221: expected 3 fields, saw 66\\nSkipping line 222: expected 3 fields, saw 66\\nSkipping line 223: expected 3 fields, saw 66\\nSkipping line 224: expected 3 fields, saw 66\\nSkipping line 225: expected 3 fields, saw 66\\nSkipping line 226: expected 3 fields, saw 66\\nSkipping line 227: expected 3 fields, saw 66\\nSkipping line 228: expected 3 fields, saw 66\\nSkipping line 229: expected 3 fields, saw 66\\nSkipping line 230: expected 3 fields, saw 66\\nSkipping line 231: expected 3 fields, saw 66\\nSkipping line 232: expected 3 fields, saw 66\\nSkipping line 233: expected 3 fields, saw 66\\nSkipping line 234: expected 3 fields, saw 66\\nSkipping line 235: expected 3 fields, saw 66\\nSkipping line 236: expected 3 fields, saw 66\\nSkipping line 237: expected 3 fields, saw 66\\nSkipping line 238: expected 3 fields, saw 66\\nSkipping line 239: expected 3 fields, saw 66\\nSkipping line 240: expected 3 fields, saw 66\\nSkipping line 241: expected 3 fields, saw 66\\nSkipping line 242: expected 3 fields, saw 66\\nSkipping line 243: expected 3 fields, saw 66\\nSkipping line 244: expected 3 fields, saw 66\\nSkipping line 245: expected 3 fields, saw 66\\nSkipping line 246: expected 3 fields, saw 66\\nSkipping line 247: expected 3 fields, saw 66\\nSkipping line 248: expected 3 fields, saw 66\\nSkipping line 249: expected 3 fields, saw 66\\nSkipping line 250: expected 3 fields, saw 66\\nSkipping line 251: expected 3 fields, saw 66\\nSkipping line 252: expected 3 fields, saw 66\\nSkipping line 253: expected 3 fields, saw 66\\nSkipping line 254: expected 3 fields, saw 66\\nSkipping line 255: expected 3 fields, saw 66\\nSkipping line 256: expected 3 fields, saw 66\\nSkipping line 257: expected 3 fields, saw 66\\nSkipping line 258: expected 3 fields, saw 66\\nSkipping line 259: expected 3 fields, saw 66\\nSkipping line 260: expected 3 fields, saw 66\\nSkipping line 261: expected 3 fields, saw 66\\nSkipping line 262: expected 3 fields, saw 66\\nSkipping line 263: expected 3 fields, saw 66\\nSkipping line 264: expected 3 fields, saw 66\\nSkipping line 265: expected 3 fields, saw 66\\nSkipping line 266: expected 3 fields, saw 66\\nSkipping line 267: expected 3 fields, saw 66\\nSkipping line 268: expected 3 fields, saw 66\\nSkipping line 269: expected 3 fields, saw 66\\n'\n"
     ]
    },
    {
     "output_type": "execute_result",
     "data": {
      "text/plain": [
       "         Data Source World Development Indicators  Unnamed: 2\n",
       "0  Last Updated Date                   2021-02-17         NaN"
      ],
      "text/html": "<div>\n<style scoped>\n    .dataframe tbody tr th:only-of-type {\n        vertical-align: middle;\n    }\n\n    .dataframe tbody tr th {\n        vertical-align: top;\n    }\n\n    .dataframe thead th {\n        text-align: right;\n    }\n</style>\n<table border=\"1\" class=\"dataframe\">\n  <thead>\n    <tr style=\"text-align: right;\">\n      <th></th>\n      <th>Data Source</th>\n      <th>World Development Indicators</th>\n      <th>Unnamed: 2</th>\n    </tr>\n  </thead>\n  <tbody>\n    <tr>\n      <th>0</th>\n      <td>Last Updated Date</td>\n      <td>2021-02-17</td>\n      <td>NaN</td>\n    </tr>\n  </tbody>\n</table>\n</div>"
     },
     "metadata": {},
     "execution_count": 19
    }
   ],
   "source": [
    "data = pd.read_csv(\"Renewable_energy_csv.csv\", error_bad_lines=False)\n",
    "\n",
    "data.head()"
   ]
  }
 ],
 "metadata": {
  "kernelspec": {
   "display_name": "Python 3",
   "language": "python",
   "name": "python3"
  },
  "language_info": {
   "codemirror_mode": {
    "name": "ipython",
    "version": 3
   },
   "file_extension": ".py",
   "mimetype": "text/x-python",
   "name": "python",
   "nbconvert_exporter": "python",
   "pygments_lexer": "ipython3",
   "version": "3.8.5-final"
  }
 },
 "nbformat": 4,
 "nbformat_minor": 4
}