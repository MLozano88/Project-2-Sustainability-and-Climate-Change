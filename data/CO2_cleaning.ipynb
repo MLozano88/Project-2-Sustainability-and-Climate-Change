{
 "cells": [
  {
   "cell_type": "code",
   "execution_count": 6,
   "metadata": {},
   "outputs": [
    {
     "output_type": "execute_result",
     "data": {
      "text/plain": [
       "  Country Name Country Code      Indicator Name  Indicator Code       1960  \\\n",
       "0        Aruba          ABW  CO2 emissions (kt)  EN.ATM.CO2E.KT  11092.675   \n",
       "1  Afghanistan          AFG  CO2 emissions (kt)  EN.ATM.CO2E.KT    414.371   \n",
       "2       Angola          AGO  CO2 emissions (kt)  EN.ATM.CO2E.KT    550.050   \n",
       "3      Albania          ALB  CO2 emissions (kt)  EN.ATM.CO2E.KT   2024.184   \n",
       "4      Andorra          AND  CO2 emissions (kt)  EN.ATM.CO2E.KT        NaN   \n",
       "\n",
       "        1961       1962       1963       1964       1965  ...       2012  \\\n",
       "0  11576.719  12713.489  12178.107  11840.743  10623.299  ...   1349.456   \n",
       "1    491.378    689.396    707.731    839.743   1008.425  ...  10755.311   \n",
       "2    454.708   1180.774   1151.438   1224.778   1188.108  ...  34176.440   \n",
       "3   2280.874   2464.224   2082.856   2016.850   2174.531  ...   4924.781   \n",
       "4        NaN        NaN        NaN        NaN        NaN  ...    487.711   \n",
       "\n",
       "        2013       2014       2015       2016  2017  2018  2019  2020  \\\n",
       "0    861.745    872.746    898.415    883.747   NaN   NaN   NaN   NaN   \n",
       "1   9050.156   8467.103   9035.488   8672.455   NaN   NaN   NaN   NaN   \n",
       "2  33692.396  44851.077  34583.477  34693.487   NaN   NaN   NaN   NaN   \n",
       "3   4913.780   5489.499   4616.753   4536.079   NaN   NaN   NaN   NaN   \n",
       "4    476.710    462.042    465.709    469.376   NaN   NaN   NaN   NaN   \n",
       "\n",
       "   Unnamed: 65  \n",
       "0          NaN  \n",
       "1          NaN  \n",
       "2          NaN  \n",
       "3          NaN  \n",
       "4          NaN  \n",
       "\n",
       "[5 rows x 66 columns]"
      ],
      "text/html": "<div>\n<style scoped>\n    .dataframe tbody tr th:only-of-type {\n        vertical-align: middle;\n    }\n\n    .dataframe tbody tr th {\n        vertical-align: top;\n    }\n\n    .dataframe thead th {\n        text-align: right;\n    }\n</style>\n<table border=\"1\" class=\"dataframe\">\n  <thead>\n    <tr style=\"text-align: right;\">\n      <th></th>\n      <th>Country Name</th>\n      <th>Country Code</th>\n      <th>Indicator Name</th>\n      <th>Indicator Code</th>\n      <th>1960</th>\n      <th>1961</th>\n      <th>1962</th>\n      <th>1963</th>\n      <th>1964</th>\n      <th>1965</th>\n      <th>...</th>\n      <th>2012</th>\n      <th>2013</th>\n      <th>2014</th>\n      <th>2015</th>\n      <th>2016</th>\n      <th>2017</th>\n      <th>2018</th>\n      <th>2019</th>\n      <th>2020</th>\n      <th>Unnamed: 65</th>\n    </tr>\n  </thead>\n  <tbody>\n    <tr>\n      <th>0</th>\n      <td>Aruba</td>\n      <td>ABW</td>\n      <td>CO2 emissions (kt)</td>\n      <td>EN.ATM.CO2E.KT</td>\n      <td>11092.675</td>\n      <td>11576.719</td>\n      <td>12713.489</td>\n      <td>12178.107</td>\n      <td>11840.743</td>\n      <td>10623.299</td>\n      <td>...</td>\n      <td>1349.456</td>\n      <td>861.745</td>\n      <td>872.746</td>\n      <td>898.415</td>\n      <td>883.747</td>\n      <td>NaN</td>\n      <td>NaN</td>\n      <td>NaN</td>\n      <td>NaN</td>\n      <td>NaN</td>\n    </tr>\n    <tr>\n      <th>1</th>\n      <td>Afghanistan</td>\n      <td>AFG</td>\n      <td>CO2 emissions (kt)</td>\n      <td>EN.ATM.CO2E.KT</td>\n      <td>414.371</td>\n      <td>491.378</td>\n      <td>689.396</td>\n      <td>707.731</td>\n      <td>839.743</td>\n      <td>1008.425</td>\n      <td>...</td>\n      <td>10755.311</td>\n      <td>9050.156</td>\n      <td>8467.103</td>\n      <td>9035.488</td>\n      <td>8672.455</td>\n      <td>NaN</td>\n      <td>NaN</td>\n      <td>NaN</td>\n      <td>NaN</td>\n      <td>NaN</td>\n    </tr>\n    <tr>\n      <th>2</th>\n      <td>Angola</td>\n      <td>AGO</td>\n      <td>CO2 emissions (kt)</td>\n      <td>EN.ATM.CO2E.KT</td>\n      <td>550.050</td>\n      <td>454.708</td>\n      <td>1180.774</td>\n      <td>1151.438</td>\n      <td>1224.778</td>\n      <td>1188.108</td>\n      <td>...</td>\n      <td>34176.440</td>\n      <td>33692.396</td>\n      <td>44851.077</td>\n      <td>34583.477</td>\n      <td>34693.487</td>\n      <td>NaN</td>\n      <td>NaN</td>\n      <td>NaN</td>\n      <td>NaN</td>\n      <td>NaN</td>\n    </tr>\n    <tr>\n      <th>3</th>\n      <td>Albania</td>\n      <td>ALB</td>\n      <td>CO2 emissions (kt)</td>\n      <td>EN.ATM.CO2E.KT</td>\n      <td>2024.184</td>\n      <td>2280.874</td>\n      <td>2464.224</td>\n      <td>2082.856</td>\n      <td>2016.850</td>\n      <td>2174.531</td>\n      <td>...</td>\n      <td>4924.781</td>\n      <td>4913.780</td>\n      <td>5489.499</td>\n      <td>4616.753</td>\n      <td>4536.079</td>\n      <td>NaN</td>\n      <td>NaN</td>\n      <td>NaN</td>\n      <td>NaN</td>\n      <td>NaN</td>\n    </tr>\n    <tr>\n      <th>4</th>\n      <td>Andorra</td>\n      <td>AND</td>\n      <td>CO2 emissions (kt)</td>\n      <td>EN.ATM.CO2E.KT</td>\n      <td>NaN</td>\n      <td>NaN</td>\n      <td>NaN</td>\n      <td>NaN</td>\n      <td>NaN</td>\n      <td>NaN</td>\n      <td>...</td>\n      <td>487.711</td>\n      <td>476.710</td>\n      <td>462.042</td>\n      <td>465.709</td>\n      <td>469.376</td>\n      <td>NaN</td>\n      <td>NaN</td>\n      <td>NaN</td>\n      <td>NaN</td>\n      <td>NaN</td>\n    </tr>\n  </tbody>\n</table>\n<p>5 rows × 66 columns</p>\n</div>"
     },
     "metadata": {},
     "execution_count": 6
    }
   ],
   "source": [
    "# Dependencies and Setup\n",
    "import pandas as pd\n",
    "import numpy as np\n",
    "\n",
    "# Loading raw data\n",
    "data = pd.read_csv('CO2emissions_data.csv', error_bad_lines=False)\n",
    "data.head()"
   ]
  },
  {
   "cell_type": "code",
   "execution_count": 13,
   "metadata": {},
   "outputs": [
    {
     "output_type": "execute_result",
     "data": {
      "text/plain": [
       "  Country Name Country Code      Indicator Name      2000      2001  \\\n",
       "0        Aruba          ABW  CO2 emissions (kt)  2379.883  2409.219   \n",
       "1  Afghanistan          AFG  CO2 emissions (kt)   773.737   817.741   \n",
       "2       Angola          AGO  CO2 emissions (kt)  9541.534  9732.218   \n",
       "3      Albania          ALB  CO2 emissions (kt)  3021.608  3223.293   \n",
       "4      Andorra          AND  CO2 emissions (kt)   524.381   524.381   \n",
       "\n",
       "        2002      2003       2004       2005       2006       2007       2008  \\\n",
       "0   2438.555  2563.233   2618.238   2720.914   2717.247   2823.590   2658.575   \n",
       "1   1070.764  1213.777    916.750   1327.454   1650.150   2273.540   4206.049   \n",
       "2  12665.818  9064.824  18793.375  19156.408  22266.024  25151.953  25709.337   \n",
       "3   3751.341  4294.057   4165.712   4253.720   3898.021   3927.357   4374.731   \n",
       "4    531.715   535.382    561.051    575.719    546.383    539.049    539.049   \n",
       "\n",
       "        2009       2010       2011       2012       2013       2014       2015  \n",
       "0   2629.239   2508.228   2500.894   1349.456    861.745    872.746    898.415  \n",
       "1   6769.282   8463.436  12240.446  10755.311   9050.156   8467.103   9035.488  \n",
       "2  27792.193  29057.308  30586.447  34176.440  33692.396  44851.077  34583.477  \n",
       "3   4378.398   4598.418   5240.143   4924.781   4913.780   5489.499   4616.753  \n",
       "4    517.047    517.047    491.378    487.711    476.710    462.042    465.709  "
      ],
      "text/html": "<div>\n<style scoped>\n    .dataframe tbody tr th:only-of-type {\n        vertical-align: middle;\n    }\n\n    .dataframe tbody tr th {\n        vertical-align: top;\n    }\n\n    .dataframe thead th {\n        text-align: right;\n    }\n</style>\n<table border=\"1\" class=\"dataframe\">\n  <thead>\n    <tr style=\"text-align: right;\">\n      <th></th>\n      <th>Country Name</th>\n      <th>Country Code</th>\n      <th>Indicator Name</th>\n      <th>2000</th>\n      <th>2001</th>\n      <th>2002</th>\n      <th>2003</th>\n      <th>2004</th>\n      <th>2005</th>\n      <th>2006</th>\n      <th>2007</th>\n      <th>2008</th>\n      <th>2009</th>\n      <th>2010</th>\n      <th>2011</th>\n      <th>2012</th>\n      <th>2013</th>\n      <th>2014</th>\n      <th>2015</th>\n    </tr>\n  </thead>\n  <tbody>\n    <tr>\n      <th>0</th>\n      <td>Aruba</td>\n      <td>ABW</td>\n      <td>CO2 emissions (kt)</td>\n      <td>2379.883</td>\n      <td>2409.219</td>\n      <td>2438.555</td>\n      <td>2563.233</td>\n      <td>2618.238</td>\n      <td>2720.914</td>\n      <td>2717.247</td>\n      <td>2823.590</td>\n      <td>2658.575</td>\n      <td>2629.239</td>\n      <td>2508.228</td>\n      <td>2500.894</td>\n      <td>1349.456</td>\n      <td>861.745</td>\n      <td>872.746</td>\n      <td>898.415</td>\n    </tr>\n    <tr>\n      <th>1</th>\n      <td>Afghanistan</td>\n      <td>AFG</td>\n      <td>CO2 emissions (kt)</td>\n      <td>773.737</td>\n      <td>817.741</td>\n      <td>1070.764</td>\n      <td>1213.777</td>\n      <td>916.750</td>\n      <td>1327.454</td>\n      <td>1650.150</td>\n      <td>2273.540</td>\n      <td>4206.049</td>\n      <td>6769.282</td>\n      <td>8463.436</td>\n      <td>12240.446</td>\n      <td>10755.311</td>\n      <td>9050.156</td>\n      <td>8467.103</td>\n      <td>9035.488</td>\n    </tr>\n    <tr>\n      <th>2</th>\n      <td>Angola</td>\n      <td>AGO</td>\n      <td>CO2 emissions (kt)</td>\n      <td>9541.534</td>\n      <td>9732.218</td>\n      <td>12665.818</td>\n      <td>9064.824</td>\n      <td>18793.375</td>\n      <td>19156.408</td>\n      <td>22266.024</td>\n      <td>25151.953</td>\n      <td>25709.337</td>\n      <td>27792.193</td>\n      <td>29057.308</td>\n      <td>30586.447</td>\n      <td>34176.440</td>\n      <td>33692.396</td>\n      <td>44851.077</td>\n      <td>34583.477</td>\n    </tr>\n    <tr>\n      <th>3</th>\n      <td>Albania</td>\n      <td>ALB</td>\n      <td>CO2 emissions (kt)</td>\n      <td>3021.608</td>\n      <td>3223.293</td>\n      <td>3751.341</td>\n      <td>4294.057</td>\n      <td>4165.712</td>\n      <td>4253.720</td>\n      <td>3898.021</td>\n      <td>3927.357</td>\n      <td>4374.731</td>\n      <td>4378.398</td>\n      <td>4598.418</td>\n      <td>5240.143</td>\n      <td>4924.781</td>\n      <td>4913.780</td>\n      <td>5489.499</td>\n      <td>4616.753</td>\n    </tr>\n    <tr>\n      <th>4</th>\n      <td>Andorra</td>\n      <td>AND</td>\n      <td>CO2 emissions (kt)</td>\n      <td>524.381</td>\n      <td>524.381</td>\n      <td>531.715</td>\n      <td>535.382</td>\n      <td>561.051</td>\n      <td>575.719</td>\n      <td>546.383</td>\n      <td>539.049</td>\n      <td>539.049</td>\n      <td>517.047</td>\n      <td>517.047</td>\n      <td>491.378</td>\n      <td>487.711</td>\n      <td>476.710</td>\n      <td>462.042</td>\n      <td>465.709</td>\n    </tr>\n  </tbody>\n</table>\n</div>"
     },
     "metadata": {},
     "execution_count": 13
    }
   ],
   "source": [
    "columns_to_keep = [\"Country Name\", \"Country Code\", \"Indicator Name\", \"2000\", \"2001\", \"2002\", \"2003\", \"2004\", \"2005\", \"2006\", \"2007\", \"2008\", \"2009\", \"2010\", \"2011\", \"2012\", \"2013\", \"2014\", \"2015\"]\n",
    "\n",
    "Organized_df = data[columns_to_keep]\n",
    "Organized_df.head()"
   ]
  },
  {
   "cell_type": "code",
   "execution_count": 12,
   "metadata": {},
   "outputs": [
    {
     "output_type": "execute_result",
     "data": {
      "text/plain": [
       "  Country Name Country Code      Indicator Name      2000      2001  \\\n",
       "0        Aruba          ABW  CO2 emissions (kt)  2379.883  2409.219   \n",
       "1  Afghanistan          AFG  CO2 emissions (kt)   773.737   817.741   \n",
       "2       Angola          AGO  CO2 emissions (kt)  9541.534  9732.218   \n",
       "3      Albania          ALB  CO2 emissions (kt)  3021.608  3223.293   \n",
       "4      Andorra          AND  CO2 emissions (kt)   524.381   524.381   \n",
       "\n",
       "        2002      2003       2004       2005       2006       2007       2008  \\\n",
       "0   2438.555  2563.233   2618.238   2720.914   2717.247   2823.590   2658.575   \n",
       "1   1070.764  1213.777    916.750   1327.454   1650.150   2273.540   4206.049   \n",
       "2  12665.818  9064.824  18793.375  19156.408  22266.024  25151.953  25709.337   \n",
       "3   3751.341  4294.057   4165.712   4253.720   3898.021   3927.357   4374.731   \n",
       "4    531.715   535.382    561.051    575.719    546.383    539.049    539.049   \n",
       "\n",
       "        2009       2010       2011       2012       2013       2014       2015  \n",
       "0   2629.239   2508.228   2500.894   1349.456    861.745    872.746    898.415  \n",
       "1   6769.282   8463.436  12240.446  10755.311   9050.156   8467.103   9035.488  \n",
       "2  27792.193  29057.308  30586.447  34176.440  33692.396  44851.077  34583.477  \n",
       "3   4378.398   4598.418   5240.143   4924.781   4913.780   5489.499   4616.753  \n",
       "4    517.047    517.047    491.378    487.711    476.710    462.042    465.709  "
      ],
      "text/html": "<div>\n<style scoped>\n    .dataframe tbody tr th:only-of-type {\n        vertical-align: middle;\n    }\n\n    .dataframe tbody tr th {\n        vertical-align: top;\n    }\n\n    .dataframe thead th {\n        text-align: right;\n    }\n</style>\n<table border=\"1\" class=\"dataframe\">\n  <thead>\n    <tr style=\"text-align: right;\">\n      <th></th>\n      <th>Country Name</th>\n      <th>Country Code</th>\n      <th>Indicator Name</th>\n      <th>2000</th>\n      <th>2001</th>\n      <th>2002</th>\n      <th>2003</th>\n      <th>2004</th>\n      <th>2005</th>\n      <th>2006</th>\n      <th>2007</th>\n      <th>2008</th>\n      <th>2009</th>\n      <th>2010</th>\n      <th>2011</th>\n      <th>2012</th>\n      <th>2013</th>\n      <th>2014</th>\n      <th>2015</th>\n    </tr>\n  </thead>\n  <tbody>\n    <tr>\n      <th>0</th>\n      <td>Aruba</td>\n      <td>ABW</td>\n      <td>CO2 emissions (kt)</td>\n      <td>2379.883</td>\n      <td>2409.219</td>\n      <td>2438.555</td>\n      <td>2563.233</td>\n      <td>2618.238</td>\n      <td>2720.914</td>\n      <td>2717.247</td>\n      <td>2823.590</td>\n      <td>2658.575</td>\n      <td>2629.239</td>\n      <td>2508.228</td>\n      <td>2500.894</td>\n      <td>1349.456</td>\n      <td>861.745</td>\n      <td>872.746</td>\n      <td>898.415</td>\n    </tr>\n    <tr>\n      <th>1</th>\n      <td>Afghanistan</td>\n      <td>AFG</td>\n      <td>CO2 emissions (kt)</td>\n      <td>773.737</td>\n      <td>817.741</td>\n      <td>1070.764</td>\n      <td>1213.777</td>\n      <td>916.750</td>\n      <td>1327.454</td>\n      <td>1650.150</td>\n      <td>2273.540</td>\n      <td>4206.049</td>\n      <td>6769.282</td>\n      <td>8463.436</td>\n      <td>12240.446</td>\n      <td>10755.311</td>\n      <td>9050.156</td>\n      <td>8467.103</td>\n      <td>9035.488</td>\n    </tr>\n    <tr>\n      <th>2</th>\n      <td>Angola</td>\n      <td>AGO</td>\n      <td>CO2 emissions (kt)</td>\n      <td>9541.534</td>\n      <td>9732.218</td>\n      <td>12665.818</td>\n      <td>9064.824</td>\n      <td>18793.375</td>\n      <td>19156.408</td>\n      <td>22266.024</td>\n      <td>25151.953</td>\n      <td>25709.337</td>\n      <td>27792.193</td>\n      <td>29057.308</td>\n      <td>30586.447</td>\n      <td>34176.440</td>\n      <td>33692.396</td>\n      <td>44851.077</td>\n      <td>34583.477</td>\n    </tr>\n    <tr>\n      <th>3</th>\n      <td>Albania</td>\n      <td>ALB</td>\n      <td>CO2 emissions (kt)</td>\n      <td>3021.608</td>\n      <td>3223.293</td>\n      <td>3751.341</td>\n      <td>4294.057</td>\n      <td>4165.712</td>\n      <td>4253.720</td>\n      <td>3898.021</td>\n      <td>3927.357</td>\n      <td>4374.731</td>\n      <td>4378.398</td>\n      <td>4598.418</td>\n      <td>5240.143</td>\n      <td>4924.781</td>\n      <td>4913.780</td>\n      <td>5489.499</td>\n      <td>4616.753</td>\n    </tr>\n    <tr>\n      <th>4</th>\n      <td>Andorra</td>\n      <td>AND</td>\n      <td>CO2 emissions (kt)</td>\n      <td>524.381</td>\n      <td>524.381</td>\n      <td>531.715</td>\n      <td>535.382</td>\n      <td>561.051</td>\n      <td>575.719</td>\n      <td>546.383</td>\n      <td>539.049</td>\n      <td>539.049</td>\n      <td>517.047</td>\n      <td>517.047</td>\n      <td>491.378</td>\n      <td>487.711</td>\n      <td>476.710</td>\n      <td>462.042</td>\n      <td>465.709</td>\n    </tr>\n  </tbody>\n</table>\n</div>"
     },
     "metadata": {},
     "execution_count": 12
    }
   ],
   "source": [
    "CO2_data = Organized_df.dropna()\n",
    "CO2_data.head()"
   ]
  },
  {
   "cell_type": "code",
   "execution_count": null,
   "metadata": {},
   "outputs": [],
   "source": []
  }
 ],
 "metadata": {
  "kernelspec": {
   "display_name": "Python 3",
   "language": "python",
   "name": "python3"
  },
  "language_info": {
   "codemirror_mode": {
    "name": "ipython",
    "version": 3
   },
   "file_extension": ".py",
   "mimetype": "text/x-python",
   "name": "python",
   "nbconvert_exporter": "python",
   "pygments_lexer": "ipython3",
   "version": "3.8.3-final"
  }
 },
 "nbformat": 4,
 "nbformat_minor": 4
}