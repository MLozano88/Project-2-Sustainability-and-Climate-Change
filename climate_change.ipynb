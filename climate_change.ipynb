{
 "cells": [
  {
   "cell_type": "code",
   "execution_count": 23,
   "metadata": {},
   "outputs": [],
   "source": [
    "# Dependencies and Setup\n",
    "import pandas as pd\n",
    "import numpy as np\n"
   ]
  },
  {
   "source": [
    "## Get Top 20 Countries that produced the most CO2 emissions (2015)"
   ],
   "cell_type": "markdown",
   "metadata": {}
  },
  {
   "cell_type": "code",
   "execution_count": 24,
   "metadata": {},
   "outputs": [],
   "source": [
    "# Loading cleaned CO2 emissions data \n",
    "data = pd.read_csv('data/Cleaned_CO2.csv')\n"
   ]
  },
  {
   "cell_type": "code",
   "execution_count": 25,
   "metadata": {},
   "outputs": [
    {
     "output_type": "execute_result",
     "data": {
      "text/plain": [
       "    Country Code        Country Name      Indicator Name         2000  \\\n",
       "34           CHN               China  CO2 emissions (kt)  3405179.867   \n",
       "187          USA       United States  CO2 emissions (kt)  5693684.894   \n",
       "84           IND               India  CO2 emissions (kt)  1031853.463   \n",
       "154          RUS  Russian Federation  CO2 emissions (kt)  1557899.281   \n",
       "92           JPN               Japan  CO2 emissions (kt)  1219281.167   \n",
       "\n",
       "            2001         2002         2003         2004         2005  \\\n",
       "34   3487566.356  3850269.326  4540417.061  5233538.733  5896957.705   \n",
       "187  5595794.329  5641309.133  5675701.926  5756075.232  5789727.291   \n",
       "84   1041152.975  1054258.833  1099597.621  1154320.262  1222563.132   \n",
       "154  1557506.912  1557085.207  1604242.827  1602115.967  1615089.813   \n",
       "92   1201331.202  1218980.473  1240953.137  1262394.086  1240945.803   \n",
       "\n",
       "            2006         2007         2008         2009         2010  \\\n",
       "34   6529291.518  6697654.489  7553070.247  7557789.676  8776040.416   \n",
       "187  5697285.888  5789030.561  5614110.994  5263505.457  5395532.125   \n",
       "84   1303717.509  1407607.286  1568379.567  1738645.711  1719690.988   \n",
       "154  1669262.404  1666886.188  1714978.893  1574045.082  1670531.186   \n",
       "92   1234755.907  1251554.434  1211756.483  1105314.474  1172611.258   \n",
       "\n",
       "            2011          2012          2013          2014          2015  \n",
       "34   9733538.120  1.002857e+07  1.025801e+07  1.029193e+07  1.014500e+07  \n",
       "187  5270047.385  5.082000e+06  5.170360e+06  5.225413e+06  5.126913e+06  \n",
       "84   1836561.945  2.013788e+06  2.030972e+06  2.232730e+06  2.337749e+06  \n",
       "154  1763405.295  1.807244e+06  1.739427e+06  1.736985e+06  1.698213e+06  \n",
       "92   1190469.548  1.229622e+06  1.244616e+06  1.206674e+06  1.163803e+06  "
      ],
      "text/html": "<div>\n<style scoped>\n    .dataframe tbody tr th:only-of-type {\n        vertical-align: middle;\n    }\n\n    .dataframe tbody tr th {\n        vertical-align: top;\n    }\n\n    .dataframe thead th {\n        text-align: right;\n    }\n</style>\n<table border=\"1\" class=\"dataframe\">\n  <thead>\n    <tr style=\"text-align: right;\">\n      <th></th>\n      <th>Country Code</th>\n      <th>Country Name</th>\n      <th>Indicator Name</th>\n      <th>2000</th>\n      <th>2001</th>\n      <th>2002</th>\n      <th>2003</th>\n      <th>2004</th>\n      <th>2005</th>\n      <th>2006</th>\n      <th>2007</th>\n      <th>2008</th>\n      <th>2009</th>\n      <th>2010</th>\n      <th>2011</th>\n      <th>2012</th>\n      <th>2013</th>\n      <th>2014</th>\n      <th>2015</th>\n    </tr>\n  </thead>\n  <tbody>\n    <tr>\n      <th>34</th>\n      <td>CHN</td>\n      <td>China</td>\n      <td>CO2 emissions (kt)</td>\n      <td>3405179.867</td>\n      <td>3487566.356</td>\n      <td>3850269.326</td>\n      <td>4540417.061</td>\n      <td>5233538.733</td>\n      <td>5896957.705</td>\n      <td>6529291.518</td>\n      <td>6697654.489</td>\n      <td>7553070.247</td>\n      <td>7557789.676</td>\n      <td>8776040.416</td>\n      <td>9733538.120</td>\n      <td>1.002857e+07</td>\n      <td>1.025801e+07</td>\n      <td>1.029193e+07</td>\n      <td>1.014500e+07</td>\n    </tr>\n    <tr>\n      <th>187</th>\n      <td>USA</td>\n      <td>United States</td>\n      <td>CO2 emissions (kt)</td>\n      <td>5693684.894</td>\n      <td>5595794.329</td>\n      <td>5641309.133</td>\n      <td>5675701.926</td>\n      <td>5756075.232</td>\n      <td>5789727.291</td>\n      <td>5697285.888</td>\n      <td>5789030.561</td>\n      <td>5614110.994</td>\n      <td>5263505.457</td>\n      <td>5395532.125</td>\n      <td>5270047.385</td>\n      <td>5.082000e+06</td>\n      <td>5.170360e+06</td>\n      <td>5.225413e+06</td>\n      <td>5.126913e+06</td>\n    </tr>\n    <tr>\n      <th>84</th>\n      <td>IND</td>\n      <td>India</td>\n      <td>CO2 emissions (kt)</td>\n      <td>1031853.463</td>\n      <td>1041152.975</td>\n      <td>1054258.833</td>\n      <td>1099597.621</td>\n      <td>1154320.262</td>\n      <td>1222563.132</td>\n      <td>1303717.509</td>\n      <td>1407607.286</td>\n      <td>1568379.567</td>\n      <td>1738645.711</td>\n      <td>1719690.988</td>\n      <td>1836561.945</td>\n      <td>2.013788e+06</td>\n      <td>2.030972e+06</td>\n      <td>2.232730e+06</td>\n      <td>2.337749e+06</td>\n    </tr>\n    <tr>\n      <th>154</th>\n      <td>RUS</td>\n      <td>Russian Federation</td>\n      <td>CO2 emissions (kt)</td>\n      <td>1557899.281</td>\n      <td>1557506.912</td>\n      <td>1557085.207</td>\n      <td>1604242.827</td>\n      <td>1602115.967</td>\n      <td>1615089.813</td>\n      <td>1669262.404</td>\n      <td>1666886.188</td>\n      <td>1714978.893</td>\n      <td>1574045.082</td>\n      <td>1670531.186</td>\n      <td>1763405.295</td>\n      <td>1.807244e+06</td>\n      <td>1.739427e+06</td>\n      <td>1.736985e+06</td>\n      <td>1.698213e+06</td>\n    </tr>\n    <tr>\n      <th>92</th>\n      <td>JPN</td>\n      <td>Japan</td>\n      <td>CO2 emissions (kt)</td>\n      <td>1219281.167</td>\n      <td>1201331.202</td>\n      <td>1218980.473</td>\n      <td>1240953.137</td>\n      <td>1262394.086</td>\n      <td>1240945.803</td>\n      <td>1234755.907</td>\n      <td>1251554.434</td>\n      <td>1211756.483</td>\n      <td>1105314.474</td>\n      <td>1172611.258</td>\n      <td>1190469.548</td>\n      <td>1.229622e+06</td>\n      <td>1.244616e+06</td>\n      <td>1.206674e+06</td>\n      <td>1.163803e+06</td>\n    </tr>\n  </tbody>\n</table>\n</div>"
     },
     "metadata": {},
     "execution_count": 25
    }
   ],
   "source": [
    "# Slice top 20 countries with highest CO2 emissions -- USE THIS CHART TO FIND TOP 20 CO2 EMISSION DATA \n",
    "top20_CO2df = data.nlargest(20, '2015')\n",
    "top20_CO2df.head(5)"
   ]
  },
  {
   "cell_type": "code",
   "execution_count": 26,
   "metadata": {},
   "outputs": [
    {
     "output_type": "execute_result",
     "data": {
      "text/plain": [
       "34                  China\n",
       "187         United States\n",
       "84                  India\n",
       "154    Russian Federation\n",
       "92                  Japan\n",
       "48                Germany\n",
       "86     Iran, Islamic Rep.\n",
       "156          Saudi Arabia\n",
       "99            Korea, Rep.\n",
       "31                 Canada\n",
       "83              Indonesia\n",
       "25                 Brazil\n",
       "116                Mexico\n",
       "196          South Africa\n",
       "65         United Kingdom\n",
       "9               Australia\n",
       "181                Turkey\n",
       "145                Poland\n",
       "175              Thailand\n",
       "57                  Spain\n",
       "Name: Country Name, dtype: object"
      ]
     },
     "metadata": {},
     "execution_count": 26
    }
   ],
   "source": [
    "# Store Top 20 country Names in a list -- USE THESE FOR DROP DOWN MENU AND PIE CHART TITLES\n",
    "top20_countrynames_list = top20_CO2df[\"Country Name\"]\n",
    "top20_countrynames_list"
   ]
  },
  {
   "cell_type": "code",
   "execution_count": 27,
   "metadata": {},
   "outputs": [
    {
     "output_type": "execute_result",
     "data": {
      "text/plain": [
       "34     CHN\n",
       "187    USA\n",
       "84     IND\n",
       "154    RUS\n",
       "92     JPN\n",
       "48     DEU\n",
       "86     IRN\n",
       "156    SAU\n",
       "99     KOR\n",
       "31     CAN\n",
       "83     IDN\n",
       "25     BRA\n",
       "116    MEX\n",
       "196    ZAF\n",
       "65     GBR\n",
       "9      AUS\n",
       "181    TUR\n",
       "145    POL\n",
       "175    THA\n",
       "57     ESP\n",
       "Name: Country Code, dtype: object"
      ]
     },
     "metadata": {},
     "execution_count": 27
    }
   ],
   "source": [
    "# Store Top 20 country codes in a list -- USE THESE TO MERGE DATA \n",
    "top20_countrycodes_list = top20_CO2df[\"Country Code\"]\n",
    "top20_countrycodes_list"
   ]
  },
  {
   "source": [
    "## Filter out other CSVs according to TOP 20 countries list "
   ],
   "cell_type": "markdown",
   "metadata": {}
  },
  {
   "cell_type": "code",
   "execution_count": 28,
   "metadata": {},
   "outputs": [],
   "source": [
    "# Loading cleaned GDP data \n",
    "GDPdata = pd.read_csv('data/Cleaned_GDP.csv')"
   ]
  },
  {
   "cell_type": "code",
   "execution_count": 31,
   "metadata": {},
   "outputs": [
    {
     "output_type": "error",
     "ename": "KeyError",
     "evalue": "\"None of [Index(['CHN', 'USA', 'IND', 'RUS', 'JPN', 'DEU', 'IRN', 'SAU', 'KOR', 'CAN',\\n       'IDN', 'BRA', 'MEX', 'ZAF', 'GBR', 'AUS', 'TUR', 'POL', 'THA', 'ESP'],\\n      dtype='object')] are in the [index]\"",
     "traceback": [
      "\u001b[1;31m---------------------------------------------------------------------------\u001b[0m",
      "\u001b[1;31mKeyError\u001b[0m                                  Traceback (most recent call last)",
      "\u001b[1;32m<ipython-input-31-9e7edf85d77c>\u001b[0m in \u001b[0;36m<module>\u001b[1;34m\u001b[0m\n\u001b[1;32m----> 1\u001b[1;33m \u001b[0mtop20_GDP\u001b[0m\u001b[1;33m=\u001b[0m \u001b[0mGDPdata\u001b[0m\u001b[1;33m.\u001b[0m\u001b[0mloc\u001b[0m\u001b[1;33m[\u001b[0m\u001b[0mtop20_countrycodes_list\u001b[0m\u001b[1;33m]\u001b[0m\u001b[1;33m\u001b[0m\u001b[1;33m\u001b[0m\u001b[0m\n\u001b[0m\u001b[0;32m      2\u001b[0m \u001b[1;33m\u001b[0m\u001b[0m\n\u001b[0;32m      3\u001b[0m \u001b[0mtop20_GDP\u001b[0m\u001b[1;33m\u001b[0m\u001b[1;33m\u001b[0m\u001b[0m\n",
      "\u001b[1;32m~\\anaconda3\\lib\\site-packages\\pandas\\core\\indexing.py\u001b[0m in \u001b[0;36m__getitem__\u001b[1;34m(self, key)\u001b[0m\n\u001b[0;32m   1766\u001b[0m \u001b[1;33m\u001b[0m\u001b[0m\n\u001b[0;32m   1767\u001b[0m             \u001b[0mmaybe_callable\u001b[0m \u001b[1;33m=\u001b[0m \u001b[0mcom\u001b[0m\u001b[1;33m.\u001b[0m\u001b[0mapply_if_callable\u001b[0m\u001b[1;33m(\u001b[0m\u001b[0mkey\u001b[0m\u001b[1;33m,\u001b[0m \u001b[0mself\u001b[0m\u001b[1;33m.\u001b[0m\u001b[0mobj\u001b[0m\u001b[1;33m)\u001b[0m\u001b[1;33m\u001b[0m\u001b[1;33m\u001b[0m\u001b[0m\n\u001b[1;32m-> 1768\u001b[1;33m             \u001b[1;32mreturn\u001b[0m \u001b[0mself\u001b[0m\u001b[1;33m.\u001b[0m\u001b[0m_getitem_axis\u001b[0m\u001b[1;33m(\u001b[0m\u001b[0mmaybe_callable\u001b[0m\u001b[1;33m,\u001b[0m \u001b[0maxis\u001b[0m\u001b[1;33m=\u001b[0m\u001b[0maxis\u001b[0m\u001b[1;33m)\u001b[0m\u001b[1;33m\u001b[0m\u001b[1;33m\u001b[0m\u001b[0m\n\u001b[0m\u001b[0;32m   1769\u001b[0m \u001b[1;33m\u001b[0m\u001b[0m\n\u001b[0;32m   1770\u001b[0m     \u001b[1;32mdef\u001b[0m \u001b[0m_is_scalar_access\u001b[0m\u001b[1;33m(\u001b[0m\u001b[0mself\u001b[0m\u001b[1;33m,\u001b[0m \u001b[0mkey\u001b[0m\u001b[1;33m:\u001b[0m \u001b[0mTuple\u001b[0m\u001b[1;33m)\u001b[0m\u001b[1;33m:\u001b[0m\u001b[1;33m\u001b[0m\u001b[1;33m\u001b[0m\u001b[0m\n",
      "\u001b[1;32m~\\anaconda3\\lib\\site-packages\\pandas\\core\\indexing.py\u001b[0m in \u001b[0;36m_getitem_axis\u001b[1;34m(self, key, axis)\u001b[0m\n\u001b[0;32m   1952\u001b[0m                     \u001b[1;32mraise\u001b[0m \u001b[0mValueError\u001b[0m\u001b[1;33m(\u001b[0m\u001b[1;34m\"Cannot index with multidimensional key\"\u001b[0m\u001b[1;33m)\u001b[0m\u001b[1;33m\u001b[0m\u001b[1;33m\u001b[0m\u001b[0m\n\u001b[0;32m   1953\u001b[0m \u001b[1;33m\u001b[0m\u001b[0m\n\u001b[1;32m-> 1954\u001b[1;33m                 \u001b[1;32mreturn\u001b[0m \u001b[0mself\u001b[0m\u001b[1;33m.\u001b[0m\u001b[0m_getitem_iterable\u001b[0m\u001b[1;33m(\u001b[0m\u001b[0mkey\u001b[0m\u001b[1;33m,\u001b[0m \u001b[0maxis\u001b[0m\u001b[1;33m=\u001b[0m\u001b[0maxis\u001b[0m\u001b[1;33m)\u001b[0m\u001b[1;33m\u001b[0m\u001b[1;33m\u001b[0m\u001b[0m\n\u001b[0m\u001b[0;32m   1955\u001b[0m \u001b[1;33m\u001b[0m\u001b[0m\n\u001b[0;32m   1956\u001b[0m             \u001b[1;31m# nested tuple slicing\u001b[0m\u001b[1;33m\u001b[0m\u001b[1;33m\u001b[0m\u001b[1;33m\u001b[0m\u001b[0m\n",
      "\u001b[1;32m~\\anaconda3\\lib\\site-packages\\pandas\\core\\indexing.py\u001b[0m in \u001b[0;36m_getitem_iterable\u001b[1;34m(self, key, axis)\u001b[0m\n\u001b[0;32m   1593\u001b[0m         \u001b[1;32melse\u001b[0m\u001b[1;33m:\u001b[0m\u001b[1;33m\u001b[0m\u001b[1;33m\u001b[0m\u001b[0m\n\u001b[0;32m   1594\u001b[0m             \u001b[1;31m# A collection of keys\u001b[0m\u001b[1;33m\u001b[0m\u001b[1;33m\u001b[0m\u001b[1;33m\u001b[0m\u001b[0m\n\u001b[1;32m-> 1595\u001b[1;33m             \u001b[0mkeyarr\u001b[0m\u001b[1;33m,\u001b[0m \u001b[0mindexer\u001b[0m \u001b[1;33m=\u001b[0m \u001b[0mself\u001b[0m\u001b[1;33m.\u001b[0m\u001b[0m_get_listlike_indexer\u001b[0m\u001b[1;33m(\u001b[0m\u001b[0mkey\u001b[0m\u001b[1;33m,\u001b[0m \u001b[0maxis\u001b[0m\u001b[1;33m,\u001b[0m \u001b[0mraise_missing\u001b[0m\u001b[1;33m=\u001b[0m\u001b[1;32mFalse\u001b[0m\u001b[1;33m)\u001b[0m\u001b[1;33m\u001b[0m\u001b[1;33m\u001b[0m\u001b[0m\n\u001b[0m\u001b[0;32m   1596\u001b[0m             return self.obj._reindex_with_indexers(\n\u001b[0;32m   1597\u001b[0m                 \u001b[1;33m{\u001b[0m\u001b[0maxis\u001b[0m\u001b[1;33m:\u001b[0m \u001b[1;33m[\u001b[0m\u001b[0mkeyarr\u001b[0m\u001b[1;33m,\u001b[0m \u001b[0mindexer\u001b[0m\u001b[1;33m]\u001b[0m\u001b[1;33m}\u001b[0m\u001b[1;33m,\u001b[0m \u001b[0mcopy\u001b[0m\u001b[1;33m=\u001b[0m\u001b[1;32mTrue\u001b[0m\u001b[1;33m,\u001b[0m \u001b[0mallow_dups\u001b[0m\u001b[1;33m=\u001b[0m\u001b[1;32mTrue\u001b[0m\u001b[1;33m\u001b[0m\u001b[1;33m\u001b[0m\u001b[0m\n",
      "\u001b[1;32m~\\anaconda3\\lib\\site-packages\\pandas\\core\\indexing.py\u001b[0m in \u001b[0;36m_get_listlike_indexer\u001b[1;34m(self, key, axis, raise_missing)\u001b[0m\n\u001b[0;32m   1550\u001b[0m             \u001b[0mkeyarr\u001b[0m\u001b[1;33m,\u001b[0m \u001b[0mindexer\u001b[0m\u001b[1;33m,\u001b[0m \u001b[0mnew_indexer\u001b[0m \u001b[1;33m=\u001b[0m \u001b[0max\u001b[0m\u001b[1;33m.\u001b[0m\u001b[0m_reindex_non_unique\u001b[0m\u001b[1;33m(\u001b[0m\u001b[0mkeyarr\u001b[0m\u001b[1;33m)\u001b[0m\u001b[1;33m\u001b[0m\u001b[1;33m\u001b[0m\u001b[0m\n\u001b[0;32m   1551\u001b[0m \u001b[1;33m\u001b[0m\u001b[0m\n\u001b[1;32m-> 1552\u001b[1;33m         self._validate_read_indexer(\n\u001b[0m\u001b[0;32m   1553\u001b[0m             \u001b[0mkeyarr\u001b[0m\u001b[1;33m,\u001b[0m \u001b[0mindexer\u001b[0m\u001b[1;33m,\u001b[0m \u001b[0mo\u001b[0m\u001b[1;33m.\u001b[0m\u001b[0m_get_axis_number\u001b[0m\u001b[1;33m(\u001b[0m\u001b[0maxis\u001b[0m\u001b[1;33m)\u001b[0m\u001b[1;33m,\u001b[0m \u001b[0mraise_missing\u001b[0m\u001b[1;33m=\u001b[0m\u001b[0mraise_missing\u001b[0m\u001b[1;33m\u001b[0m\u001b[1;33m\u001b[0m\u001b[0m\n\u001b[0;32m   1554\u001b[0m         )\n",
      "\u001b[1;32m~\\anaconda3\\lib\\site-packages\\pandas\\core\\indexing.py\u001b[0m in \u001b[0;36m_validate_read_indexer\u001b[1;34m(self, key, indexer, axis, raise_missing)\u001b[0m\n\u001b[0;32m   1638\u001b[0m             \u001b[1;32mif\u001b[0m \u001b[0mmissing\u001b[0m \u001b[1;33m==\u001b[0m \u001b[0mlen\u001b[0m\u001b[1;33m(\u001b[0m\u001b[0mindexer\u001b[0m\u001b[1;33m)\u001b[0m\u001b[1;33m:\u001b[0m\u001b[1;33m\u001b[0m\u001b[1;33m\u001b[0m\u001b[0m\n\u001b[0;32m   1639\u001b[0m                 \u001b[0maxis_name\u001b[0m \u001b[1;33m=\u001b[0m \u001b[0mself\u001b[0m\u001b[1;33m.\u001b[0m\u001b[0mobj\u001b[0m\u001b[1;33m.\u001b[0m\u001b[0m_get_axis_name\u001b[0m\u001b[1;33m(\u001b[0m\u001b[0maxis\u001b[0m\u001b[1;33m)\u001b[0m\u001b[1;33m\u001b[0m\u001b[1;33m\u001b[0m\u001b[0m\n\u001b[1;32m-> 1640\u001b[1;33m                 \u001b[1;32mraise\u001b[0m \u001b[0mKeyError\u001b[0m\u001b[1;33m(\u001b[0m\u001b[1;34mf\"None of [{key}] are in the [{axis_name}]\"\u001b[0m\u001b[1;33m)\u001b[0m\u001b[1;33m\u001b[0m\u001b[1;33m\u001b[0m\u001b[0m\n\u001b[0m\u001b[0;32m   1641\u001b[0m \u001b[1;33m\u001b[0m\u001b[0m\n\u001b[0;32m   1642\u001b[0m             \u001b[1;31m# We (temporarily) allow for some missing keys with .loc, except in\u001b[0m\u001b[1;33m\u001b[0m\u001b[1;33m\u001b[0m\u001b[1;33m\u001b[0m\u001b[0m\n",
      "\u001b[1;31mKeyError\u001b[0m: \"None of [Index(['CHN', 'USA', 'IND', 'RUS', 'JPN', 'DEU', 'IRN', 'SAU', 'KOR', 'CAN',\\n       'IDN', 'BRA', 'MEX', 'ZAF', 'GBR', 'AUS', 'TUR', 'POL', 'THA', 'ESP'],\\n      dtype='object')] are in the [index]\""
     ]
    }
   ],
   "source": [
    "top20_GDP= GDPdata.loc[top20_countrycodes_list]\n",
    "\n",
    "top20_GDP"
   ]
  },
  {
   "cell_type": "code",
   "execution_count": null,
   "metadata": {},
   "outputs": [],
   "source": []
  },
  {
   "cell_type": "code",
   "execution_count": null,
   "metadata": {},
   "outputs": [],
   "source": []
  }
 ],
 "metadata": {
  "kernelspec": {
   "display_name": "Python 3",
   "language": "python",
   "name": "python3"
  },
  "language_info": {
   "codemirror_mode": {
    "name": "ipython",
    "version": 3
   },
   "file_extension": ".py",
   "mimetype": "text/x-python",
   "name": "python",
   "nbconvert_exporter": "python",
   "pygments_lexer": "ipython3",
   "version": "3.8.3-final"
  }
 },
 "nbformat": 4,
 "nbformat_minor": 4
}