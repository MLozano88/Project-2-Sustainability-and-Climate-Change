{
 "cells": [
  {
   "cell_type": "code",
   "execution_count": 15,
   "metadata": {},
   "outputs": [],
   "source": [
    "# Dependencies and Setup\n",
    "import pandas as pd\n",
    "import numpy as np\n"
   ]
  },
  {
   "source": [
    "Get Top 20 Countries that produced the most CO2 emissions (2015)"
   ],
   "cell_type": "markdown",
   "metadata": {}
  },
  {
   "cell_type": "code",
   "execution_count": 16,
   "metadata": {},
   "outputs": [
    {
     "output_type": "execute_result",
     "data": {
      "text/plain": [
       "  Country Code Country Name      Indicator Name      2000      2001  \\\n",
       "0          ABW        Aruba  CO2 emissions (kt)  2379.883  2409.219   \n",
       "1          AFG  Afghanistan  CO2 emissions (kt)   773.737   817.741   \n",
       "2          AGO       Angola  CO2 emissions (kt)  9541.534  9732.218   \n",
       "3          ALB      Albania  CO2 emissions (kt)  3021.608  3223.293   \n",
       "4          AND      Andorra  CO2 emissions (kt)   524.381   524.381   \n",
       "\n",
       "        2002      2003       2004       2005       2006       2007       2008  \\\n",
       "0   2438.555  2563.233   2618.238   2720.914   2717.247   2823.590   2658.575   \n",
       "1   1070.764  1213.777    916.750   1327.454   1650.150   2273.540   4206.049   \n",
       "2  12665.818  9064.824  18793.375  19156.408  22266.024  25151.953  25709.337   \n",
       "3   3751.341  4294.057   4165.712   4253.720   3898.021   3927.357   4374.731   \n",
       "4    531.715   535.382    561.051    575.719    546.383    539.049    539.049   \n",
       "\n",
       "        2009       2010       2011       2012       2013       2014       2015  \n",
       "0   2629.239   2508.228   2500.894   1349.456    861.745    872.746    898.415  \n",
       "1   6769.282   8463.436  12240.446  10755.311   9050.156   8467.103   9035.488  \n",
       "2  27792.193  29057.308  30586.447  34176.440  33692.396  44851.077  34583.477  \n",
       "3   4378.398   4598.418   5240.143   4924.781   4913.780   5489.499   4616.753  \n",
       "4    517.047    517.047    491.378    487.711    476.710    462.042    465.709  "
      ],
      "text/html": "<div>\n<style scoped>\n    .dataframe tbody tr th:only-of-type {\n        vertical-align: middle;\n    }\n\n    .dataframe tbody tr th {\n        vertical-align: top;\n    }\n\n    .dataframe thead th {\n        text-align: right;\n    }\n</style>\n<table border=\"1\" class=\"dataframe\">\n  <thead>\n    <tr style=\"text-align: right;\">\n      <th></th>\n      <th>Country Code</th>\n      <th>Country Name</th>\n      <th>Indicator Name</th>\n      <th>2000</th>\n      <th>2001</th>\n      <th>2002</th>\n      <th>2003</th>\n      <th>2004</th>\n      <th>2005</th>\n      <th>2006</th>\n      <th>2007</th>\n      <th>2008</th>\n      <th>2009</th>\n      <th>2010</th>\n      <th>2011</th>\n      <th>2012</th>\n      <th>2013</th>\n      <th>2014</th>\n      <th>2015</th>\n    </tr>\n  </thead>\n  <tbody>\n    <tr>\n      <th>0</th>\n      <td>ABW</td>\n      <td>Aruba</td>\n      <td>CO2 emissions (kt)</td>\n      <td>2379.883</td>\n      <td>2409.219</td>\n      <td>2438.555</td>\n      <td>2563.233</td>\n      <td>2618.238</td>\n      <td>2720.914</td>\n      <td>2717.247</td>\n      <td>2823.590</td>\n      <td>2658.575</td>\n      <td>2629.239</td>\n      <td>2508.228</td>\n      <td>2500.894</td>\n      <td>1349.456</td>\n      <td>861.745</td>\n      <td>872.746</td>\n      <td>898.415</td>\n    </tr>\n    <tr>\n      <th>1</th>\n      <td>AFG</td>\n      <td>Afghanistan</td>\n      <td>CO2 emissions (kt)</td>\n      <td>773.737</td>\n      <td>817.741</td>\n      <td>1070.764</td>\n      <td>1213.777</td>\n      <td>916.750</td>\n      <td>1327.454</td>\n      <td>1650.150</td>\n      <td>2273.540</td>\n      <td>4206.049</td>\n      <td>6769.282</td>\n      <td>8463.436</td>\n      <td>12240.446</td>\n      <td>10755.311</td>\n      <td>9050.156</td>\n      <td>8467.103</td>\n      <td>9035.488</td>\n    </tr>\n    <tr>\n      <th>2</th>\n      <td>AGO</td>\n      <td>Angola</td>\n      <td>CO2 emissions (kt)</td>\n      <td>9541.534</td>\n      <td>9732.218</td>\n      <td>12665.818</td>\n      <td>9064.824</td>\n      <td>18793.375</td>\n      <td>19156.408</td>\n      <td>22266.024</td>\n      <td>25151.953</td>\n      <td>25709.337</td>\n      <td>27792.193</td>\n      <td>29057.308</td>\n      <td>30586.447</td>\n      <td>34176.440</td>\n      <td>33692.396</td>\n      <td>44851.077</td>\n      <td>34583.477</td>\n    </tr>\n    <tr>\n      <th>3</th>\n      <td>ALB</td>\n      <td>Albania</td>\n      <td>CO2 emissions (kt)</td>\n      <td>3021.608</td>\n      <td>3223.293</td>\n      <td>3751.341</td>\n      <td>4294.057</td>\n      <td>4165.712</td>\n      <td>4253.720</td>\n      <td>3898.021</td>\n      <td>3927.357</td>\n      <td>4374.731</td>\n      <td>4378.398</td>\n      <td>4598.418</td>\n      <td>5240.143</td>\n      <td>4924.781</td>\n      <td>4913.780</td>\n      <td>5489.499</td>\n      <td>4616.753</td>\n    </tr>\n    <tr>\n      <th>4</th>\n      <td>AND</td>\n      <td>Andorra</td>\n      <td>CO2 emissions (kt)</td>\n      <td>524.381</td>\n      <td>524.381</td>\n      <td>531.715</td>\n      <td>535.382</td>\n      <td>561.051</td>\n      <td>575.719</td>\n      <td>546.383</td>\n      <td>539.049</td>\n      <td>539.049</td>\n      <td>517.047</td>\n      <td>517.047</td>\n      <td>491.378</td>\n      <td>487.711</td>\n      <td>476.710</td>\n      <td>462.042</td>\n      <td>465.709</td>\n    </tr>\n  </tbody>\n</table>\n</div>"
     },
     "metadata": {},
     "execution_count": 16
    }
   ],
   "source": [
    "# Loading cleaned CO2 emissions data \n",
    "data = pd.read_csv('data/Cleaned_CO2.csv')\n",
    "\n",
    "data.head()\n"
   ]
  },
  {
   "cell_type": "code",
   "execution_count": 19,
   "metadata": {},
   "outputs": [
    {
     "output_type": "execute_result",
     "data": {
      "text/plain": [
       "    Country Code        Country Name      Indicator Name         2000  \\\n",
       "34           CHN               China  CO2 emissions (kt)  3405179.867   \n",
       "187          USA       United States  CO2 emissions (kt)  5693684.894   \n",
       "84           IND               India  CO2 emissions (kt)  1031853.463   \n",
       "154          RUS  Russian Federation  CO2 emissions (kt)  1557899.281   \n",
       "92           JPN               Japan  CO2 emissions (kt)  1219281.167   \n",
       "\n",
       "            2001         2002         2003         2004         2005  \\\n",
       "34   3487566.356  3850269.326  4540417.061  5233538.733  5896957.705   \n",
       "187  5595794.329  5641309.133  5675701.926  5756075.232  5789727.291   \n",
       "84   1041152.975  1054258.833  1099597.621  1154320.262  1222563.132   \n",
       "154  1557506.912  1557085.207  1604242.827  1602115.967  1615089.813   \n",
       "92   1201331.202  1218980.473  1240953.137  1262394.086  1240945.803   \n",
       "\n",
       "            2006         2007         2008         2009         2010  \\\n",
       "34   6529291.518  6697654.489  7553070.247  7557789.676  8776040.416   \n",
       "187  5697285.888  5789030.561  5614110.994  5263505.457  5395532.125   \n",
       "84   1303717.509  1407607.286  1568379.567  1738645.711  1719690.988   \n",
       "154  1669262.404  1666886.188  1714978.893  1574045.082  1670531.186   \n",
       "92   1234755.907  1251554.434  1211756.483  1105314.474  1172611.258   \n",
       "\n",
       "            2011          2012          2013          2014          2015  \n",
       "34   9733538.120  1.002857e+07  1.025801e+07  1.029193e+07  1.014500e+07  \n",
       "187  5270047.385  5.082000e+06  5.170360e+06  5.225413e+06  5.126913e+06  \n",
       "84   1836561.945  2.013788e+06  2.030972e+06  2.232730e+06  2.337749e+06  \n",
       "154  1763405.295  1.807244e+06  1.739427e+06  1.736985e+06  1.698213e+06  \n",
       "92   1190469.548  1.229622e+06  1.244616e+06  1.206674e+06  1.163803e+06  "
      ],
      "text/html": "<div>\n<style scoped>\n    .dataframe tbody tr th:only-of-type {\n        vertical-align: middle;\n    }\n\n    .dataframe tbody tr th {\n        vertical-align: top;\n    }\n\n    .dataframe thead th {\n        text-align: right;\n    }\n</style>\n<table border=\"1\" class=\"dataframe\">\n  <thead>\n    <tr style=\"text-align: right;\">\n      <th></th>\n      <th>Country Code</th>\n      <th>Country Name</th>\n      <th>Indicator Name</th>\n      <th>2000</th>\n      <th>2001</th>\n      <th>2002</th>\n      <th>2003</th>\n      <th>2004</th>\n      <th>2005</th>\n      <th>2006</th>\n      <th>2007</th>\n      <th>2008</th>\n      <th>2009</th>\n      <th>2010</th>\n      <th>2011</th>\n      <th>2012</th>\n      <th>2013</th>\n      <th>2014</th>\n      <th>2015</th>\n    </tr>\n  </thead>\n  <tbody>\n    <tr>\n      <th>34</th>\n      <td>CHN</td>\n      <td>China</td>\n      <td>CO2 emissions (kt)</td>\n      <td>3405179.867</td>\n      <td>3487566.356</td>\n      <td>3850269.326</td>\n      <td>4540417.061</td>\n      <td>5233538.733</td>\n      <td>5896957.705</td>\n      <td>6529291.518</td>\n      <td>6697654.489</td>\n      <td>7553070.247</td>\n      <td>7557789.676</td>\n      <td>8776040.416</td>\n      <td>9733538.120</td>\n      <td>1.002857e+07</td>\n      <td>1.025801e+07</td>\n      <td>1.029193e+07</td>\n      <td>1.014500e+07</td>\n    </tr>\n    <tr>\n      <th>187</th>\n      <td>USA</td>\n      <td>United States</td>\n      <td>CO2 emissions (kt)</td>\n      <td>5693684.894</td>\n      <td>5595794.329</td>\n      <td>5641309.133</td>\n      <td>5675701.926</td>\n      <td>5756075.232</td>\n      <td>5789727.291</td>\n      <td>5697285.888</td>\n      <td>5789030.561</td>\n      <td>5614110.994</td>\n      <td>5263505.457</td>\n      <td>5395532.125</td>\n      <td>5270047.385</td>\n      <td>5.082000e+06</td>\n      <td>5.170360e+06</td>\n      <td>5.225413e+06</td>\n      <td>5.126913e+06</td>\n    </tr>\n    <tr>\n      <th>84</th>\n      <td>IND</td>\n      <td>India</td>\n      <td>CO2 emissions (kt)</td>\n      <td>1031853.463</td>\n      <td>1041152.975</td>\n      <td>1054258.833</td>\n      <td>1099597.621</td>\n      <td>1154320.262</td>\n      <td>1222563.132</td>\n      <td>1303717.509</td>\n      <td>1407607.286</td>\n      <td>1568379.567</td>\n      <td>1738645.711</td>\n      <td>1719690.988</td>\n      <td>1836561.945</td>\n      <td>2.013788e+06</td>\n      <td>2.030972e+06</td>\n      <td>2.232730e+06</td>\n      <td>2.337749e+06</td>\n    </tr>\n    <tr>\n      <th>154</th>\n      <td>RUS</td>\n      <td>Russian Federation</td>\n      <td>CO2 emissions (kt)</td>\n      <td>1557899.281</td>\n      <td>1557506.912</td>\n      <td>1557085.207</td>\n      <td>1604242.827</td>\n      <td>1602115.967</td>\n      <td>1615089.813</td>\n      <td>1669262.404</td>\n      <td>1666886.188</td>\n      <td>1714978.893</td>\n      <td>1574045.082</td>\n      <td>1670531.186</td>\n      <td>1763405.295</td>\n      <td>1.807244e+06</td>\n      <td>1.739427e+06</td>\n      <td>1.736985e+06</td>\n      <td>1.698213e+06</td>\n    </tr>\n    <tr>\n      <th>92</th>\n      <td>JPN</td>\n      <td>Japan</td>\n      <td>CO2 emissions (kt)</td>\n      <td>1219281.167</td>\n      <td>1201331.202</td>\n      <td>1218980.473</td>\n      <td>1240953.137</td>\n      <td>1262394.086</td>\n      <td>1240945.803</td>\n      <td>1234755.907</td>\n      <td>1251554.434</td>\n      <td>1211756.483</td>\n      <td>1105314.474</td>\n      <td>1172611.258</td>\n      <td>1190469.548</td>\n      <td>1.229622e+06</td>\n      <td>1.244616e+06</td>\n      <td>1.206674e+06</td>\n      <td>1.163803e+06</td>\n    </tr>\n  </tbody>\n</table>\n</div>"
     },
     "metadata": {},
     "execution_count": 19
    }
   ],
   "source": [
    "# Slice top 20 countries with highest CO2 emissions \n",
    "top20_CO2df = data.nlargest(20, '2015')\n",
    "top20_CO2df.head(5)"
   ]
  },
  {
   "cell_type": "code",
   "execution_count": null,
   "metadata": {},
   "outputs": [],
   "source": [
    "# Store Top 20 country codes in a list to use as values when searching in GDP, Urban pop, and Renewable energy csv's\n"
   ]
  },
  {
   "cell_type": "code",
   "execution_count": null,
   "metadata": {},
   "outputs": [],
   "source": []
  },
  {
   "cell_type": "code",
   "execution_count": null,
   "metadata": {},
   "outputs": [],
   "source": []
  }
 ],
 "metadata": {
  "kernelspec": {
   "display_name": "Python 3",
   "language": "python",
   "name": "python3"
  },
  "language_info": {
   "codemirror_mode": {
    "name": "ipython",
    "version": 3
   },
   "file_extension": ".py",
   "mimetype": "text/x-python",
   "name": "python",
   "nbconvert_exporter": "python",
   "pygments_lexer": "ipython3",
   "version": "3.8.3-final"
  }
 },
 "nbformat": 4,
 "nbformat_minor": 4
}